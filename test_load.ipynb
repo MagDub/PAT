{
 "cells": [
  {
   "cell_type": "code",
   "execution_count": 27,
   "id": "f569b8e2-46aa-413c-8c79-9fe90f466799",
   "metadata": {},
   "outputs": [],
   "source": [
    "import csv\n",
    "import os"
   ]
  },
  {
   "cell_type": "code",
   "execution_count": 28,
   "id": "44928687-b1e2-4e2f-8577-083b2ad37fc6",
   "metadata": {},
   "outputs": [],
   "source": [
    "folder = './2. PAT/'\n",
    "files = os.listdir(folder)"
   ]
  },
  {
   "cell_type": "code",
   "execution_count": 29,
   "id": "a00b5a52-7d62-4b4a-917d-7b3f6c06494f",
   "metadata": {},
   "outputs": [
    {
     "data": {
      "text/plain": [
       "'MARS_237-PA_europ.log'"
      ]
     },
     "execution_count": 29,
     "metadata": {},
     "output_type": "execute_result"
    }
   ],
   "source": [
    "files[0]"
   ]
  },
  {
   "cell_type": "code",
   "execution_count": 30,
   "id": "a6f7c1c5-e793-4a05-964a-fe5f2155725d",
   "metadata": {},
   "outputs": [],
   "source": [
    "data = open(folder+files[0])"
   ]
  },
  {
   "cell_type": "code",
   "execution_count": 31,
   "id": "49eea831-3548-47b7-9b8c-1a5d777ea395",
   "metadata": {},
   "outputs": [
    {
     "data": {
      "text/plain": [
       "<_io.TextIOWrapper name='./2. PAT/MARS_237-PA_europ.log' mode='r' encoding='UTF-8'>"
      ]
     },
     "execution_count": 31,
     "metadata": {},
     "output_type": "execute_result"
    }
   ],
   "source": [
    "data"
   ]
  },
  {
   "cell_type": "code",
   "execution_count": 32,
   "id": "f2a249a1-6254-4422-b33d-4edbf40aa8a7",
   "metadata": {},
   "outputs": [],
   "source": [
    "# csv_reader\n",
    "csv_data = csv.reader(data, delimiter='\\t')"
   ]
  },
  {
   "cell_type": "code",
   "execution_count": 33,
   "id": "aaac42fa-5924-4fc1-bf5c-dd25d31e4ae4",
   "metadata": {},
   "outputs": [],
   "source": [
    "# reformat it into a python data list\n",
    "data_lines = list(csv_data)"
   ]
  },
  {
   "cell_type": "code",
   "execution_count": 94,
   "id": "19b6c4c1-15e8-4eaa-9adf-6f6086de2668",
   "metadata": {},
   "outputs": [],
   "source": [
    "all_events = []\n",
    "for line in data_lines[5:350]:\n",
    "    all_events.append(line[2])"
   ]
  },
  {
   "cell_type": "code",
   "execution_count": 95,
   "id": "046b8d1c-30a9-44de-a737-a5c614f40e0e",
   "metadata": {},
   "outputs": [
    {
     "data": {
      "text/plain": [
       "{'Picture', 'Pulse', 'Response'}"
      ]
     },
     "execution_count": 95,
     "metadata": {},
     "output_type": "execute_result"
    }
   ],
   "source": [
    "set(all_events)"
   ]
  },
  {
   "cell_type": "code",
   "execution_count": null,
   "id": "86397e0b-f0d5-4c1b-8043-34693bdd91a8",
   "metadata": {},
   "outputs": [],
   "source": []
  }
 ],
 "metadata": {
  "kernelspec": {
   "display_name": "Python 3 (ipykernel)",
   "language": "python",
   "name": "python3"
  },
  "language_info": {
   "codemirror_mode": {
    "name": "ipython",
    "version": 3
   },
   "file_extension": ".py",
   "mimetype": "text/x-python",
   "name": "python",
   "nbconvert_exporter": "python",
   "pygments_lexer": "ipython3",
   "version": "3.7.4"
  }
 },
 "nbformat": 4,
 "nbformat_minor": 5
}
