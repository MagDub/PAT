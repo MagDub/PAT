{
 "cells": [
  {
   "cell_type": "code",
   "execution_count": 1,
   "id": "243982d9-7c77-43d7-a746-b2b976fabc01",
   "metadata": {},
   "outputs": [],
   "source": [
    "# On terminal: conda activate python38"
   ]
  },
  {
   "cell_type": "code",
   "execution_count": 8,
   "id": "bb5ab949-f34a-4ad2-97dc-8dad2820f9f0",
   "metadata": {},
   "outputs": [],
   "source": [
    "import pandas as pd\n",
    "import numpy as np\n",
    "import matplotlib.pyplot as plt\n",
    "from matplotlib import cm\n",
    "import ipynb.fs.defs.functions as fct\n",
    "import pickle\n",
    "\n",
    "import warnings\n",
    "warnings.filterwarnings(\"error\")"
   ]
  },
  {
   "cell_type": "code",
   "execution_count": 9,
   "id": "6d60e517-0d2f-46ae-8ea8-d2bf28be6289",
   "metadata": {},
   "outputs": [],
   "source": [
    "# Load IDs\n",
    "with open('uniqueIDs.pkl', 'rb') as f:\n",
    "    uniqueIDs = pickle.load(f)"
   ]
  },
  {
   "cell_type": "markdown",
   "id": "8195244b-7d45-4d16-9ef0-8c8ee3056347",
   "metadata": {},
   "source": [
    "# Fit mod1 for each participant"
   ]
  },
  {
   "cell_type": "code",
   "execution_count": 14,
   "id": "5b2e6fee-e121-48e5-8842-097644839b0b",
   "metadata": {},
   "outputs": [],
   "source": [
    "# Model settings\n",
    "\n",
    "# Functions\n",
    "value_fct = fct.rescorla_wagner\n",
    "dec_fct = fct.my_softmax\n",
    "\n",
    "# Store everything\n",
    "mod_info = {}\n",
    "mod_info['name'] = 'model1'\n",
    "mod_info['value_fct'] = value_fct.__name__\n",
    "mod_info['dec_fct'] = dec_fct.__name__\n",
    "mod_info['param_names'] = ['v0', 'alpha', 'beta']\n",
    "#print(mod['value_fct'].__name__)\n",
    "\n",
    "# save\n",
    "all_users_folder = 'data/all_users/mod1/'\n",
    "file_name = all_users_folder+'mod_parameters.pkl'\n",
    "with open(file_name, 'wb') as f:\n",
    "    pickle.dump(mod_info, f)"
   ]
  },
  {
   "cell_type": "code",
   "execution_count": 15,
   "id": "c4051fec-e341-47df-9ee5-66867ca7c8f3",
   "metadata": {},
   "outputs": [
    {
     "name": "stderr",
     "output_type": "stream",
     "text": [
      "Exception ignored in: <function Socket.__del__ at 0x7fae3075f550>\n",
      "Traceback (most recent call last):\n",
      "  File \"/Users/magdadubois/opt/anaconda3/envs/python38/lib/python3.8/site-packages/zmq/sugar/socket.py\", line 97, in __del__\n",
      "    warnings.warn(\n",
      "ResourceWarning: unclosed socket <zmq.Socket(zmq.PUSH) at 0x7fae33357c40>\n"
     ]
    }
   ],
   "source": [
    "ID = '001'\n",
    "\n",
    "user_folder = 'data/user_' + ID + '/'\n",
    "df2_cf = pd.read_pickle(user_folder + 'df2_cf.pkl')\n",
    "isHit_all_cues, fbs_all_cues, trialNo_all_cues = fct.extract_hits_fbs(df2_cf)"
   ]
  },
  {
   "cell_type": "code",
   "execution_count": 12,
   "id": "503779d8-b238-4a83-af74-ff9a53c761cd",
   "metadata": {},
   "outputs": [],
   "source": [
    "run_ = True\n",
    "\n",
    "# Folder\n",
    "all_users_folder = 'data/all_users/mod1/'\n",
    "    \n",
    "if run_:\n",
    "    \n",
    "    # Parameter range for initial guess \n",
    "    # ['v0', 'alpha', 'beta']\n",
    "    param_lower_bound = [-10, 0, 0]\n",
    "    param_upper_bound = [ 10, 1, 3]\n",
    "\n",
    "    # Fit\n",
    "    all_users = {}\n",
    "    p_hit_per_trial = pd.DataFrame([])\n",
    "    ev_per_trial = pd.DataFrame([])\n",
    "    for n_part,ID in enumerate(uniqueIDs): \n",
    "\n",
    "        # Get data\n",
    "        user_folder = 'data/user_' + ID + '/'\n",
    "        df2_cf = pd.read_pickle(user_folder + 'df2_cf.pkl')\n",
    "        isHit_all_cues, fbs_all_cues, trialNo_all_cues = fct.extract_hits_fbs(df2_cf)\n",
    "\n",
    "        # Create a new Model object\n",
    "        mod = fct.Model(mod_name = mod_info['name'],\n",
    "                     value_fct = value_fct, \n",
    "                     dec_fct = dec_fct, \n",
    "                     param_names = mod_info['param_names'])\n",
    "\n",
    "        # Input data to model\n",
    "        mod.set_data(ID, fbs_all_cues, isHit_all_cues, trialNo_all_cues)\n",
    "\n",
    "        # Fit model\n",
    "        mod.fit(param_lower_bound, param_upper_bound, n_iterations=5)\n",
    "\n",
    "        # Nested dictionnary user data\n",
    "        all_users[n_part] = {}\n",
    "        all_users[n_part]['ID']=mod.ID\n",
    "        all_users[n_part]['nLL']=mod.nLL\n",
    "        all_users[n_part]['Ntrials']=mod.Ntrials\n",
    "        all_users[n_part]['Nparams']=len(mod.param_names)\n",
    "        for i in range(0,len(mod.param_names)):\n",
    "            all_users[n_part][mod.param_names[i]]=mod.param_values[i]\n",
    "        \n",
    "        # Concatenated model predictions: p hit\n",
    "        tmp = pd.DataFrame(mod.p_hit).transpose()\n",
    "        tmp.columns = tmp.columns+1\n",
    "        tmp = tmp.reset_index().rename(columns={'index': 'Cue'})\n",
    "        tmp.insert(0,'ID',ID)\n",
    "        p_hit_per_trial = pd.concat([tmp, p_hit_per_trial], axis=0)\n",
    "        \n",
    "        # Concatenated model predictions: EVs\n",
    "        tmp = pd.DataFrame(mod.v).transpose()\n",
    "        tmp.columns = tmp.columns+1\n",
    "        tmp = tmp.reset_index().rename(columns={'index': 'Cue'})\n",
    "        tmp.insert(0,'ID',ID)\n",
    "        ev_per_trial = pd.concat([tmp, ev_per_trial], axis=0)\n",
    "    \n",
    "    # Save mod LLs and parameter values\n",
    "    mod_fit = pd.DataFrame(all_users).transpose()\n",
    "    mod_fit.to_pickle(all_users_folder+'mod_param_fits.pkl')\n",
    "    \n",
    "    # Save mod predictions\n",
    "    p_hit_per_trial = p_hit_per_trial.sort_values(by='ID').reset_index(drop=True)\n",
    "    p_hit_per_trial.to_pickle(all_users_folder+'mod_p_hit_per_trial.pkl')\n",
    "    ev_per_trial = ev_per_trial.sort_values(by='ID').reset_index(drop=True)\n",
    "    ev_per_trial.to_pickle(all_users_folder+'mod_ev_per_trial.pkl')\n",
    "    "
   ]
  },
  {
   "cell_type": "code",
   "execution_count": 13,
   "id": "d3b6d5bb-41ea-478a-9cc6-28f4f6a8c6ba",
   "metadata": {},
   "outputs": [
    {
     "data": {
      "text/html": [
       "<div>\n",
       "<style scoped>\n",
       "    .dataframe tbody tr th:only-of-type {\n",
       "        vertical-align: middle;\n",
       "    }\n",
       "\n",
       "    .dataframe tbody tr th {\n",
       "        vertical-align: top;\n",
       "    }\n",
       "\n",
       "    .dataframe thead th {\n",
       "        text-align: right;\n",
       "    }\n",
       "</style>\n",
       "<table border=\"1\" class=\"dataframe\">\n",
       "  <thead>\n",
       "    <tr style=\"text-align: right;\">\n",
       "      <th></th>\n",
       "      <th>ID</th>\n",
       "      <th>nLL</th>\n",
       "      <th>Ntrials</th>\n",
       "      <th>Nparams</th>\n",
       "      <th>v0</th>\n",
       "      <th>alpha</th>\n",
       "      <th>beta</th>\n",
       "    </tr>\n",
       "  </thead>\n",
       "  <tbody>\n",
       "    <tr>\n",
       "      <th>0</th>\n",
       "      <td>001</td>\n",
       "      <td>54.352932</td>\n",
       "      <td>112</td>\n",
       "      <td>3</td>\n",
       "      <td>-0.470614</td>\n",
       "      <td>0.015483</td>\n",
       "      <td>3.0</td>\n",
       "    </tr>\n",
       "    <tr>\n",
       "      <th>1</th>\n",
       "      <td>003</td>\n",
       "      <td>53.289788</td>\n",
       "      <td>112</td>\n",
       "      <td>3</td>\n",
       "      <td>0.141746</td>\n",
       "      <td>0.026828</td>\n",
       "      <td>3.0</td>\n",
       "    </tr>\n",
       "    <tr>\n",
       "      <th>2</th>\n",
       "      <td>006</td>\n",
       "      <td>54.597407</td>\n",
       "      <td>112</td>\n",
       "      <td>3</td>\n",
       "      <td>0.564168</td>\n",
       "      <td>0.195576</td>\n",
       "      <td>0.979622</td>\n",
       "    </tr>\n",
       "    <tr>\n",
       "      <th>3</th>\n",
       "      <td>007</td>\n",
       "      <td>50.411542</td>\n",
       "      <td>112</td>\n",
       "      <td>3</td>\n",
       "      <td>0.626299</td>\n",
       "      <td>0.041902</td>\n",
       "      <td>1.985282</td>\n",
       "    </tr>\n",
       "    <tr>\n",
       "      <th>4</th>\n",
       "      <td>008</td>\n",
       "      <td>44.242888</td>\n",
       "      <td>112</td>\n",
       "      <td>3</td>\n",
       "      <td>0.343681</td>\n",
       "      <td>0.033001</td>\n",
       "      <td>3.0</td>\n",
       "    </tr>\n",
       "    <tr>\n",
       "      <th>...</th>\n",
       "      <td>...</td>\n",
       "      <td>...</td>\n",
       "      <td>...</td>\n",
       "      <td>...</td>\n",
       "      <td>...</td>\n",
       "      <td>...</td>\n",
       "      <td>...</td>\n",
       "    </tr>\n",
       "    <tr>\n",
       "      <th>165</th>\n",
       "      <td>453</td>\n",
       "      <td>51.765799</td>\n",
       "      <td>112</td>\n",
       "      <td>3</td>\n",
       "      <td>8.059598</td>\n",
       "      <td>0.294032</td>\n",
       "      <td>0.789652</td>\n",
       "    </tr>\n",
       "    <tr>\n",
       "      <th>166</th>\n",
       "      <td>462</td>\n",
       "      <td>45.068864</td>\n",
       "      <td>112</td>\n",
       "      <td>3</td>\n",
       "      <td>0.080988</td>\n",
       "      <td>0.036538</td>\n",
       "      <td>3.0</td>\n",
       "    </tr>\n",
       "    <tr>\n",
       "      <th>167</th>\n",
       "      <td>469</td>\n",
       "      <td>10.775145</td>\n",
       "      <td>112</td>\n",
       "      <td>3</td>\n",
       "      <td>0.124262</td>\n",
       "      <td>0.128403</td>\n",
       "      <td>3.0</td>\n",
       "    </tr>\n",
       "    <tr>\n",
       "      <th>168</th>\n",
       "      <td>470</td>\n",
       "      <td>50.640691</td>\n",
       "      <td>112</td>\n",
       "      <td>3</td>\n",
       "      <td>0.162665</td>\n",
       "      <td>0.027244</td>\n",
       "      <td>3.0</td>\n",
       "    </tr>\n",
       "    <tr>\n",
       "      <th>169</th>\n",
       "      <td>471</td>\n",
       "      <td>71.650562</td>\n",
       "      <td>112</td>\n",
       "      <td>3</td>\n",
       "      <td>-1.397486</td>\n",
       "      <td>0.073666</td>\n",
       "      <td>0.582719</td>\n",
       "    </tr>\n",
       "  </tbody>\n",
       "</table>\n",
       "<p>170 rows × 7 columns</p>\n",
       "</div>"
      ],
      "text/plain": [
       "      ID        nLL Ntrials Nparams        v0     alpha      beta\n",
       "0    001  54.352932     112       3 -0.470614  0.015483       3.0\n",
       "1    003  53.289788     112       3  0.141746  0.026828       3.0\n",
       "2    006  54.597407     112       3  0.564168  0.195576  0.979622\n",
       "3    007  50.411542     112       3  0.626299  0.041902  1.985282\n",
       "4    008  44.242888     112       3  0.343681  0.033001       3.0\n",
       "..   ...        ...     ...     ...       ...       ...       ...\n",
       "165  453  51.765799     112       3  8.059598  0.294032  0.789652\n",
       "166  462  45.068864     112       3  0.080988  0.036538       3.0\n",
       "167  469  10.775145     112       3  0.124262  0.128403       3.0\n",
       "168  470  50.640691     112       3  0.162665  0.027244       3.0\n",
       "169  471  71.650562     112       3 -1.397486  0.073666  0.582719\n",
       "\n",
       "[170 rows x 7 columns]"
      ]
     },
     "execution_count": 13,
     "metadata": {},
     "output_type": "execute_result"
    }
   ],
   "source": [
    "mod_fit"
   ]
  },
  {
   "cell_type": "code",
   "execution_count": 13,
   "id": "2be7bc74-8dac-4aaf-b546-055f0184141e",
   "metadata": {},
   "outputs": [],
   "source": [
    "# Input softmax\n",
    "vt_all_cues = mod.v"
   ]
  },
  {
   "cell_type": "code",
   "execution_count": 14,
   "id": "caf87431-9081-4d13-8450-2eaef35ec4f7",
   "metadata": {},
   "outputs": [
    {
     "data": {
      "text/plain": [
       "{'HR': array([0.1959437 , 0.23907957, 0.25098667, 0.21270819, 0.20835578,\n",
       "        0.20413521, 0.24836901, 0.26042999, 0.2210042 , 0.26735808,\n",
       "        0.31860058, 0.37374349, 0.38657121, 0.44464059, 0.50333571,\n",
       "        0.56104051, 0.61629131, 0.62549765, 0.56776981, 0.57810146,\n",
       "        0.63236056, 0.68270027, 0.66993603, 0.67773564, 0.62237132,\n",
       "        0.67351784, 0.72014413, 0.70766952]),\n",
       " 'LR': array([0.1959437 , 0.23907957, 0.25098667, 0.26308831, 0.3139361 ,\n",
       "        0.26856286, 0.22817188, 0.27537026, 0.32732386, 0.34013085,\n",
       "        0.33205613, 0.34487841, 0.35772673, 0.41485432, 0.40490752,\n",
       "        0.41759689, 0.40758795, 0.35425097, 0.30505119, 0.29795393,\n",
       "        0.31059478, 0.36522775, 0.42264194, 0.48129425, 0.49318817,\n",
       "        0.55117578, 0.60694565, 0.61638064]),\n",
       " 'HP': array([0.1959437 , 0.16489736, 0.20345084, 0.17136537, 0.18166164,\n",
       "        0.15263589, 0.12788552, 0.16005606, 0.13419193, 0.14318613,\n",
       "        0.11987398, 0.10019988, 0.09908171, 0.09799172, 0.09692907,\n",
       "        0.12292521, 0.10276797, 0.08583844, 0.09258572, 0.07731688,\n",
       "        0.06457134, 0.06426641, 0.05370367, 0.06962901, 0.06922129,\n",
       "        0.06882205, 0.05749502, 0.06255636]),\n",
       " 'LP': array([0.1959437 , 0.23907957, 0.20228781, 0.1982509 , 0.19433602,\n",
       "        0.20528087, 0.17294453, 0.16978935, 0.16672792, 0.13987436,\n",
       "        0.11707138, 0.11551276, 0.12372063, 0.10343778, 0.13079927,\n",
       "        0.12886449, 0.12698355, 0.13568553, 0.16928847, 0.20853151,\n",
       "        0.17575196, 0.17251313, 0.14481103, 0.12125003, 0.1195784 ,\n",
       "        0.0999512 , 0.10742781, 0.10612431])}"
      ]
     },
     "execution_count": 14,
     "metadata": {},
     "output_type": "execute_result"
    }
   ],
   "source": [
    "# output softmax\n",
    "mod.p_hit"
   ]
  },
  {
   "cell_type": "code",
   "execution_count": 33,
   "id": "1ea23c32-0268-4ea7-8b24-6c9e0c499aca",
   "metadata": {},
   "outputs": [],
   "source": [
    "import scipy"
   ]
  },
  {
   "cell_type": "code",
   "execution_count": 34,
   "id": "28fe80cf-da2b-4a47-bed4-096e947c0fa9",
   "metadata": {},
   "outputs": [],
   "source": [
    "beta = 2\n",
    "\n",
    "p_hit_all_cues = dict.fromkeys(vt_all_cues.keys())\n",
    "\n",
    "for cue, vts in vt_all_cues.items():\n",
    "    p_hit = []\n",
    "    for vt in vts:\n",
    "        Q_hit = vt * beta\n",
    "        Q_miss = 0\n",
    "        probs = scipy.special.softmax([Q_hit, Q_miss])\n",
    "        p_hit.append(probs[0])\n",
    "    \n",
    "    p_hit_all_cues[cue] = np.array(p_hit)\n",
    "    "
   ]
  },
  {
   "cell_type": "code",
   "execution_count": 35,
   "id": "48c9f04d-cf5c-4c52-847d-6a8d453a922d",
   "metadata": {},
   "outputs": [
    {
     "data": {
      "text/plain": [
       "{'HR': array([0.28065237, 0.31608519, 0.32543514, 0.29474439, 0.2911284 ,\n",
       "        0.28759408, 0.32339351, 0.33273891, 0.3015595 , 0.33803898,\n",
       "        0.37594235, 0.41480735, 0.42364399, 0.46300951, 0.50222383,\n",
       "        0.5408067 , 0.57832247, 0.58466809, 0.54533478, 0.55230536,\n",
       "        0.58942076, 0.62499542, 0.61584058, 0.62142242, 0.58250949,\n",
       "        0.61839927, 0.65251616, 0.64322628]),\n",
       " 'LR': array([0.28065237, 0.31608519, 0.32543514, 0.33477822, 0.37257459,\n",
       "        0.33895583, 0.30737041, 0.34411051, 0.38220271, 0.39131038,\n",
       "        0.3855792 , 0.39466311, 0.40367807, 0.44292758, 0.43617376,\n",
       "        0.44478506, 0.43799651, 0.40124742, 0.36611833, 0.36091997,\n",
       "        0.37015309, 0.40890431, 0.44819701, 0.48752626, 0.49545863,\n",
       "        0.53418366, 0.57191311, 0.57838389]),\n",
       " 'HP': array([0.28065237, 0.2532246 , 0.28701833, 0.25909949, 0.26826953,\n",
       "        0.2418219 , 0.2175746 , 0.24876546, 0.22392672, 0.23277338,\n",
       "        0.20931114, 0.18795745, 0.18669249, 0.18545353, 0.18423998,\n",
       "        0.21248504, 0.19084012, 0.17121695, 0.17921974, 0.16071527,\n",
       "        0.1440371 , 0.14362174, 0.12867601, 0.15080925, 0.15027123,\n",
       "        0.14974308, 0.1341722 , 0.14127677]),\n",
       " 'LP': array([0.28065237, 0.31608519, 0.28603816, 0.28261883, 0.27927675,\n",
       "        0.28855623, 0.26052007, 0.25767642, 0.25489668, 0.22954375,\n",
       "        0.20636557, 0.20471452, 0.21330695, 0.19158691, 0.22052547,\n",
       "        0.21856917, 0.21665541, 0.22541263, 0.25722303, 0.29127496,\n",
       "        0.26303269, 0.26013252, 0.23434657, 0.21074669, 0.20900187,\n",
       "        0.18767665, 0.19599355, 0.19456173])}"
      ]
     },
     "execution_count": 35,
     "metadata": {},
     "output_type": "execute_result"
    }
   ],
   "source": [
    "p_hit_all_cues"
   ]
  },
  {
   "cell_type": "code",
   "execution_count": null,
   "id": "5c230400-9e7c-4b4e-9036-297c215924b9",
   "metadata": {},
   "outputs": [],
   "source": []
  },
  {
   "cell_type": "code",
   "execution_count": 14,
   "id": "058a7e10-2892-4862-bc73-26b83859b200",
   "metadata": {},
   "outputs": [
    {
     "data": {
      "text/plain": [
       "-0.4706139660184445"
      ]
     },
     "execution_count": 14,
     "metadata": {},
     "output_type": "execute_result"
    }
   ],
   "source": [
    "mod.v['HR'][0]"
   ]
  },
  {
   "cell_type": "code",
   "execution_count": 16,
   "id": "b01ac76b-10ac-48c4-9d56-fc4e96aa2435",
   "metadata": {},
   "outputs": [
    {
     "data": {
      "text/plain": [
       "[-0.4706139660184445, 0]"
      ]
     },
     "execution_count": 16,
     "metadata": {},
     "output_type": "execute_result"
    }
   ],
   "source": [
    "x = [mod.v['HR'][0], 0]\n",
    "x"
   ]
  },
  {
   "cell_type": "code",
   "execution_count": 20,
   "id": "770d5975-8620-4b3b-83c6-b122f4d20cc2",
   "metadata": {},
   "outputs": [],
   "source": [
    "from scipy.special import softmax"
   ]
  },
  {
   "cell_type": "code",
   "execution_count": 21,
   "id": "4d67dbb9-7be7-4267-9da8-ce38a794e9e8",
   "metadata": {},
   "outputs": [
    {
     "data": {
      "text/plain": [
       "array([0.38447094, 0.61552906])"
      ]
     },
     "execution_count": 21,
     "metadata": {},
     "output_type": "execute_result"
    }
   ],
   "source": [
    "softmax(x)"
   ]
  },
  {
   "cell_type": "code",
   "execution_count": 26,
   "id": "33c548ec-9251-4f45-b99a-bf7b1ae50717",
   "metadata": {},
   "outputs": [
    {
     "data": {
      "text/plain": [
       "array([0.13210704, 0.86789296])"
      ]
     },
     "execution_count": 26,
     "metadata": {},
     "output_type": "execute_result"
    }
   ],
   "source": [
    "beta = 4\n",
    "Q_hit = mod.v['HR'][0] * beta\n",
    "Q_miss = 0\n",
    "softmax([Q_hit, Q_miss])\n"
   ]
  },
  {
   "cell_type": "code",
   "execution_count": null,
   "id": "a329b2c8-79c1-4304-b157-a1cafaf1b0b9",
   "metadata": {},
   "outputs": [],
   "source": [
    "    # Free parameters\n",
    "    beta = param_values[param_names.index('beta')]\n",
    "    \n",
    "    # Initialise empty dicitonnary\n",
    "    p_hit_all_cues = dict.fromkeys(vt_all_cues.keys())\n",
    "    \n",
    "    # Iterate over cuesss\n",
    "    for cue, vt in vt_all_cues.items():\n",
    "                \n",
    "        x = beta*vt\n",
    "        \n",
    "        try:\n",
    "            p_hit =  np.exp(x)/(np.exp(x)+1)\n",
    "            \n",
    "        except RuntimeWarning:\n",
    "            # to avoid overflow errors\n",
    "            expon_bound = 700\n",
    "            p_hit = [1 if el>expon_bound else (np.exp(el)/(np.exp(el)+1)) for el in x]\n",
    "            \n",
    "        p_hit_all_cues[cue] = p_hit\n",
    "    \n",
    "    return p_hit_all_cues"
   ]
  }
 ],
 "metadata": {
  "kernelspec": {
   "display_name": "Python 3 (ipykernel)",
   "language": "python",
   "name": "python3"
  },
  "language_info": {
   "codemirror_mode": {
    "name": "ipython",
    "version": 3
   },
   "file_extension": ".py",
   "mimetype": "text/x-python",
   "name": "python",
   "nbconvert_exporter": "python",
   "pygments_lexer": "ipython3",
   "version": "3.8.12"
  }
 },
 "nbformat": 4,
 "nbformat_minor": 5
}
