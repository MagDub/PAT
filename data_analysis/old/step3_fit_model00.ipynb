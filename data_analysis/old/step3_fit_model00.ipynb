{
 "cells": [
  {
   "cell_type": "code",
   "execution_count": 1,
   "id": "243982d9-7c77-43d7-a746-b2b976fabc01",
   "metadata": {},
   "outputs": [],
   "source": [
    "# On terminal: conda activate python38"
   ]
  },
  {
   "cell_type": "code",
   "execution_count": null,
   "id": "a1ee167e-9ecb-4462-a2de-a85fe73b6589",
   "metadata": {},
   "outputs": [],
   "source": []
  },
  {
   "cell_type": "code",
   "execution_count": 12,
   "id": "bb5ab949-f34a-4ad2-97dc-8dad2820f9f0",
   "metadata": {},
   "outputs": [],
   "source": [
    "import pandas as pd\n",
    "import numpy as np\n",
    "import matplotlib.pyplot as plt\n",
    "from matplotlib import cm\n",
    "import ipynb.fs.defs.functions as fct\n",
    "import pickle\n",
    "import scipy\n",
    "\n",
    "import warnings\n",
    "warnings.filterwarnings(\"error\")"
   ]
  },
  {
   "cell_type": "code",
   "execution_count": 13,
   "id": "6d60e517-0d2f-46ae-8ea8-d2bf28be6289",
   "metadata": {},
   "outputs": [],
   "source": [
    "# Load IDs\n",
    "with open('uniqueIDs.pkl', 'rb') as f:\n",
    "    uniqueIDs = pickle.load(f)"
   ]
  },
  {
   "cell_type": "markdown",
   "id": "8195244b-7d45-4d16-9ef0-8c8ee3056347",
   "metadata": {},
   "source": [
    "# Fit mod0 for each participant"
   ]
  },
  {
   "cell_type": "code",
   "execution_count": 14,
   "id": "5b2e6fee-e121-48e5-8842-097644839b0b",
   "metadata": {},
   "outputs": [],
   "source": [
    "# Model settings\n",
    "\n",
    "# Functions\n",
    "value_fct = fct.rescorla_wagner_noV0\n",
    "dec_fct = fct.my_softmax\n",
    "\n",
    "# Store everything\n",
    "mod_info = {}\n",
    "mod_info['name'] = 'model0'\n",
    "mod_info['value_fct'] = value_fct.__name__\n",
    "mod_info['dec_fct'] = dec_fct.__name__\n",
    "mod_info['param_names'] = ['alpha', 'beta']\n",
    "#print(mod['value_fct'].__name__)\n",
    "\n",
    "# save\n",
    "all_users_folder = 'data/all_users/mod0/'\n",
    "file_name = all_users_folder+'mod_parameters.pkl'\n",
    "with open(file_name, 'wb') as f:\n",
    "    pickle.dump(mod_info, f)"
   ]
  },
  {
   "cell_type": "code",
   "execution_count": 17,
   "id": "503779d8-b238-4a83-af74-ff9a53c761cd",
   "metadata": {},
   "outputs": [],
   "source": [
    "run_ = True\n",
    "\n",
    "# Folder\n",
    "all_users_folder = 'data/all_users/mod0/'\n",
    "    \n",
    "if run_:\n",
    "    \n",
    "    # Parameter range for initial guess \n",
    "    # ['alpha', 'beta']\n",
    "    param_lower_bound = [0, 0]\n",
    "    param_upper_bound = [1, 10]\n",
    "\n",
    "    # Fit\n",
    "    all_users = {}\n",
    "    p_hit_per_trial = pd.DataFrame([])\n",
    "    ev_per_trial = pd.DataFrame([])\n",
    "    \n",
    "    for n_part,ID in enumerate(uniqueIDs): \n",
    "\n",
    "        # Get data\n",
    "        user_folder = 'data/user_' + ID + '/'\n",
    "        df2_cf = pd.read_pickle(user_folder + 'df2_cf.pkl')\n",
    "        isHit_all_cues, fbs_all_cues, trialNo_all_cues = fct.extract_hits_fbs(df2_cf)\n",
    "\n",
    "        # Create a new Model object\n",
    "        mod = fct.Model(mod_name = mod_info['name'],\n",
    "                     value_fct = value_fct, \n",
    "                     dec_fct = dec_fct, \n",
    "                     param_names = mod_info['param_names'])\n",
    "\n",
    "        # Input data to model\n",
    "        mod.set_data(ID, fbs_all_cues, isHit_all_cues, trialNo_all_cues)\n",
    "\n",
    "        # Fit model\n",
    "        mod.fit(param_lower_bound, param_upper_bound, n_iterations=5)\n",
    "\n",
    "        # Nested dictionnary user data\n",
    "        all_users[n_part] = {}\n",
    "        all_users[n_part]['ID']=mod.ID\n",
    "        all_users[n_part]['nLL']=mod.nLL\n",
    "        all_users[n_part]['Ntrials']=mod.Ntrials\n",
    "        all_users[n_part]['Nparams']=len(mod.param_names)\n",
    "        \n",
    "        for i in range(0,len(mod.param_names)):\n",
    "            all_users[n_part][mod.param_names[i]]=mod.param_values[i]\n",
    "        \n",
    "        # Concatenated model predictions: p hit\n",
    "        tmp = pd.DataFrame(mod.p_hit).transpose()\n",
    "        tmp.columns = tmp.columns+1\n",
    "        tmp = tmp.reset_index().rename(columns={'index': 'Cue'})\n",
    "        tmp.insert(0,'ID',ID)\n",
    "        p_hit_per_trial = pd.concat([tmp, p_hit_per_trial], axis=0)\n",
    "        \n",
    "        # Concatenated model predictions: EVs\n",
    "        tmp = pd.DataFrame(mod.v).transpose()\n",
    "        tmp.columns = tmp.columns+1\n",
    "        tmp = tmp.reset_index().rename(columns={'index': 'Cue'})\n",
    "        tmp.insert(0,'ID',ID)\n",
    "        ev_per_trial = pd.concat([tmp, ev_per_trial], axis=0)\n",
    "    \n",
    "    # Save mod LLs and parameter values\n",
    "    mod_fit = pd.DataFrame(all_users).transpose()\n",
    "    mod_fit.to_pickle(all_users_folder+'mod_param_fits.pkl')\n",
    "    \n",
    "    # Save mod predictions\n",
    "    p_hit_per_trial = p_hit_per_trial.sort_values(by='ID').reset_index(drop=True)\n",
    "    p_hit_per_trial.to_pickle(all_users_folder+'mod_p_hit_per_trial.pkl')\n",
    "    ev_per_trial = ev_per_trial.sort_values(by='ID').reset_index(drop=True)\n",
    "    ev_per_trial.to_pickle(all_users_folder+'mod_ev_per_trial.pkl')\n",
    "    "
   ]
  },
  {
   "cell_type": "code",
   "execution_count": 18,
   "id": "5f317104-e6ed-4749-bd1a-c2785a395b88",
   "metadata": {},
   "outputs": [
    {
     "data": {
      "text/plain": [
       "{'HR': array([ 5.        ,  2.80408727, -8.42741892,  5.27375638, -7.04238537,\n",
       "         6.05050737, -2.60676987,  0.53807796,  0.30176351,  4.16923424,\n",
       "         2.33817933, -4.68870822,  3.37049059, -2.10977005, -7.18319587,\n",
       "        -0.02846162,         nan,         nan, -0.01596177,         nan,\n",
       "                nan,         nan,         nan,         nan,         nan,\n",
       "                nan,         nan,         nan]),\n",
       " 'LR': array([-1.        ,         nan,         nan,         nan,         nan,\n",
       "                nan,         nan,         nan,         nan,         nan,\n",
       "                nan,         nan,         nan,         nan,  1.43918255,\n",
       "         4.80711869,  2.69591606, -2.48808322, -1.39536049, -2.78254252,\n",
       "         0.43950159, -5.75351984,  2.77332565,         nan, -0.44467057,\n",
       "        -4.24937902,  7.61687408,         nan]),\n",
       " 'HP': array([-5.        ,         nan,         nan,         nan,         nan,\n",
       "                nan,         nan,         nan,         nan,         nan,\n",
       "                nan,         nan,         nan,         nan, -2.80408727,\n",
       "                nan,         nan,         nan,         nan,         nan,\n",
       "                nan,         nan,         nan,         nan,         nan,\n",
       "                nan,         nan,         nan]),\n",
       " 'LP': array([-5.        ,         nan,         nan,         nan,         nan,\n",
       "                nan,         nan,         nan,         nan,         nan,\n",
       "                nan,         nan,         nan,         nan,  7.19591273,\n",
       "        -5.96440654,  0.65505671,  0.36736724, -3.79397404,         nan,\n",
       "         3.87227314,  0.17163836, -3.90374221,  1.81071323,  3.01547958,\n",
       "        -4.30886642,         nan,         nan])}"
      ]
     },
     "execution_count": 18,
     "metadata": {},
     "output_type": "execute_result"
    }
   ],
   "source": [
    "mod.PEs"
   ]
  },
  {
   "cell_type": "code",
   "execution_count": null,
   "id": "d3a5fbc7-0cf3-4c73-85cb-32129d70e47c",
   "metadata": {},
   "outputs": [],
   "source": []
  },
  {
   "cell_type": "code",
   "execution_count": null,
   "id": "abfc5f7b-f10f-426e-bc43-a84f988fa513",
   "metadata": {},
   "outputs": [],
   "source": []
  },
  {
   "cell_type": "code",
   "execution_count": null,
   "id": "7c5f3bb8-8131-4331-b2bb-8f4f480fcda8",
   "metadata": {},
   "outputs": [],
   "source": []
  }
 ],
 "metadata": {
  "kernelspec": {
   "display_name": "Python 3 (ipykernel)",
   "language": "python",
   "name": "python3"
  },
  "language_info": {
   "codemirror_mode": {
    "name": "ipython",
    "version": 3
   },
   "file_extension": ".py",
   "mimetype": "text/x-python",
   "name": "python",
   "nbconvert_exporter": "python",
   "pygments_lexer": "ipython3",
   "version": "3.8.12"
  }
 },
 "nbformat": 4,
 "nbformat_minor": 5
}
