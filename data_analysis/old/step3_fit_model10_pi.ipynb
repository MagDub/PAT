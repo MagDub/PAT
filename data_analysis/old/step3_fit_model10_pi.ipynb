{
 "cells": [
  {
   "cell_type": "code",
   "execution_count": 1,
   "id": "243982d9-7c77-43d7-a746-b2b976fabc01",
   "metadata": {},
   "outputs": [],
   "source": [
    "# On terminal: conda activate python38"
   ]
  },
  {
   "cell_type": "code",
   "execution_count": 2,
   "id": "bb5ab949-f34a-4ad2-97dc-8dad2820f9f0",
   "metadata": {},
   "outputs": [],
   "source": [
    "import pandas as pd\n",
    "import numpy as np\n",
    "import matplotlib.pyplot as plt\n",
    "from matplotlib import cm\n",
    "import ipynb.fs.defs.functions as fct\n",
    "import pickle\n",
    "\n",
    "import warnings\n",
    "warnings.filterwarnings(\"error\")"
   ]
  },
  {
   "cell_type": "code",
   "execution_count": 3,
   "id": "6d60e517-0d2f-46ae-8ea8-d2bf28be6289",
   "metadata": {},
   "outputs": [],
   "source": [
    "# Load IDs\n",
    "with open('uniqueIDs.pkl', 'rb') as f:\n",
    "    uniqueIDs = pickle.load(f)"
   ]
  },
  {
   "cell_type": "markdown",
   "id": "8195244b-7d45-4d16-9ef0-8c8ee3056347",
   "metadata": {},
   "source": [
    "# Fit mod10 for each participant"
   ]
  },
  {
   "cell_type": "code",
   "execution_count": 4,
   "id": "5b2e6fee-e121-48e5-8842-097644839b0b",
   "metadata": {},
   "outputs": [],
   "source": [
    "# Model settings\n",
    "\n",
    "# Functions\n",
    "value_fct = fct.rescorla_wagner\n",
    "dec_fct = fct.my_softmax_shrinking_2_press_bias\n",
    "\n",
    "# Store everything\n",
    "mod_info = {}\n",
    "mod_info['name'] = 'model10'\n",
    "mod_info['value_fct'] = value_fct.__name__\n",
    "mod_info['dec_fct'] = dec_fct.__name__\n",
    "mod_info['param_names'] = ['v0', 'alpha', 'beta', 'pi', 'pi_t']\n",
    "#print(mod['value_fct'].__name__)\n",
    "\n",
    "# save\n",
    "all_users_folder = 'data/all_users/mod10/'\n",
    "file_name = all_users_folder+'mod_parameters.pkl'\n",
    "with open(file_name, 'wb') as f:\n",
    "    pickle.dump(mod_info, f)"
   ]
  },
  {
   "cell_type": "code",
   "execution_count": 5,
   "id": "503779d8-b238-4a83-af74-ff9a53c761cd",
   "metadata": {},
   "outputs": [],
   "source": [
    "run_ = True\n",
    "\n",
    "# Folder\n",
    "all_users_folder = 'data/all_users/mod10/'\n",
    "    \n",
    "if run_:\n",
    "    \n",
    "    # Parameter range for initial guess \n",
    "    # order of mod['param_names']:\n",
    "    # ['v0', 'alpha', 'beta', 'pi', 'pi_t']\n",
    "    param_lower_bound = [-5, 0, 0, -10, -10]\n",
    "    param_upper_bound = [ 5, 1, 15, 10, 10]\n",
    "\n",
    "    # Fit\n",
    "    all_users = {}\n",
    "    p_hit_per_trial = pd.DataFrame([])\n",
    "    ev_per_trial = pd.DataFrame([])\n",
    "    for n_part,ID in enumerate(uniqueIDs): \n",
    "\n",
    "        # Get data\n",
    "        user_folder = 'data/user_' + ID + '/'\n",
    "        df2_cf = pd.read_pickle(user_folder + 'df2_cf.pkl')\n",
    "        isHit_all_cues, fbs_all_cues, trialNo_all_cues = fct.extract_hits_fbs(df2_cf)\n",
    "\n",
    "        # Create a new Model object\n",
    "        mod = fct.Model(mod_name = mod_info['name'],\n",
    "                     value_fct = value_fct, \n",
    "                     dec_fct = dec_fct, \n",
    "                     param_names = mod_info['param_names'])\n",
    "\n",
    "        # Input data to model\n",
    "        mod.set_data(ID, fbs_all_cues, isHit_all_cues, trialNo_all_cues)\n",
    "\n",
    "        # Fit model\n",
    "        mod.fit(param_lower_bound, param_upper_bound, n_iterations=5)\n",
    "\n",
    "        # Nested dictionnary user data\n",
    "        all_users[n_part] = {}\n",
    "        all_users[n_part]['ID']=mod.ID\n",
    "        all_users[n_part]['nLL']=mod.nLL\n",
    "        all_users[n_part]['Ntrials']=mod.Ntrials\n",
    "        all_users[n_part]['Nparams']=len(mod.param_names)\n",
    "        for i in range(0,len(mod.param_names)):\n",
    "            all_users[n_part][mod.param_names[i]]=mod.param_values[i]\n",
    "        \n",
    "        # Concatenated model predictions: p hit\n",
    "        tmp = pd.DataFrame(mod.p_hit).transpose()\n",
    "        tmp.columns = tmp.columns+1\n",
    "        tmp = tmp.reset_index().rename(columns={'index': 'Cue'})\n",
    "        tmp.insert(0,'ID',ID)\n",
    "        p_hit_per_trial = pd.concat([tmp, p_hit_per_trial], axis=0)\n",
    "        \n",
    "        # Concatenated model predictions: EVs\n",
    "        tmp = pd.DataFrame(mod.v).transpose()\n",
    "        tmp.columns = tmp.columns+1\n",
    "        tmp = tmp.reset_index().rename(columns={'index': 'Cue'})\n",
    "        tmp.insert(0,'ID',ID)\n",
    "        ev_per_trial = pd.concat([tmp, ev_per_trial], axis=0)\n",
    "    \n",
    "    # Save mod LLs and parameter values\n",
    "    mod_fit = pd.DataFrame(all_users).transpose()\n",
    "    mod_fit.to_pickle(all_users_folder+'mod_param_fits.pkl')\n",
    "    \n",
    "    # Save mod predictions\n",
    "    p_hit_per_trial = p_hit_per_trial.sort_values(by='ID').reset_index(drop=True)\n",
    "    p_hit_per_trial.to_pickle(all_users_folder+'mod_p_hit_per_trial.pkl')\n",
    "    ev_per_trial = ev_per_trial.sort_values(by='ID').reset_index(drop=True)\n",
    "    ev_per_trial.to_pickle(all_users_folder+'mod_ev_per_trial.pkl')\n",
    "    "
   ]
  },
  {
   "cell_type": "code",
   "execution_count": 6,
   "id": "058a7e10-2892-4862-bc73-26b83859b200",
   "metadata": {},
   "outputs": [
    {
     "data": {
      "text/html": [
       "<div>\n",
       "<style scoped>\n",
       "    .dataframe tbody tr th:only-of-type {\n",
       "        vertical-align: middle;\n",
       "    }\n",
       "\n",
       "    .dataframe tbody tr th {\n",
       "        vertical-align: top;\n",
       "    }\n",
       "\n",
       "    .dataframe thead th {\n",
       "        text-align: right;\n",
       "    }\n",
       "</style>\n",
       "<table border=\"1\" class=\"dataframe\">\n",
       "  <thead>\n",
       "    <tr style=\"text-align: right;\">\n",
       "      <th></th>\n",
       "      <th>ID</th>\n",
       "      <th>nLL</th>\n",
       "      <th>Ntrials</th>\n",
       "      <th>Nparams</th>\n",
       "      <th>v0</th>\n",
       "      <th>alpha</th>\n",
       "      <th>beta</th>\n",
       "      <th>pi</th>\n",
       "      <th>pi_t</th>\n",
       "    </tr>\n",
       "  </thead>\n",
       "  <tbody>\n",
       "    <tr>\n",
       "      <th>0</th>\n",
       "      <td>001</td>\n",
       "      <td>49.534234</td>\n",
       "      <td>112</td>\n",
       "      <td>5</td>\n",
       "      <td>1.056486</td>\n",
       "      <td>0.009533</td>\n",
       "      <td>8.01498</td>\n",
       "      <td>-1.170754</td>\n",
       "      <td>0.0693</td>\n",
       "    </tr>\n",
       "    <tr>\n",
       "      <th>1</th>\n",
       "      <td>003</td>\n",
       "      <td>49.151288</td>\n",
       "      <td>112</td>\n",
       "      <td>5</td>\n",
       "      <td>-0.547195</td>\n",
       "      <td>0.00582</td>\n",
       "      <td>12.636626</td>\n",
       "      <td>0.441126</td>\n",
       "      <td>0.191795</td>\n",
       "    </tr>\n",
       "    <tr>\n",
       "      <th>2</th>\n",
       "      <td>006</td>\n",
       "      <td>53.088243</td>\n",
       "      <td>112</td>\n",
       "      <td>5</td>\n",
       "      <td>-0.772136</td>\n",
       "      <td>0.172577</td>\n",
       "      <td>1.068012</td>\n",
       "      <td>-0.206795</td>\n",
       "      <td>1.358687</td>\n",
       "    </tr>\n",
       "    <tr>\n",
       "      <th>3</th>\n",
       "      <td>007</td>\n",
       "      <td>49.264696</td>\n",
       "      <td>112</td>\n",
       "      <td>5</td>\n",
       "      <td>0.362211</td>\n",
       "      <td>0.011852</td>\n",
       "      <td>5.862722</td>\n",
       "      <td>-0.314848</td>\n",
       "      <td>0.249557</td>\n",
       "    </tr>\n",
       "    <tr>\n",
       "      <th>4</th>\n",
       "      <td>008</td>\n",
       "      <td>37.695428</td>\n",
       "      <td>112</td>\n",
       "      <td>5</td>\n",
       "      <td>-1.679586</td>\n",
       "      <td>0.172165</td>\n",
       "      <td>1.845717</td>\n",
       "      <td>0.218024</td>\n",
       "      <td>1.552458</td>\n",
       "    </tr>\n",
       "    <tr>\n",
       "      <th>...</th>\n",
       "      <td>...</td>\n",
       "      <td>...</td>\n",
       "      <td>...</td>\n",
       "      <td>...</td>\n",
       "      <td>...</td>\n",
       "      <td>...</td>\n",
       "      <td>...</td>\n",
       "      <td>...</td>\n",
       "      <td>...</td>\n",
       "    </tr>\n",
       "    <tr>\n",
       "      <th>165</th>\n",
       "      <td>453</td>\n",
       "      <td>36.702522</td>\n",
       "      <td>112</td>\n",
       "      <td>5</td>\n",
       "      <td>-1.012415</td>\n",
       "      <td>0.230749</td>\n",
       "      <td>1.009884</td>\n",
       "      <td>-1.290486</td>\n",
       "      <td>6.187478</td>\n",
       "    </tr>\n",
       "    <tr>\n",
       "      <th>166</th>\n",
       "      <td>462</td>\n",
       "      <td>35.689832</td>\n",
       "      <td>112</td>\n",
       "      <td>5</td>\n",
       "      <td>-0.9528</td>\n",
       "      <td>0.008323</td>\n",
       "      <td>15.0</td>\n",
       "      <td>0.685107</td>\n",
       "      <td>0.36654</td>\n",
       "    </tr>\n",
       "    <tr>\n",
       "      <th>167</th>\n",
       "      <td>469</td>\n",
       "      <td>3.433485</td>\n",
       "      <td>112</td>\n",
       "      <td>5</td>\n",
       "      <td>-0.279127</td>\n",
       "      <td>0.049097</td>\n",
       "      <td>15.0</td>\n",
       "      <td>-0.250036</td>\n",
       "      <td>0.672397</td>\n",
       "    </tr>\n",
       "    <tr>\n",
       "      <th>168</th>\n",
       "      <td>470</td>\n",
       "      <td>36.750506</td>\n",
       "      <td>112</td>\n",
       "      <td>5</td>\n",
       "      <td>-1.554709</td>\n",
       "      <td>0.012542</td>\n",
       "      <td>10.664294</td>\n",
       "      <td>1.095368</td>\n",
       "      <td>0.644432</td>\n",
       "    </tr>\n",
       "    <tr>\n",
       "      <th>169</th>\n",
       "      <td>471</td>\n",
       "      <td>65.938753</td>\n",
       "      <td>112</td>\n",
       "      <td>5</td>\n",
       "      <td>-2.266842</td>\n",
       "      <td>0.100129</td>\n",
       "      <td>0.650308</td>\n",
       "      <td>-2.028916</td>\n",
       "      <td>4.237652</td>\n",
       "    </tr>\n",
       "  </tbody>\n",
       "</table>\n",
       "<p>170 rows × 9 columns</p>\n",
       "</div>"
      ],
      "text/plain": [
       "      ID        nLL Ntrials Nparams        v0     alpha       beta        pi  \\\n",
       "0    001  49.534234     112       5  1.056486  0.009533    8.01498 -1.170754   \n",
       "1    003  49.151288     112       5 -0.547195   0.00582  12.636626  0.441126   \n",
       "2    006  53.088243     112       5 -0.772136  0.172577   1.068012 -0.206795   \n",
       "3    007  49.264696     112       5  0.362211  0.011852   5.862722 -0.314848   \n",
       "4    008  37.695428     112       5 -1.679586  0.172165   1.845717  0.218024   \n",
       "..   ...        ...     ...     ...       ...       ...        ...       ...   \n",
       "165  453  36.702522     112       5 -1.012415  0.230749   1.009884 -1.290486   \n",
       "166  462  35.689832     112       5   -0.9528  0.008323       15.0  0.685107   \n",
       "167  469   3.433485     112       5 -0.279127  0.049097       15.0 -0.250036   \n",
       "168  470  36.750506     112       5 -1.554709  0.012542  10.664294  1.095368   \n",
       "169  471  65.938753     112       5 -2.266842  0.100129   0.650308 -2.028916   \n",
       "\n",
       "         pi_t  \n",
       "0      0.0693  \n",
       "1    0.191795  \n",
       "2    1.358687  \n",
       "3    0.249557  \n",
       "4    1.552458  \n",
       "..        ...  \n",
       "165  6.187478  \n",
       "166   0.36654  \n",
       "167  0.672397  \n",
       "168  0.644432  \n",
       "169  4.237652  \n",
       "\n",
       "[170 rows x 9 columns]"
      ]
     },
     "execution_count": 6,
     "metadata": {},
     "output_type": "execute_result"
    }
   ],
   "source": [
    "mod_fit"
   ]
  },
  {
   "cell_type": "code",
   "execution_count": null,
   "id": "3bfacaeb-4966-478b-8f3b-f7c96f0d0d60",
   "metadata": {},
   "outputs": [],
   "source": []
  },
  {
   "cell_type": "code",
   "execution_count": 13,
   "id": "daf1aee3-5f45-474f-9d04-c255af8549bd",
   "metadata": {},
   "outputs": [],
   "source": [
    "beta = 6\n",
    "pi_t = 10\n",
    "\n",
    "vt_all_cues = mod.v\n",
    "trialNo_all_cues = mod.trialNo_all_cues\n",
    "\n",
    "# Iterate over cues\n",
    "for cue, vt in vt_all_cues.items():\n",
    "\n",
    "    trials = trialNo_all_cues[cue]\n",
    "\n",
    "    x = beta * (vt + pi_t)"
   ]
  },
  {
   "cell_type": "code",
   "execution_count": 14,
   "id": "f7761d0a-c101-4827-9723-bab624338516",
   "metadata": {},
   "outputs": [
    {
     "data": {
      "text/plain": [
       "'LP'"
      ]
     },
     "execution_count": 14,
     "metadata": {},
     "output_type": "execute_result"
    }
   ],
   "source": [
    "cue"
   ]
  },
  {
   "cell_type": "code",
   "execution_count": 15,
   "id": "c7f2081f-8d42-45c3-b4d4-17b76d0a2f42",
   "metadata": {},
   "outputs": [],
   "source": [
    "# Iterate over cues\n",
    "for cue, vt in vt_all_cues.items():\n",
    "    \n",
    "    # Reinitialise each trial of run 2 (above 56)\n",
    "    trials_per_run_lst = []\n",
    "    run_size = 56\n",
    "    for trial in trials:\n",
    "        if trial > run_size:\n",
    "            trials_per_run_lst.append(trial-run_size)\n",
    "        else:\n",
    "            trials_per_run_lst.append(trial)\n",
    "\n",
    "    # Convert to array\n",
    "    trials_per_run = np.array(trials_per_run_lst)\n",
    "\n",
    "    # Higher press bias with small trial numbers\n",
    "    x = beta * (vt + pi_t/trials_per_run)"
   ]
  },
  {
   "cell_type": "code",
   "execution_count": 24,
   "id": "22c42023-ac6a-4473-acb9-15b1abae2429",
   "metadata": {},
   "outputs": [
    {
     "data": {
      "text/plain": [
       "array([0.5       , 0.33333333, 0.16666667, 0.1       , 0.09090909,\n",
       "       0.08333333, 0.07142857, 0.06666667, 0.04166667, 0.03846154,\n",
       "       0.03703704, 0.02857143, 0.02777778, 0.01851852, 0.14285714,\n",
       "       0.11111111, 0.07142857, 0.05555556, 0.05263158, 0.04166667,\n",
       "       0.03846154, 0.03571429, 0.03125   , 0.02777778, 0.02325581,\n",
       "       0.02      , 0.01923077, 0.01851852])"
      ]
     },
     "execution_count": 24,
     "metadata": {},
     "output_type": "execute_result"
    }
   ],
   "source": [
    "1/trials_per_run"
   ]
  },
  {
   "cell_type": "code",
   "execution_count": 25,
   "id": "faf53cb6-4604-46d2-ab6a-b72dbebd79ca",
   "metadata": {},
   "outputs": [
    {
     "data": {
      "text/plain": [
       "array([0.96428571, 0.94642857, 0.89285714, 0.82142857, 0.80357143,\n",
       "       0.78571429, 0.75      , 0.73214286, 0.57142857, 0.53571429,\n",
       "       0.51785714, 0.375     , 0.35714286, 0.03571429, 0.875     ,\n",
       "       0.83928571, 0.75      , 0.67857143, 0.66071429, 0.57142857,\n",
       "       0.53571429, 0.5       , 0.42857143, 0.35714286, 0.23214286,\n",
       "       0.10714286, 0.07142857, 0.03571429])"
      ]
     },
     "execution_count": 25,
     "metadata": {},
     "output_type": "execute_result"
    }
   ],
   "source": [
    "Ntrials = 56\n",
    "(Ntrials - trials_per_run)/Ntrials"
   ]
  },
  {
   "cell_type": "code",
   "execution_count": 16,
   "id": "827d7120-d14b-458b-a786-2f3717785442",
   "metadata": {},
   "outputs": [
    {
     "data": {
      "text/plain": [
       "array([-1.01726584, -1.12041801, -1.22089855, -1.21517731, -1.20960425,\n",
       "       -1.20417554, -1.19888742, -1.19373627, -1.03331951, -1.13605589,\n",
       "       -1.08073239, -1.18224078, -1.02212176, -1.12514815, -1.07010716,\n",
       "       -0.91289238, -1.0187478 , -1.01826223, -1.01778925, -1.12092785,\n",
       "       -0.96239682, -0.91157107, -0.91386136, -1.01969168, -1.01918167,\n",
       "       -0.9668852 , -1.07134221, -1.17309381])"
      ]
     },
     "execution_count": 16,
     "metadata": {},
     "output_type": "execute_result"
    }
   ],
   "source": [
    "vt"
   ]
  },
  {
   "cell_type": "code",
   "execution_count": 17,
   "id": "b794219e-6d6f-4196-a57c-edd620cce01e",
   "metadata": {},
   "outputs": [
    {
     "data": {
      "text/plain": [
       "array([ 3.98273416,  2.21291533,  0.44576812, -0.21517731, -0.30051334,\n",
       "       -0.3708422 , -0.48460171, -0.52706961, -0.61665285, -0.75144051,\n",
       "       -0.71036202, -0.8965265 , -0.74434398, -0.93996297,  0.35846427,\n",
       "        0.19821873, -0.30446209, -0.46270668, -0.49147346, -0.70426119,\n",
       "       -0.57778144, -0.55442821, -0.60136136, -0.74191391, -0.78662353,\n",
       "       -0.7668852 , -0.87903452, -0.98790862])"
      ]
     },
     "execution_count": 17,
     "metadata": {},
     "output_type": "execute_result"
    }
   ],
   "source": [
    "shrink = (Ntrials - trials_per_run)/Ntrials"
   ]
  },
  {
   "cell_type": "code",
   "execution_count": null,
   "id": "c3e27790-e431-4bb6-9c95-a9c375fc4fa6",
   "metadata": {},
   "outputs": [],
   "source": [
    "vt + pi_t * shrink"
   ]
  }
 ],
 "metadata": {
  "kernelspec": {
   "display_name": "Python 3 (ipykernel)",
   "language": "python",
   "name": "python3"
  },
  "language_info": {
   "codemirror_mode": {
    "name": "ipython",
    "version": 3
   },
   "file_extension": ".py",
   "mimetype": "text/x-python",
   "name": "python",
   "nbconvert_exporter": "python",
   "pygments_lexer": "ipython3",
   "version": "3.8.12"
  }
 },
 "nbformat": 4,
 "nbformat_minor": 5
}
