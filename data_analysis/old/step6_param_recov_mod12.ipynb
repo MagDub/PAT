{
 "cells": [
  {
   "cell_type": "code",
   "execution_count": 168,
   "id": "ef1f495c-8fd9-49d7-8e8d-e41e7600ef7c",
   "metadata": {},
   "outputs": [],
   "source": [
    "import ipynb.fs.defs.functions as fct\n",
    "import pandas as pd\n",
    "import numpy as np\n",
    "import pickle\n",
    "import random\n",
    "from scipy.stats import pearsonr\n",
    "from scipy.stats import bernoulli"
   ]
  },
  {
   "cell_type": "markdown",
   "id": "cb3c04dc-9e61-4ca2-bb59-41c322d439ed",
   "metadata": {},
   "source": [
    "# Sim - refit"
   ]
  },
  {
   "cell_type": "code",
   "execution_count": 169,
   "id": "4174bd6a-e9c2-4cc3-a8d8-7f9c2ffde3e1",
   "metadata": {},
   "outputs": [],
   "source": [
    "all_users_folder = 'data/all_users/'\n",
    "\n",
    "# Load IDs\n",
    "with open('uniqueIDs.pkl', 'rb') as f:\n",
    "    uniqueIDs = pickle.load(f)"
   ]
  },
  {
   "cell_type": "code",
   "execution_count": 170,
   "id": "384ebe04-66df-4f20-94ab-e4e676e4d77f",
   "metadata": {},
   "outputs": [],
   "source": [
    "# General\n",
    "model = 'mod12'\n",
    "\n",
    "# Number of simulations\n",
    "Nsim = 100"
   ]
  },
  {
   "cell_type": "code",
   "execution_count": 171,
   "id": "58613c12-ec2a-420e-ae43-438dc9f120d1",
   "metadata": {},
   "outputs": [
    {
     "name": "stdout",
     "output_type": "stream",
     "text": [
      "{'name': 'model12', 'value_fct': 'rescorla_wagner_reinitV0', 'dec_fct': 'my_softmax_shrinking_press_bias', 'param_names': ['v0r', 'alpha', 'beta', 'pi_t']}\n"
     ]
    }
   ],
   "source": [
    "# Model settings\n",
    "mod_info = pd.read_pickle(all_users_folder + model + '/mod_parameters.pkl')\n",
    "print(mod_info)\n",
    "\n",
    "# Extract functions\n",
    "value_fct = getattr(fct, mod_info['value_fct'])\n",
    "dec_fct = getattr(fct, mod_info['dec_fct'])\n",
    "\n",
    "# Parameter bounds\n",
    "param_lower_bounds = [-2, 0, 0, 0]\n",
    "param_upper_bounds = [ 2, 1, 2.5, 3]"
   ]
  },
  {
   "cell_type": "code",
   "execution_count": 172,
   "id": "8fead529-49d1-41b9-a012-4584e088ad3a",
   "metadata": {},
   "outputs": [],
   "source": [
    "def rescorla_wagner_reinitV0_1trial(vt_m_1, isHit, fb, Ntrials, t, alpha, v0r):    \n",
    "\n",
    "    pe = np.nan\n",
    "    \n",
    "    # Start of run 2, reinitialise v0\n",
    "    if t == int(Ntrials/2): \n",
    "        vt = v0r\n",
    "\n",
    "    # if hit, recieves fb\n",
    "    elif isHit == 1:\n",
    "        # Compute prediction error\n",
    "        pe = fb - vt_m_1\n",
    "        # Compute new vt and fill in \n",
    "        vt = vt_m_1 + alpha * pe\n",
    "\n",
    "    # if no hit, no fb\n",
    "    elif isHit == 0:\n",
    "        # vt does not change \n",
    "        vt = vt_m_1\n",
    "\n",
    "    return vt, pe"
   ]
  },
  {
   "cell_type": "code",
   "execution_count": 173,
   "id": "11bd5f85-5b2f-4303-a3b6-e3b57af4bdc1",
   "metadata": {},
   "outputs": [],
   "source": [
    "def compute_shrink_factors(trialNo_all_cues, cue):\n",
    "    \n",
    "    # Extract trials for this cue\n",
    "    trials = trialNo_all_cues[cue]\n",
    "\n",
    "    # Reinitialise each trial of run 2 (above 56)\n",
    "    trials_per_run_lst = []\n",
    "    run_size = 56\n",
    "    for trial in trials:\n",
    "        if trial > run_size:\n",
    "            trials_per_run_lst.append(trial-run_size)\n",
    "        else:\n",
    "            trials_per_run_lst.append(trial)\n",
    "\n",
    "    # Convert to array\n",
    "    trials_per_run = np.array(trials_per_run_lst)\n",
    "\n",
    "    # Compute shrinking factor = (N-t)/N\n",
    "    shrink = (run_size - trials_per_run)/run_size\n",
    "\n",
    "    return shrink"
   ]
  },
  {
   "cell_type": "code",
   "execution_count": 174,
   "id": "cb9a76d0-e64b-4b71-b23f-4ec71a284f5a",
   "metadata": {},
   "outputs": [],
   "source": [
    "def my_softmax_shrinking_press_bias_1trial(shrink, pi_t, beta, vt):\n",
    "\n",
    "    # Higher press bias with small trial numbers\n",
    "    shrinking_pi = pi_t * shrink\n",
    "    x = beta * (vt + shrinking_pi)\n",
    "\n",
    "    try:\n",
    "        p_hit =  np.exp(x)/(np.exp(x)+1)\n",
    "\n",
    "    except RuntimeWarning:\n",
    "        # to avoid overflow errors\n",
    "        expon_bound = 700\n",
    "        p_hit = [1 if el>expon_bound else (np.exp(el)/(np.exp(el)+1)) for el in x]\n",
    "    \n",
    "    isHit = bernoulli.rvs(p_hit, size=1)\n",
    "\n",
    "    return int(isHit)"
   ]
  },
  {
   "cell_type": "code",
   "execution_count": 175,
   "id": "37c55545-9b55-44f2-b170-0be49ef8fe90",
   "metadata": {},
   "outputs": [],
   "source": [
    "def simulate_behav(fbs_all_cues, trialNo_all_cues, param_values, param_names):\n",
    "    \n",
    "    # Value function \n",
    "    # Free parameters\n",
    "    v0r = param_values[param_names.index('v0r')]\n",
    "    alpha = param_values[param_names.index('alpha')]\n",
    "    \n",
    "    Ntrials = sum(len(lst) for lst in fbs_all_cues.values())\n",
    "\n",
    "    # Initialise empty dictionary\n",
    "    vt_all_cues = dict.fromkeys(fbs_all_cues.keys())\n",
    "    pe_all_cues = dict.fromkeys(fbs_all_cues.keys())\n",
    "    \n",
    "    # Decision function\n",
    "    # Free parameters\n",
    "    beta = param_values[param_names.index('beta')]\n",
    "    pi_t = param_values[param_names.index('pi_t')]\n",
    "\n",
    "    # Initialise empty dictionary\n",
    "    isHit_all_cues = dict.fromkeys(vt_all_cues.keys())\n",
    "    \n",
    "    # Iterate over cues\n",
    "    for cue, fbs in zip(fbs_all_cues.keys(), fbs_all_cues.values()):\n",
    "\n",
    "        # Initialise vector of values\n",
    "        vts = np.empty(len(fbs))\n",
    "        vts.fill(np.nan)\n",
    "\n",
    "        # Initialise vector of hits\n",
    "        hits = np.empty(len(fbs))\n",
    "        hits.fill(np.nan)\n",
    "\n",
    "        # Initialise vector of PEs\n",
    "        pes = np.empty(len(fbs))\n",
    "        pes.fill(np.nan)\n",
    "\n",
    "        # Fill in prior\n",
    "        # If want specific prior per cue, check value of cue\n",
    "        vts[0] = v0r\n",
    "        hits[0] = 0\n",
    "\n",
    "        # Compute shrink factors for decision function\n",
    "        shrink = compute_shrink_factors(trialNo_all_cues, cue)\n",
    "\n",
    "        # Iterate to fill in vector\n",
    "        for t in range(1,len(vts)):\n",
    "            vt, pe = rescorla_wagner_reinitV0_1trial(vts[t-1], hits[t-1], fbs[t-1], Ntrials, t, alpha, v0r)\n",
    "            isHit = my_softmax_shrinking_press_bias_1trial(shrink[t], pi_t, beta, vt)\n",
    "            vts[t] = vt\n",
    "            pes[t] = pe\n",
    "            hits[t] = isHit\n",
    "\n",
    "        vt_all_cues[cue] = vts\n",
    "        pe_all_cues[cue] = pes\n",
    "        isHit_all_cues[cue] = hits\n",
    "        \n",
    "    return vt_all_cues, pe_all_cues, isHit_all_cues"
   ]
  },
  {
   "cell_type": "code",
   "execution_count": 176,
   "id": "ab8a6147-1e0d-4bf4-9990-9b4daa4cbac4",
   "metadata": {
    "tags": []
   },
   "outputs": [
    {
     "name": "stdout",
     "output_type": "stream",
     "text": [
      "0\n"
     ]
    },
    {
     "name": "stderr",
     "output_type": "stream",
     "text": [
      "/Volumes/GoogleDrive/Mon Drive/PAT/data_analysis/functions.ipynb:656: RuntimeWarning: overflow encountered in exp\n",
      "  \"            if hits[t-1] == 1:\\n\",\n",
      "/Volumes/GoogleDrive/Mon Drive/PAT/data_analysis/functions.ipynb:656: RuntimeWarning: invalid value encountered in true_divide\n",
      "  \"            if hits[t-1] == 1:\\n\",\n",
      "/Volumes/GoogleDrive/Mon Drive/PAT/data_analysis/functions.ipynb:656: RuntimeWarning: overflow encountered in exp\n",
      "  \"            if hits[t-1] == 1:\\n\",\n",
      "/Volumes/GoogleDrive/Mon Drive/PAT/data_analysis/functions.ipynb:656: RuntimeWarning: invalid value encountered in true_divide\n",
      "  \"            if hits[t-1] == 1:\\n\",\n",
      "/Volumes/GoogleDrive/Mon Drive/PAT/data_analysis/functions.ipynb:656: RuntimeWarning: overflow encountered in exp\n",
      "  \"            if hits[t-1] == 1:\\n\",\n",
      "/Volumes/GoogleDrive/Mon Drive/PAT/data_analysis/functions.ipynb:656: RuntimeWarning: invalid value encountered in true_divide\n",
      "  \"            if hits[t-1] == 1:\\n\",\n",
      "/Volumes/GoogleDrive/Mon Drive/PAT/data_analysis/functions.ipynb:656: RuntimeWarning: overflow encountered in exp\n",
      "  \"            if hits[t-1] == 1:\\n\",\n",
      "/Volumes/GoogleDrive/Mon Drive/PAT/data_analysis/functions.ipynb:656: RuntimeWarning: invalid value encountered in true_divide\n",
      "  \"            if hits[t-1] == 1:\\n\",\n",
      "/Volumes/GoogleDrive/Mon Drive/PAT/data_analysis/functions.ipynb:656: RuntimeWarning: overflow encountered in exp\n",
      "  \"            if hits[t-1] == 1:\\n\",\n",
      "/Volumes/GoogleDrive/Mon Drive/PAT/data_analysis/functions.ipynb:656: RuntimeWarning: invalid value encountered in true_divide\n",
      "  \"            if hits[t-1] == 1:\\n\",\n",
      "/Volumes/GoogleDrive/Mon Drive/PAT/data_analysis/functions.ipynb:656: RuntimeWarning: overflow encountered in exp\n",
      "  \"            if hits[t-1] == 1:\\n\",\n",
      "/Volumes/GoogleDrive/Mon Drive/PAT/data_analysis/functions.ipynb:656: RuntimeWarning: invalid value encountered in true_divide\n",
      "  \"            if hits[t-1] == 1:\\n\",\n",
      "/Volumes/GoogleDrive/Mon Drive/PAT/data_analysis/functions.ipynb:656: RuntimeWarning: overflow encountered in exp\n",
      "  \"            if hits[t-1] == 1:\\n\",\n",
      "/Volumes/GoogleDrive/Mon Drive/PAT/data_analysis/functions.ipynb:656: RuntimeWarning: invalid value encountered in true_divide\n",
      "  \"            if hits[t-1] == 1:\\n\",\n"
     ]
    },
    {
     "name": "stdout",
     "output_type": "stream",
     "text": [
      "25\n"
     ]
    },
    {
     "name": "stderr",
     "output_type": "stream",
     "text": [
      "/Volumes/GoogleDrive/Mon Drive/PAT/data_analysis/functions.ipynb:656: RuntimeWarning: overflow encountered in exp\n",
      "  \"            if hits[t-1] == 1:\\n\",\n",
      "/Volumes/GoogleDrive/Mon Drive/PAT/data_analysis/functions.ipynb:656: RuntimeWarning: invalid value encountered in true_divide\n",
      "  \"            if hits[t-1] == 1:\\n\",\n",
      "/Volumes/GoogleDrive/Mon Drive/PAT/data_analysis/functions.ipynb:656: RuntimeWarning: overflow encountered in exp\n",
      "  \"            if hits[t-1] == 1:\\n\",\n",
      "/Volumes/GoogleDrive/Mon Drive/PAT/data_analysis/functions.ipynb:656: RuntimeWarning: invalid value encountered in true_divide\n",
      "  \"            if hits[t-1] == 1:\\n\",\n",
      "/Volumes/GoogleDrive/Mon Drive/PAT/data_analysis/functions.ipynb:656: RuntimeWarning: overflow encountered in exp\n",
      "  \"            if hits[t-1] == 1:\\n\",\n",
      "/Volumes/GoogleDrive/Mon Drive/PAT/data_analysis/functions.ipynb:656: RuntimeWarning: invalid value encountered in true_divide\n",
      "  \"            if hits[t-1] == 1:\\n\",\n",
      "/Volumes/GoogleDrive/Mon Drive/PAT/data_analysis/functions.ipynb:656: RuntimeWarning: overflow encountered in exp\n",
      "  \"            if hits[t-1] == 1:\\n\",\n",
      "/Volumes/GoogleDrive/Mon Drive/PAT/data_analysis/functions.ipynb:656: RuntimeWarning: invalid value encountered in true_divide\n",
      "  \"            if hits[t-1] == 1:\\n\",\n",
      "/Volumes/GoogleDrive/Mon Drive/PAT/data_analysis/functions.ipynb:656: RuntimeWarning: overflow encountered in exp\n",
      "  \"            if hits[t-1] == 1:\\n\",\n",
      "/Volumes/GoogleDrive/Mon Drive/PAT/data_analysis/functions.ipynb:656: RuntimeWarning: invalid value encountered in true_divide\n",
      "  \"            if hits[t-1] == 1:\\n\",\n"
     ]
    },
    {
     "name": "stdout",
     "output_type": "stream",
     "text": [
      "50\n"
     ]
    },
    {
     "name": "stderr",
     "output_type": "stream",
     "text": [
      "/Volumes/GoogleDrive/Mon Drive/PAT/data_analysis/functions.ipynb:656: RuntimeWarning: overflow encountered in exp\n",
      "  \"            if hits[t-1] == 1:\\n\",\n",
      "/Volumes/GoogleDrive/Mon Drive/PAT/data_analysis/functions.ipynb:656: RuntimeWarning: invalid value encountered in true_divide\n",
      "  \"            if hits[t-1] == 1:\\n\",\n",
      "/Volumes/GoogleDrive/Mon Drive/PAT/data_analysis/functions.ipynb:656: RuntimeWarning: overflow encountered in exp\n",
      "  \"            if hits[t-1] == 1:\\n\",\n",
      "/Volumes/GoogleDrive/Mon Drive/PAT/data_analysis/functions.ipynb:656: RuntimeWarning: invalid value encountered in true_divide\n",
      "  \"            if hits[t-1] == 1:\\n\",\n",
      "/Volumes/GoogleDrive/Mon Drive/PAT/data_analysis/functions.ipynb:656: RuntimeWarning: overflow encountered in exp\n",
      "  \"            if hits[t-1] == 1:\\n\",\n",
      "/Volumes/GoogleDrive/Mon Drive/PAT/data_analysis/functions.ipynb:656: RuntimeWarning: invalid value encountered in true_divide\n",
      "  \"            if hits[t-1] == 1:\\n\",\n",
      "/Volumes/GoogleDrive/Mon Drive/PAT/data_analysis/functions.ipynb:656: RuntimeWarning: overflow encountered in exp\n",
      "  \"            if hits[t-1] == 1:\\n\",\n",
      "/Volumes/GoogleDrive/Mon Drive/PAT/data_analysis/functions.ipynb:656: RuntimeWarning: invalid value encountered in true_divide\n",
      "  \"            if hits[t-1] == 1:\\n\",\n",
      "/Volumes/GoogleDrive/Mon Drive/PAT/data_analysis/functions.ipynb:656: RuntimeWarning: overflow encountered in exp\n",
      "  \"            if hits[t-1] == 1:\\n\",\n",
      "/Volumes/GoogleDrive/Mon Drive/PAT/data_analysis/functions.ipynb:656: RuntimeWarning: invalid value encountered in true_divide\n",
      "  \"            if hits[t-1] == 1:\\n\",\n",
      "/Volumes/GoogleDrive/Mon Drive/PAT/data_analysis/functions.ipynb:656: RuntimeWarning: overflow encountered in exp\n",
      "  \"            if hits[t-1] == 1:\\n\",\n",
      "/Volumes/GoogleDrive/Mon Drive/PAT/data_analysis/functions.ipynb:656: RuntimeWarning: invalid value encountered in true_divide\n",
      "  \"            if hits[t-1] == 1:\\n\",\n"
     ]
    },
    {
     "name": "stdout",
     "output_type": "stream",
     "text": [
      "75\n"
     ]
    },
    {
     "name": "stderr",
     "output_type": "stream",
     "text": [
      "/Volumes/GoogleDrive/Mon Drive/PAT/data_analysis/functions.ipynb:656: RuntimeWarning: overflow encountered in exp\n",
      "  \"            if hits[t-1] == 1:\\n\",\n",
      "/Volumes/GoogleDrive/Mon Drive/PAT/data_analysis/functions.ipynb:656: RuntimeWarning: invalid value encountered in true_divide\n",
      "  \"            if hits[t-1] == 1:\\n\",\n",
      "/Volumes/GoogleDrive/Mon Drive/PAT/data_analysis/functions.ipynb:656: RuntimeWarning: overflow encountered in exp\n",
      "  \"            if hits[t-1] == 1:\\n\",\n",
      "/Volumes/GoogleDrive/Mon Drive/PAT/data_analysis/functions.ipynb:656: RuntimeWarning: invalid value encountered in true_divide\n",
      "  \"            if hits[t-1] == 1:\\n\",\n",
      "/Volumes/GoogleDrive/Mon Drive/PAT/data_analysis/functions.ipynb:656: RuntimeWarning: overflow encountered in exp\n",
      "  \"            if hits[t-1] == 1:\\n\",\n",
      "/Volumes/GoogleDrive/Mon Drive/PAT/data_analysis/functions.ipynb:656: RuntimeWarning: invalid value encountered in true_divide\n",
      "  \"            if hits[t-1] == 1:\\n\",\n",
      "/Volumes/GoogleDrive/Mon Drive/PAT/data_analysis/functions.ipynb:656: RuntimeWarning: overflow encountered in exp\n",
      "  \"            if hits[t-1] == 1:\\n\",\n",
      "/Volumes/GoogleDrive/Mon Drive/PAT/data_analysis/functions.ipynb:656: RuntimeWarning: invalid value encountered in true_divide\n",
      "  \"            if hits[t-1] == 1:\\n\",\n",
      "/Volumes/GoogleDrive/Mon Drive/PAT/data_analysis/functions.ipynb:656: RuntimeWarning: overflow encountered in exp\n",
      "  \"            if hits[t-1] == 1:\\n\",\n",
      "/Volumes/GoogleDrive/Mon Drive/PAT/data_analysis/functions.ipynb:656: RuntimeWarning: invalid value encountered in true_divide\n",
      "  \"            if hits[t-1] == 1:\\n\",\n",
      "/Volumes/GoogleDrive/Mon Drive/PAT/data_analysis/functions.ipynb:656: RuntimeWarning: overflow encountered in exp\n",
      "  \"            if hits[t-1] == 1:\\n\",\n",
      "/Volumes/GoogleDrive/Mon Drive/PAT/data_analysis/functions.ipynb:656: RuntimeWarning: invalid value encountered in true_divide\n",
      "  \"            if hits[t-1] == 1:\\n\",\n",
      "/Volumes/GoogleDrive/Mon Drive/PAT/data_analysis/functions.ipynb:656: RuntimeWarning: overflow encountered in exp\n",
      "  \"            if hits[t-1] == 1:\\n\",\n",
      "/Volumes/GoogleDrive/Mon Drive/PAT/data_analysis/functions.ipynb:656: RuntimeWarning: invalid value encountered in true_divide\n",
      "  \"            if hits[t-1] == 1:\\n\",\n",
      "/Volumes/GoogleDrive/Mon Drive/PAT/data_analysis/functions.ipynb:656: RuntimeWarning: overflow encountered in exp\n",
      "  \"            if hits[t-1] == 1:\\n\",\n",
      "/Volumes/GoogleDrive/Mon Drive/PAT/data_analysis/functions.ipynb:656: RuntimeWarning: invalid value encountered in true_divide\n",
      "  \"            if hits[t-1] == 1:\\n\",\n"
     ]
    }
   ],
   "source": [
    "# Get parameter values for simulation\n",
    "\n",
    "# Load fitted parameters\n",
    "data_mod = pd.read_pickle(all_users_folder + model + '/mod_param_fits.pkl')\n",
    "parameter_means = data_mod[mod_info['param_names']].mean()\n",
    "parameter_stds = data_mod[mod_info['param_names']].std()\n",
    "\n",
    "# Initialise matrices of nans\n",
    "all_sim_param_values = np.empty((Nsim, len(mod_info['param_names'])))\n",
    "all_fit_param_values = np.empty((Nsim, len(mod_info['param_names'])))\n",
    "all_sim_param_values[:] = np.NaN\n",
    "all_fit_param_values[:] = np.NaN\n",
    "\n",
    "# Sim and refit\n",
    "for sim_id in range(0, Nsim):\n",
    "    \n",
    "    if sim_id%25==0:\n",
    "        print(sim_id)\n",
    "    \n",
    "    # Sample from mean of fitted values\n",
    "    params = np.array([])\n",
    "\n",
    "    for param_mean, param_std, low_b, upp_b in zip(parameter_means, parameter_stds, param_lower_bounds, param_upper_bounds):\n",
    "\n",
    "        # Sample parameter from mean (resample if not within the bounds)\n",
    "        param = np.nan\n",
    "        while not(param >= low_b and param <= upp_b):\n",
    "            param = np.random.normal(size = 1, loc = param_mean, scale = param_std)\n",
    "\n",
    "        # Parameter value\n",
    "        params = np.append(params, param)\n",
    "\n",
    "    # Store\n",
    "    mod_info['param_values'] = params\n",
    "\n",
    "    # Create a model object\n",
    "    mod = fct.Model(mod_name = mod_info['name'],\n",
    "                 value_fct = value_fct, \n",
    "                 dec_fct = dec_fct, \n",
    "                 param_names = mod_info['param_names'])\n",
    "\n",
    "    # Extract random data set\n",
    "    random.shuffle(uniqueIDs)\n",
    "    ID = uniqueIDs[0]\n",
    "    user_folder = 'data/user_' + ID + '/'\n",
    "    df2_cf = pd.read_pickle(user_folder + 'df2_cf.pkl')\n",
    "    _, fbs_all_cues, trialNo_all_cues = fct.extract_hits_fbs(df2_cf)\n",
    "\n",
    "    # Simulate behaviour\n",
    "    #mod.simulate_behaviour(fbs_all_cues, trialNo_all_cues, mod_info['param_values'], mod_info['param_names'])\n",
    "    vt_all_cues, pe_all_cues, isHit_all_cues = simulate_behav(fbs_all_cues, trialNo_all_cues, mod_info['param_values'], mod_info['param_names'])\n",
    "    \n",
    "    # Input data to model\n",
    "    mod.gen_param_values = mod_info['param_values']\n",
    "    mod.set_data('', fbs_all_cues, isHit_all_cues, trialNo_all_cues)    \n",
    "\n",
    "    # Fit model\n",
    "    mod.fit(param_lower_bounds, param_upper_bounds, n_iterations=5)\n",
    "\n",
    "    # Store\n",
    "    all_sim_param_values[sim_id,:] = mod.gen_param_values\n",
    "    all_fit_param_values[sim_id,:] = mod.param_values\n",
    "\n",
    "# Reformat\n",
    "df_sim = pd.DataFrame(all_sim_param_values, columns = mod_info['param_names'])\n",
    "df_sim.insert(0, 'Type', 'Sim')\n",
    "df_sim = df_sim.rename_axis('simID').reset_index()\n",
    "\n",
    "df_fit = pd.DataFrame(all_fit_param_values, columns = mod_info['param_names'])\n",
    "df_fit.insert(0, 'Type', 'Fit')\n",
    "df_fit = df_fit.rename_axis('simID').reset_index()\n",
    "\n",
    "df = pd.concat([df_sim, df_fit])\n",
    "df.sort_values(by='simID', ascending=True, inplace = True)\n",
    "df.reset_index(inplace = True, drop = True)\n",
    "\n",
    "# Save\n",
    "df.to_pickle(all_users_folder + '/sim_refit/' + mod_info['name'] + '.pkl')"
   ]
  },
  {
   "cell_type": "code",
   "execution_count": 177,
   "id": "e74ee8c2-0c9d-41f0-9141-ba59ce99d8fb",
   "metadata": {},
   "outputs": [
    {
     "data": {
      "text/plain": [
       "array([0.71409365, 0.26097112, 0.46667833, 0.31180809])"
      ]
     },
     "execution_count": 177,
     "metadata": {},
     "output_type": "execute_result"
    }
   ],
   "source": [
    "mod.gen_param_values"
   ]
  },
  {
   "cell_type": "code",
   "execution_count": null,
   "id": "9c97a45a-6791-4940-b654-99136d864874",
   "metadata": {},
   "outputs": [],
   "source": []
  },
  {
   "cell_type": "code",
   "execution_count": null,
   "id": "d0cb0d2f-581c-42eb-839a-e92d03c39d2b",
   "metadata": {},
   "outputs": [],
   "source": []
  }
 ],
 "metadata": {
  "kernelspec": {
   "display_name": "Python 3 (ipykernel)",
   "language": "python",
   "name": "python3"
  },
  "language_info": {
   "codemirror_mode": {
    "name": "ipython",
    "version": 3
   },
   "file_extension": ".py",
   "mimetype": "text/x-python",
   "name": "python",
   "nbconvert_exporter": "python",
   "pygments_lexer": "ipython3",
   "version": "3.8.12"
  }
 },
 "nbformat": 4,
 "nbformat_minor": 5
}
