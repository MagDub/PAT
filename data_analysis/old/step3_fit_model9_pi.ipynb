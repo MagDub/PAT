{
 "cells": [
  {
   "cell_type": "code",
   "execution_count": 6,
   "id": "243982d9-7c77-43d7-a746-b2b976fabc01",
   "metadata": {},
   "outputs": [],
   "source": [
    "# On terminal: conda activate python38"
   ]
  },
  {
   "cell_type": "code",
   "execution_count": 2,
   "id": "bb5ab949-f34a-4ad2-97dc-8dad2820f9f0",
   "metadata": {},
   "outputs": [],
   "source": [
    "import pandas as pd\n",
    "import numpy as np\n",
    "import matplotlib.pyplot as plt\n",
    "from matplotlib import cm\n",
    "import ipynb.fs.defs.functions as fct\n",
    "import pickle\n",
    "\n",
    "import warnings\n",
    "warnings.filterwarnings(\"error\")"
   ]
  },
  {
   "cell_type": "code",
   "execution_count": 3,
   "id": "6d60e517-0d2f-46ae-8ea8-d2bf28be6289",
   "metadata": {},
   "outputs": [],
   "source": [
    "# Load IDs\n",
    "with open('uniqueIDs.pkl', 'rb') as f:\n",
    "    uniqueIDs = pickle.load(f)"
   ]
  },
  {
   "cell_type": "markdown",
   "id": "8195244b-7d45-4d16-9ef0-8c8ee3056347",
   "metadata": {},
   "source": [
    "# Fit mod9 for each participant"
   ]
  },
  {
   "cell_type": "code",
   "execution_count": 4,
   "id": "5b2e6fee-e121-48e5-8842-097644839b0b",
   "metadata": {},
   "outputs": [
    {
     "ename": "FileNotFoundError",
     "evalue": "[Errno 2] No such file or directory: 'data/all_users/mod9/mod_parameters.pkl'",
     "output_type": "error",
     "traceback": [
      "\u001b[0;31m---------------------------------------------------------------------------\u001b[0m",
      "\u001b[0;31mFileNotFoundError\u001b[0m                         Traceback (most recent call last)",
      "Input \u001b[0;32mIn [4]\u001b[0m, in \u001b[0;36m<cell line: 18>\u001b[0;34m()\u001b[0m\n\u001b[1;32m     16\u001b[0m all_users_folder \u001b[38;5;241m=\u001b[39m \u001b[38;5;124m'\u001b[39m\u001b[38;5;124mdata/all_users/mod9/\u001b[39m\u001b[38;5;124m'\u001b[39m\n\u001b[1;32m     17\u001b[0m file_name \u001b[38;5;241m=\u001b[39m all_users_folder\u001b[38;5;241m+\u001b[39m\u001b[38;5;124m'\u001b[39m\u001b[38;5;124mmod_parameters.pkl\u001b[39m\u001b[38;5;124m'\u001b[39m\n\u001b[0;32m---> 18\u001b[0m \u001b[38;5;28;01mwith\u001b[39;00m \u001b[38;5;28;43mopen\u001b[39;49m\u001b[43m(\u001b[49m\u001b[43mfile_name\u001b[49m\u001b[43m,\u001b[49m\u001b[43m \u001b[49m\u001b[38;5;124;43m'\u001b[39;49m\u001b[38;5;124;43mwb\u001b[39;49m\u001b[38;5;124;43m'\u001b[39;49m\u001b[43m)\u001b[49m \u001b[38;5;28;01mas\u001b[39;00m f:\n\u001b[1;32m     19\u001b[0m     pickle\u001b[38;5;241m.\u001b[39mdump(mod_info, f)\n",
      "\u001b[0;31mFileNotFoundError\u001b[0m: [Errno 2] No such file or directory: 'data/all_users/mod9/mod_parameters.pkl'"
     ]
    }
   ],
   "source": [
    "# Model settings\n",
    "\n",
    "# Functions\n",
    "value_fct = fct.rescorla_wagner\n",
    "dec_fct = fct.my_softmax_press_bias\n",
    "\n",
    "# Store everything\n",
    "mod_info = {}\n",
    "mod_info['name'] = 'model9'\n",
    "mod_info['value_fct'] = value_fct.__name__\n",
    "mod_info['dec_fct'] = dec_fct.__name__\n",
    "mod_info['param_names'] = ['v0', 'alpha', 'beta', 'pi']\n",
    "#print(mod['value_fct'].__name__)\n",
    "\n",
    "# save\n",
    "all_users_folder = 'data/all_users/mod9/'\n",
    "file_name = all_users_folder+'mod_parameters.pkl'\n",
    "with open(file_name, 'wb') as f:\n",
    "    pickle.dump(mod_info, f)"
   ]
  },
  {
   "cell_type": "code",
   "execution_count": 14,
   "id": "503779d8-b238-4a83-af74-ff9a53c761cd",
   "metadata": {},
   "outputs": [],
   "source": [
    "run_ = True\n",
    "\n",
    "# Folder\n",
    "all_users_folder = 'data/all_users/mod9/'\n",
    "    \n",
    "if run_:\n",
    "    \n",
    "    # Parameter range for initial guess \n",
    "    # order of mod['param_names']:\n",
    "    # ['v0', 'alpha', 'beta', 'pi']\n",
    "    param_lower_bound = [-10, 0, 0, -5]\n",
    "    param_upper_bound = [ 10, 1, 20, 5]\n",
    "\n",
    "    # Fit\n",
    "    all_users = {}\n",
    "    p_hit_per_trial = pd.DataFrame([])\n",
    "    ev_per_trial = pd.DataFrame([])\n",
    "    for n_part,ID in enumerate(uniqueIDs): \n",
    "\n",
    "        # Get data\n",
    "        user_folder = 'data/user_' + ID + '/'\n",
    "        df2_cf = pd.read_pickle(user_folder + 'df2_cf.pkl')\n",
    "        isHit_all_cues, fbs_all_cues, trialNo_all_cues = fct.extract_hits_fbs(df2_cf)\n",
    "\n",
    "        # Create a new Model object\n",
    "        mod = fct.Model(mod_name = mod_info['name'],\n",
    "                     value_fct = value_fct, \n",
    "                     dec_fct = dec_fct, \n",
    "                     param_names = mod_info['param_names'])\n",
    "\n",
    "        # Input data to model\n",
    "        mod.set_data(ID, fbs_all_cues, isHit_all_cues, trialNo_all_cues)\n",
    "\n",
    "        # Fit model\n",
    "        mod.fit(param_lower_bound, param_upper_bound, n_iterations=5)\n",
    "\n",
    "        # Nested dictionnary user data\n",
    "        all_users[n_part] = {}\n",
    "        all_users[n_part]['ID']=mod.ID\n",
    "        all_users[n_part]['nLL']=mod.nLL\n",
    "        all_users[n_part]['Ntrials']=mod.Ntrials\n",
    "        all_users[n_part]['Nparams']=len(mod.param_names)\n",
    "        for i in range(0,len(mod.param_names)):\n",
    "            all_users[n_part][mod.param_names[i]]=mod.param_values[i]\n",
    "        \n",
    "        # Concatenated model predictions: p hit\n",
    "        tmp = pd.DataFrame(mod.p_hit).transpose()\n",
    "        tmp.columns = tmp.columns+1\n",
    "        tmp = tmp.reset_index().rename(columns={'index': 'Cue'})\n",
    "        tmp.insert(0,'ID',ID)\n",
    "        p_hit_per_trial = pd.concat([tmp, p_hit_per_trial], axis=0)\n",
    "        \n",
    "        # Concatenated model predictions: EVs\n",
    "        tmp = pd.DataFrame(mod.v).transpose()\n",
    "        tmp.columns = tmp.columns+1\n",
    "        tmp = tmp.reset_index().rename(columns={'index': 'Cue'})\n",
    "        tmp.insert(0,'ID',ID)\n",
    "        ev_per_trial = pd.concat([tmp, ev_per_trial], axis=0)\n",
    "    \n",
    "    # Save mod LLs and parameter values\n",
    "    mod_fit = pd.DataFrame(all_users).transpose()\n",
    "    mod_fit.to_pickle(all_users_folder+'mod_param_fits.pkl')\n",
    "    \n",
    "    # Save mod predictions\n",
    "    p_hit_per_trial = p_hit_per_trial.sort_values(by='ID').reset_index(drop=True)\n",
    "    p_hit_per_trial.to_pickle(all_users_folder+'mod_p_hit_per_trial.pkl')\n",
    "    ev_per_trial = ev_per_trial.sort_values(by='ID').reset_index(drop=True)\n",
    "    ev_per_trial.to_pickle(all_users_folder+'mod_ev_per_trial.pkl')\n",
    "    "
   ]
  },
  {
   "cell_type": "code",
   "execution_count": null,
   "id": "058a7e10-2892-4862-bc73-26b83859b200",
   "metadata": {},
   "outputs": [],
   "source": []
  }
 ],
 "metadata": {
  "kernelspec": {
   "display_name": "Python 3 (ipykernel)",
   "language": "python",
   "name": "python3"
  },
  "language_info": {
   "codemirror_mode": {
    "name": "ipython",
    "version": 3
   },
   "file_extension": ".py",
   "mimetype": "text/x-python",
   "name": "python",
   "nbconvert_exporter": "python",
   "pygments_lexer": "ipython3",
   "version": "3.8.12"
  }
 },
 "nbformat": 4,
 "nbformat_minor": 5
}
