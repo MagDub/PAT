{
 "cells": [
  {
   "cell_type": "code",
   "execution_count": 1,
   "id": "ef1f495c-8fd9-49d7-8e8d-e41e7600ef7c",
   "metadata": {},
   "outputs": [],
   "source": [
    "import ipynb.fs.defs.functions as fct\n",
    "import pandas as pd\n",
    "import numpy as np\n",
    "import pickle\n",
    "import random\n",
    "from scipy.stats import pearsonr"
   ]
  },
  {
   "cell_type": "markdown",
   "id": "cb3c04dc-9e61-4ca2-bb59-41c322d439ed",
   "metadata": {},
   "source": [
    "# Sim - refit"
   ]
  },
  {
   "cell_type": "code",
   "execution_count": 2,
   "id": "4174bd6a-e9c2-4cc3-a8d8-7f9c2ffde3e1",
   "metadata": {},
   "outputs": [],
   "source": [
    "all_users_folder = 'data/all_users/'\n",
    "\n",
    "# Load IDs\n",
    "with open('uniqueIDs.pkl', 'rb') as f:\n",
    "    uniqueIDs = pickle.load(f)"
   ]
  },
  {
   "cell_type": "code",
   "execution_count": 3,
   "id": "384ebe04-66df-4f20-94ab-e4e676e4d77f",
   "metadata": {},
   "outputs": [],
   "source": [
    "# General\n",
    "model = 'mod8'\n",
    "\n",
    "# Number of simulations\n",
    "Nsim = 200"
   ]
  },
  {
   "cell_type": "code",
   "execution_count": 4,
   "id": "58613c12-ec2a-420e-ae43-438dc9f120d1",
   "metadata": {},
   "outputs": [
    {
     "name": "stdout",
     "output_type": "stream",
     "text": [
      "{'name': 'model8', 'value_fct': 'rescorla_wagner_shrinking_alpha', 'dec_fct': 'my_softmax_shrinking_press_bias', 'param_names': ['v0', 'alpha_t', 'beta', 'pi_t']}\n"
     ]
    }
   ],
   "source": [
    "# Model settings\n",
    "mod_info = pd.read_pickle(all_users_folder + model + '/mod_parameters.pkl')\n",
    "print(mod_info)\n",
    "\n",
    "# Extract functions\n",
    "value_fct = getattr(fct, mod_info['value_fct'])\n",
    "dec_fct = getattr(fct, mod_info['dec_fct'])\n",
    "\n",
    "# Parameter bounds\n",
    "param_lower_bounds = [-5, 0, 0, -5]\n",
    "param_upper_bounds = [5, 1, 5, 5]"
   ]
  },
  {
   "cell_type": "code",
   "execution_count": null,
   "id": "ab8a6147-1e0d-4bf4-9990-9b4daa4cbac4",
   "metadata": {
    "tags": []
   },
   "outputs": [
    {
     "name": "stdout",
     "output_type": "stream",
     "text": [
      "0\n"
     ]
    },
    {
     "name": "stderr",
     "output_type": "stream",
     "text": [
      "/Volumes/GoogleDrive/Mon Drive/PAT/data_analysis/functions.ipynb:382: RuntimeWarning: overflow encountered in exp\n",
      "  \"metadata\": {},\n",
      "/Volumes/GoogleDrive/Mon Drive/PAT/data_analysis/functions.ipynb:382: RuntimeWarning: invalid value encountered in true_divide\n",
      "  \"metadata\": {},\n",
      "/Volumes/GoogleDrive/Mon Drive/PAT/data_analysis/functions.ipynb:382: RuntimeWarning: overflow encountered in exp\n",
      "  \"metadata\": {},\n",
      "/Volumes/GoogleDrive/Mon Drive/PAT/data_analysis/functions.ipynb:382: RuntimeWarning: invalid value encountered in true_divide\n",
      "  \"metadata\": {},\n",
      "/Volumes/GoogleDrive/Mon Drive/PAT/data_analysis/functions.ipynb:382: RuntimeWarning: overflow encountered in exp\n",
      "  \"metadata\": {},\n",
      "/Volumes/GoogleDrive/Mon Drive/PAT/data_analysis/functions.ipynb:382: RuntimeWarning: invalid value encountered in true_divide\n",
      "  \"metadata\": {},\n",
      "/Volumes/GoogleDrive/Mon Drive/PAT/data_analysis/functions.ipynb:382: RuntimeWarning: overflow encountered in exp\n",
      "  \"metadata\": {},\n",
      "/Volumes/GoogleDrive/Mon Drive/PAT/data_analysis/functions.ipynb:382: RuntimeWarning: invalid value encountered in true_divide\n",
      "  \"metadata\": {},\n",
      "/Volumes/GoogleDrive/Mon Drive/PAT/data_analysis/functions.ipynb:382: RuntimeWarning: overflow encountered in exp\n",
      "  \"metadata\": {},\n",
      "/Volumes/GoogleDrive/Mon Drive/PAT/data_analysis/functions.ipynb:382: RuntimeWarning: invalid value encountered in true_divide\n",
      "  \"metadata\": {},\n"
     ]
    },
    {
     "name": "stdout",
     "output_type": "stream",
     "text": [
      "10\n"
     ]
    },
    {
     "name": "stderr",
     "output_type": "stream",
     "text": [
      "/Volumes/GoogleDrive/Mon Drive/PAT/data_analysis/functions.ipynb:382: RuntimeWarning: overflow encountered in exp\n",
      "  \"metadata\": {},\n",
      "/Volumes/GoogleDrive/Mon Drive/PAT/data_analysis/functions.ipynb:382: RuntimeWarning: invalid value encountered in true_divide\n",
      "  \"metadata\": {},\n",
      "/Volumes/GoogleDrive/Mon Drive/PAT/data_analysis/functions.ipynb:382: RuntimeWarning: overflow encountered in exp\n",
      "  \"metadata\": {},\n",
      "/Volumes/GoogleDrive/Mon Drive/PAT/data_analysis/functions.ipynb:382: RuntimeWarning: invalid value encountered in true_divide\n",
      "  \"metadata\": {},\n",
      "/Volumes/GoogleDrive/Mon Drive/PAT/data_analysis/functions.ipynb:382: RuntimeWarning: overflow encountered in exp\n",
      "  \"metadata\": {},\n",
      "/Volumes/GoogleDrive/Mon Drive/PAT/data_analysis/functions.ipynb:382: RuntimeWarning: invalid value encountered in true_divide\n",
      "  \"metadata\": {},\n",
      "/Volumes/GoogleDrive/Mon Drive/PAT/data_analysis/functions.ipynb:382: RuntimeWarning: overflow encountered in exp\n",
      "  \"metadata\": {},\n",
      "/Volumes/GoogleDrive/Mon Drive/PAT/data_analysis/functions.ipynb:382: RuntimeWarning: invalid value encountered in true_divide\n",
      "  \"metadata\": {},\n"
     ]
    },
    {
     "name": "stdout",
     "output_type": "stream",
     "text": [
      "20\n"
     ]
    },
    {
     "name": "stderr",
     "output_type": "stream",
     "text": [
      "/Volumes/GoogleDrive/Mon Drive/PAT/data_analysis/functions.ipynb:382: RuntimeWarning: overflow encountered in exp\n",
      "  \"metadata\": {},\n",
      "/Volumes/GoogleDrive/Mon Drive/PAT/data_analysis/functions.ipynb:382: RuntimeWarning: invalid value encountered in true_divide\n",
      "  \"metadata\": {},\n",
      "/Volumes/GoogleDrive/Mon Drive/PAT/data_analysis/functions.ipynb:382: RuntimeWarning: overflow encountered in exp\n",
      "  \"metadata\": {},\n",
      "/Volumes/GoogleDrive/Mon Drive/PAT/data_analysis/functions.ipynb:382: RuntimeWarning: invalid value encountered in true_divide\n",
      "  \"metadata\": {},\n",
      "/Volumes/GoogleDrive/Mon Drive/PAT/data_analysis/functions.ipynb:382: RuntimeWarning: overflow encountered in exp\n",
      "  \"metadata\": {},\n",
      "/Volumes/GoogleDrive/Mon Drive/PAT/data_analysis/functions.ipynb:382: RuntimeWarning: invalid value encountered in true_divide\n",
      "  \"metadata\": {},\n",
      "/Volumes/GoogleDrive/Mon Drive/PAT/data_analysis/functions.ipynb:382: RuntimeWarning: overflow encountered in exp\n",
      "  \"metadata\": {},\n",
      "/Volumes/GoogleDrive/Mon Drive/PAT/data_analysis/functions.ipynb:382: RuntimeWarning: invalid value encountered in true_divide\n",
      "  \"metadata\": {},\n",
      "/Volumes/GoogleDrive/Mon Drive/PAT/data_analysis/functions.ipynb:382: RuntimeWarning: overflow encountered in exp\n",
      "  \"metadata\": {},\n",
      "/Volumes/GoogleDrive/Mon Drive/PAT/data_analysis/functions.ipynb:382: RuntimeWarning: invalid value encountered in true_divide\n",
      "  \"metadata\": {},\n"
     ]
    },
    {
     "name": "stdout",
     "output_type": "stream",
     "text": [
      "30\n"
     ]
    },
    {
     "name": "stderr",
     "output_type": "stream",
     "text": [
      "/Volumes/GoogleDrive/Mon Drive/PAT/data_analysis/functions.ipynb:382: RuntimeWarning: overflow encountered in exp\n",
      "  \"metadata\": {},\n",
      "/Volumes/GoogleDrive/Mon Drive/PAT/data_analysis/functions.ipynb:382: RuntimeWarning: invalid value encountered in true_divide\n",
      "  \"metadata\": {},\n",
      "/Volumes/GoogleDrive/Mon Drive/PAT/data_analysis/functions.ipynb:382: RuntimeWarning: overflow encountered in exp\n",
      "  \"metadata\": {},\n",
      "/Volumes/GoogleDrive/Mon Drive/PAT/data_analysis/functions.ipynb:382: RuntimeWarning: invalid value encountered in true_divide\n",
      "  \"metadata\": {},\n",
      "/Volumes/GoogleDrive/Mon Drive/PAT/data_analysis/functions.ipynb:382: RuntimeWarning: overflow encountered in exp\n",
      "  \"metadata\": {},\n",
      "/Volumes/GoogleDrive/Mon Drive/PAT/data_analysis/functions.ipynb:382: RuntimeWarning: invalid value encountered in true_divide\n",
      "  \"metadata\": {},\n",
      "/Volumes/GoogleDrive/Mon Drive/PAT/data_analysis/functions.ipynb:382: RuntimeWarning: overflow encountered in exp\n",
      "  \"metadata\": {},\n",
      "/Volumes/GoogleDrive/Mon Drive/PAT/data_analysis/functions.ipynb:382: RuntimeWarning: invalid value encountered in true_divide\n",
      "  \"metadata\": {},\n"
     ]
    },
    {
     "name": "stdout",
     "output_type": "stream",
     "text": [
      "40\n"
     ]
    },
    {
     "name": "stderr",
     "output_type": "stream",
     "text": [
      "/Volumes/GoogleDrive/Mon Drive/PAT/data_analysis/functions.ipynb:382: RuntimeWarning: overflow encountered in exp\n",
      "  \"metadata\": {},\n",
      "/Volumes/GoogleDrive/Mon Drive/PAT/data_analysis/functions.ipynb:382: RuntimeWarning: invalid value encountered in true_divide\n",
      "  \"metadata\": {},\n",
      "/Volumes/GoogleDrive/Mon Drive/PAT/data_analysis/functions.ipynb:382: RuntimeWarning: overflow encountered in exp\n",
      "  \"metadata\": {},\n",
      "/Volumes/GoogleDrive/Mon Drive/PAT/data_analysis/functions.ipynb:382: RuntimeWarning: invalid value encountered in true_divide\n",
      "  \"metadata\": {},\n",
      "/Volumes/GoogleDrive/Mon Drive/PAT/data_analysis/functions.ipynb:382: RuntimeWarning: overflow encountered in exp\n",
      "  \"metadata\": {},\n",
      "/Volumes/GoogleDrive/Mon Drive/PAT/data_analysis/functions.ipynb:382: RuntimeWarning: invalid value encountered in true_divide\n",
      "  \"metadata\": {},\n",
      "/Volumes/GoogleDrive/Mon Drive/PAT/data_analysis/functions.ipynb:382: RuntimeWarning: overflow encountered in exp\n",
      "  \"metadata\": {},\n",
      "/Volumes/GoogleDrive/Mon Drive/PAT/data_analysis/functions.ipynb:382: RuntimeWarning: invalid value encountered in true_divide\n",
      "  \"metadata\": {},\n",
      "/Volumes/GoogleDrive/Mon Drive/PAT/data_analysis/functions.ipynb:382: RuntimeWarning: overflow encountered in exp\n",
      "  \"metadata\": {},\n",
      "/Volumes/GoogleDrive/Mon Drive/PAT/data_analysis/functions.ipynb:382: RuntimeWarning: invalid value encountered in true_divide\n",
      "  \"metadata\": {},\n",
      "/Volumes/GoogleDrive/Mon Drive/PAT/data_analysis/functions.ipynb:382: RuntimeWarning: overflow encountered in exp\n",
      "  \"metadata\": {},\n",
      "/Volumes/GoogleDrive/Mon Drive/PAT/data_analysis/functions.ipynb:382: RuntimeWarning: invalid value encountered in true_divide\n",
      "  \"metadata\": {},\n",
      "/Volumes/GoogleDrive/Mon Drive/PAT/data_analysis/functions.ipynb:382: RuntimeWarning: overflow encountered in exp\n",
      "  \"metadata\": {},\n",
      "/Volumes/GoogleDrive/Mon Drive/PAT/data_analysis/functions.ipynb:382: RuntimeWarning: invalid value encountered in true_divide\n",
      "  \"metadata\": {},\n"
     ]
    },
    {
     "name": "stdout",
     "output_type": "stream",
     "text": [
      "50\n"
     ]
    },
    {
     "name": "stderr",
     "output_type": "stream",
     "text": [
      "/Volumes/GoogleDrive/Mon Drive/PAT/data_analysis/functions.ipynb:382: RuntimeWarning: overflow encountered in exp\n",
      "  \"metadata\": {},\n",
      "/Volumes/GoogleDrive/Mon Drive/PAT/data_analysis/functions.ipynb:382: RuntimeWarning: invalid value encountered in true_divide\n",
      "  \"metadata\": {},\n",
      "/Volumes/GoogleDrive/Mon Drive/PAT/data_analysis/functions.ipynb:382: RuntimeWarning: overflow encountered in exp\n",
      "  \"metadata\": {},\n",
      "/Volumes/GoogleDrive/Mon Drive/PAT/data_analysis/functions.ipynb:382: RuntimeWarning: invalid value encountered in true_divide\n",
      "  \"metadata\": {},\n",
      "/Volumes/GoogleDrive/Mon Drive/PAT/data_analysis/functions.ipynb:382: RuntimeWarning: overflow encountered in exp\n",
      "  \"metadata\": {},\n",
      "/Volumes/GoogleDrive/Mon Drive/PAT/data_analysis/functions.ipynb:382: RuntimeWarning: invalid value encountered in true_divide\n",
      "  \"metadata\": {},\n",
      "/Volumes/GoogleDrive/Mon Drive/PAT/data_analysis/functions.ipynb:382: RuntimeWarning: overflow encountered in exp\n",
      "  \"metadata\": {},\n",
      "/Volumes/GoogleDrive/Mon Drive/PAT/data_analysis/functions.ipynb:382: RuntimeWarning: invalid value encountered in true_divide\n",
      "  \"metadata\": {},\n",
      "/Volumes/GoogleDrive/Mon Drive/PAT/data_analysis/functions.ipynb:382: RuntimeWarning: overflow encountered in exp\n",
      "  \"metadata\": {},\n",
      "/Volumes/GoogleDrive/Mon Drive/PAT/data_analysis/functions.ipynb:382: RuntimeWarning: invalid value encountered in true_divide\n",
      "  \"metadata\": {},\n",
      "/Volumes/GoogleDrive/Mon Drive/PAT/data_analysis/functions.ipynb:382: RuntimeWarning: overflow encountered in exp\n",
      "  \"metadata\": {},\n",
      "/Volumes/GoogleDrive/Mon Drive/PAT/data_analysis/functions.ipynb:382: RuntimeWarning: invalid value encountered in true_divide\n",
      "  \"metadata\": {},\n"
     ]
    },
    {
     "name": "stdout",
     "output_type": "stream",
     "text": [
      "60\n"
     ]
    },
    {
     "name": "stderr",
     "output_type": "stream",
     "text": [
      "/Volumes/GoogleDrive/Mon Drive/PAT/data_analysis/functions.ipynb:382: RuntimeWarning: overflow encountered in exp\n",
      "  \"metadata\": {},\n",
      "/Volumes/GoogleDrive/Mon Drive/PAT/data_analysis/functions.ipynb:382: RuntimeWarning: invalid value encountered in true_divide\n",
      "  \"metadata\": {},\n",
      "/Volumes/GoogleDrive/Mon Drive/PAT/data_analysis/functions.ipynb:382: RuntimeWarning: overflow encountered in exp\n",
      "  \"metadata\": {},\n",
      "/Volumes/GoogleDrive/Mon Drive/PAT/data_analysis/functions.ipynb:382: RuntimeWarning: invalid value encountered in true_divide\n",
      "  \"metadata\": {},\n",
      "/Volumes/GoogleDrive/Mon Drive/PAT/data_analysis/functions.ipynb:382: RuntimeWarning: overflow encountered in exp\n",
      "  \"metadata\": {},\n",
      "/Volumes/GoogleDrive/Mon Drive/PAT/data_analysis/functions.ipynb:382: RuntimeWarning: invalid value encountered in true_divide\n",
      "  \"metadata\": {},\n",
      "/Volumes/GoogleDrive/Mon Drive/PAT/data_analysis/functions.ipynb:382: RuntimeWarning: overflow encountered in exp\n",
      "  \"metadata\": {},\n",
      "/Volumes/GoogleDrive/Mon Drive/PAT/data_analysis/functions.ipynb:382: RuntimeWarning: invalid value encountered in true_divide\n",
      "  \"metadata\": {},\n",
      "/Volumes/GoogleDrive/Mon Drive/PAT/data_analysis/functions.ipynb:382: RuntimeWarning: overflow encountered in exp\n",
      "  \"metadata\": {},\n",
      "/Volumes/GoogleDrive/Mon Drive/PAT/data_analysis/functions.ipynb:382: RuntimeWarning: invalid value encountered in true_divide\n",
      "  \"metadata\": {},\n",
      "/Volumes/GoogleDrive/Mon Drive/PAT/data_analysis/functions.ipynb:382: RuntimeWarning: overflow encountered in exp\n",
      "  \"metadata\": {},\n",
      "/Volumes/GoogleDrive/Mon Drive/PAT/data_analysis/functions.ipynb:382: RuntimeWarning: invalid value encountered in true_divide\n",
      "  \"metadata\": {},\n",
      "/Volumes/GoogleDrive/Mon Drive/PAT/data_analysis/functions.ipynb:382: RuntimeWarning: overflow encountered in exp\n",
      "  \"metadata\": {},\n",
      "/Volumes/GoogleDrive/Mon Drive/PAT/data_analysis/functions.ipynb:382: RuntimeWarning: invalid value encountered in true_divide\n",
      "  \"metadata\": {},\n",
      "/Volumes/GoogleDrive/Mon Drive/PAT/data_analysis/functions.ipynb:382: RuntimeWarning: overflow encountered in exp\n",
      "  \"metadata\": {},\n",
      "/Volumes/GoogleDrive/Mon Drive/PAT/data_analysis/functions.ipynb:382: RuntimeWarning: invalid value encountered in true_divide\n",
      "  \"metadata\": {},\n",
      "/Volumes/GoogleDrive/Mon Drive/PAT/data_analysis/functions.ipynb:382: RuntimeWarning: overflow encountered in exp\n",
      "  \"metadata\": {},\n",
      "/Volumes/GoogleDrive/Mon Drive/PAT/data_analysis/functions.ipynb:382: RuntimeWarning: invalid value encountered in true_divide\n",
      "  \"metadata\": {},\n",
      "/Volumes/GoogleDrive/Mon Drive/PAT/data_analysis/functions.ipynb:382: RuntimeWarning: overflow encountered in exp\n",
      "  \"metadata\": {},\n",
      "/Volumes/GoogleDrive/Mon Drive/PAT/data_analysis/functions.ipynb:382: RuntimeWarning: invalid value encountered in true_divide\n",
      "  \"metadata\": {},\n"
     ]
    },
    {
     "name": "stdout",
     "output_type": "stream",
     "text": [
      "70\n"
     ]
    },
    {
     "name": "stderr",
     "output_type": "stream",
     "text": [
      "/Volumes/GoogleDrive/Mon Drive/PAT/data_analysis/functions.ipynb:382: RuntimeWarning: overflow encountered in exp\n",
      "  \"metadata\": {},\n",
      "/Volumes/GoogleDrive/Mon Drive/PAT/data_analysis/functions.ipynb:382: RuntimeWarning: invalid value encountered in true_divide\n",
      "  \"metadata\": {},\n",
      "/Volumes/GoogleDrive/Mon Drive/PAT/data_analysis/functions.ipynb:382: RuntimeWarning: overflow encountered in exp\n",
      "  \"metadata\": {},\n",
      "/Volumes/GoogleDrive/Mon Drive/PAT/data_analysis/functions.ipynb:382: RuntimeWarning: invalid value encountered in true_divide\n",
      "  \"metadata\": {},\n",
      "/Volumes/GoogleDrive/Mon Drive/PAT/data_analysis/functions.ipynb:382: RuntimeWarning: overflow encountered in exp\n",
      "  \"metadata\": {},\n",
      "/Volumes/GoogleDrive/Mon Drive/PAT/data_analysis/functions.ipynb:382: RuntimeWarning: invalid value encountered in true_divide\n",
      "  \"metadata\": {},\n",
      "/Volumes/GoogleDrive/Mon Drive/PAT/data_analysis/functions.ipynb:382: RuntimeWarning: overflow encountered in exp\n",
      "  \"metadata\": {},\n",
      "/Volumes/GoogleDrive/Mon Drive/PAT/data_analysis/functions.ipynb:382: RuntimeWarning: invalid value encountered in true_divide\n",
      "  \"metadata\": {},\n",
      "/Volumes/GoogleDrive/Mon Drive/PAT/data_analysis/functions.ipynb:382: RuntimeWarning: overflow encountered in exp\n",
      "  \"metadata\": {},\n",
      "/Volumes/GoogleDrive/Mon Drive/PAT/data_analysis/functions.ipynb:382: RuntimeWarning: invalid value encountered in true_divide\n",
      "  \"metadata\": {},\n"
     ]
    },
    {
     "name": "stdout",
     "output_type": "stream",
     "text": [
      "80\n"
     ]
    },
    {
     "name": "stderr",
     "output_type": "stream",
     "text": [
      "/Volumes/GoogleDrive/Mon Drive/PAT/data_analysis/functions.ipynb:382: RuntimeWarning: overflow encountered in exp\n",
      "  \"metadata\": {},\n",
      "/Volumes/GoogleDrive/Mon Drive/PAT/data_analysis/functions.ipynb:382: RuntimeWarning: invalid value encountered in true_divide\n",
      "  \"metadata\": {},\n",
      "/Volumes/GoogleDrive/Mon Drive/PAT/data_analysis/functions.ipynb:382: RuntimeWarning: overflow encountered in exp\n",
      "  \"metadata\": {},\n",
      "/Volumes/GoogleDrive/Mon Drive/PAT/data_analysis/functions.ipynb:382: RuntimeWarning: invalid value encountered in true_divide\n",
      "  \"metadata\": {},\n",
      "/Volumes/GoogleDrive/Mon Drive/PAT/data_analysis/functions.ipynb:382: RuntimeWarning: overflow encountered in exp\n",
      "  \"metadata\": {},\n",
      "/Volumes/GoogleDrive/Mon Drive/PAT/data_analysis/functions.ipynb:382: RuntimeWarning: invalid value encountered in true_divide\n",
      "  \"metadata\": {},\n",
      "/Volumes/GoogleDrive/Mon Drive/PAT/data_analysis/functions.ipynb:382: RuntimeWarning: overflow encountered in exp\n",
      "  \"metadata\": {},\n",
      "/Volumes/GoogleDrive/Mon Drive/PAT/data_analysis/functions.ipynb:382: RuntimeWarning: invalid value encountered in true_divide\n",
      "  \"metadata\": {},\n",
      "/Volumes/GoogleDrive/Mon Drive/PAT/data_analysis/functions.ipynb:382: RuntimeWarning: overflow encountered in exp\n",
      "  \"metadata\": {},\n",
      "/Volumes/GoogleDrive/Mon Drive/PAT/data_analysis/functions.ipynb:382: RuntimeWarning: invalid value encountered in true_divide\n",
      "  \"metadata\": {},\n",
      "/Volumes/GoogleDrive/Mon Drive/PAT/data_analysis/functions.ipynb:382: RuntimeWarning: overflow encountered in exp\n",
      "  \"metadata\": {},\n",
      "/Volumes/GoogleDrive/Mon Drive/PAT/data_analysis/functions.ipynb:382: RuntimeWarning: invalid value encountered in true_divide\n",
      "  \"metadata\": {},\n",
      "/Volumes/GoogleDrive/Mon Drive/PAT/data_analysis/functions.ipynb:382: RuntimeWarning: overflow encountered in exp\n",
      "  \"metadata\": {},\n",
      "/Volumes/GoogleDrive/Mon Drive/PAT/data_analysis/functions.ipynb:382: RuntimeWarning: invalid value encountered in true_divide\n",
      "  \"metadata\": {},\n",
      "/Volumes/GoogleDrive/Mon Drive/PAT/data_analysis/functions.ipynb:382: RuntimeWarning: overflow encountered in exp\n",
      "  \"metadata\": {},\n",
      "/Volumes/GoogleDrive/Mon Drive/PAT/data_analysis/functions.ipynb:382: RuntimeWarning: invalid value encountered in true_divide\n",
      "  \"metadata\": {},\n"
     ]
    },
    {
     "name": "stdout",
     "output_type": "stream",
     "text": [
      "90\n"
     ]
    },
    {
     "name": "stderr",
     "output_type": "stream",
     "text": [
      "/Volumes/GoogleDrive/Mon Drive/PAT/data_analysis/functions.ipynb:382: RuntimeWarning: overflow encountered in exp\n",
      "  \"metadata\": {},\n",
      "/Volumes/GoogleDrive/Mon Drive/PAT/data_analysis/functions.ipynb:382: RuntimeWarning: invalid value encountered in true_divide\n",
      "  \"metadata\": {},\n",
      "/Volumes/GoogleDrive/Mon Drive/PAT/data_analysis/functions.ipynb:382: RuntimeWarning: overflow encountered in exp\n",
      "  \"metadata\": {},\n",
      "/Volumes/GoogleDrive/Mon Drive/PAT/data_analysis/functions.ipynb:382: RuntimeWarning: invalid value encountered in true_divide\n",
      "  \"metadata\": {},\n",
      "/Volumes/GoogleDrive/Mon Drive/PAT/data_analysis/functions.ipynb:382: RuntimeWarning: overflow encountered in exp\n",
      "  \"metadata\": {},\n",
      "/Volumes/GoogleDrive/Mon Drive/PAT/data_analysis/functions.ipynb:382: RuntimeWarning: invalid value encountered in true_divide\n",
      "  \"metadata\": {},\n",
      "/Volumes/GoogleDrive/Mon Drive/PAT/data_analysis/functions.ipynb:382: RuntimeWarning: overflow encountered in exp\n",
      "  \"metadata\": {},\n",
      "/Volumes/GoogleDrive/Mon Drive/PAT/data_analysis/functions.ipynb:382: RuntimeWarning: invalid value encountered in true_divide\n",
      "  \"metadata\": {},\n"
     ]
    },
    {
     "name": "stdout",
     "output_type": "stream",
     "text": [
      "100\n"
     ]
    },
    {
     "name": "stderr",
     "output_type": "stream",
     "text": [
      "/Volumes/GoogleDrive/Mon Drive/PAT/data_analysis/functions.ipynb:382: RuntimeWarning: overflow encountered in exp\n",
      "  \"metadata\": {},\n",
      "/Volumes/GoogleDrive/Mon Drive/PAT/data_analysis/functions.ipynb:382: RuntimeWarning: invalid value encountered in true_divide\n",
      "  \"metadata\": {},\n",
      "/Volumes/GoogleDrive/Mon Drive/PAT/data_analysis/functions.ipynb:382: RuntimeWarning: overflow encountered in exp\n",
      "  \"metadata\": {},\n",
      "/Volumes/GoogleDrive/Mon Drive/PAT/data_analysis/functions.ipynb:382: RuntimeWarning: invalid value encountered in true_divide\n",
      "  \"metadata\": {},\n",
      "/Volumes/GoogleDrive/Mon Drive/PAT/data_analysis/functions.ipynb:382: RuntimeWarning: overflow encountered in exp\n",
      "  \"metadata\": {},\n",
      "/Volumes/GoogleDrive/Mon Drive/PAT/data_analysis/functions.ipynb:382: RuntimeWarning: invalid value encountered in true_divide\n",
      "  \"metadata\": {},\n",
      "/Volumes/GoogleDrive/Mon Drive/PAT/data_analysis/functions.ipynb:382: RuntimeWarning: overflow encountered in exp\n",
      "  \"metadata\": {},\n",
      "/Volumes/GoogleDrive/Mon Drive/PAT/data_analysis/functions.ipynb:382: RuntimeWarning: invalid value encountered in true_divide\n",
      "  \"metadata\": {},\n",
      "/Volumes/GoogleDrive/Mon Drive/PAT/data_analysis/functions.ipynb:382: RuntimeWarning: overflow encountered in exp\n",
      "  \"metadata\": {},\n",
      "/Volumes/GoogleDrive/Mon Drive/PAT/data_analysis/functions.ipynb:382: RuntimeWarning: invalid value encountered in true_divide\n",
      "  \"metadata\": {},\n",
      "/Volumes/GoogleDrive/Mon Drive/PAT/data_analysis/functions.ipynb:382: RuntimeWarning: overflow encountered in exp\n",
      "  \"metadata\": {},\n",
      "/Volumes/GoogleDrive/Mon Drive/PAT/data_analysis/functions.ipynb:382: RuntimeWarning: invalid value encountered in true_divide\n",
      "  \"metadata\": {},\n"
     ]
    },
    {
     "name": "stdout",
     "output_type": "stream",
     "text": [
      "110\n"
     ]
    },
    {
     "name": "stderr",
     "output_type": "stream",
     "text": [
      "/Volumes/GoogleDrive/Mon Drive/PAT/data_analysis/functions.ipynb:382: RuntimeWarning: overflow encountered in exp\n",
      "  \"metadata\": {},\n",
      "/Volumes/GoogleDrive/Mon Drive/PAT/data_analysis/functions.ipynb:382: RuntimeWarning: invalid value encountered in true_divide\n",
      "  \"metadata\": {},\n",
      "/Volumes/GoogleDrive/Mon Drive/PAT/data_analysis/functions.ipynb:382: RuntimeWarning: overflow encountered in exp\n",
      "  \"metadata\": {},\n",
      "/Volumes/GoogleDrive/Mon Drive/PAT/data_analysis/functions.ipynb:382: RuntimeWarning: invalid value encountered in true_divide\n",
      "  \"metadata\": {},\n",
      "/Volumes/GoogleDrive/Mon Drive/PAT/data_analysis/functions.ipynb:382: RuntimeWarning: overflow encountered in exp\n",
      "  \"metadata\": {},\n",
      "/Volumes/GoogleDrive/Mon Drive/PAT/data_analysis/functions.ipynb:382: RuntimeWarning: invalid value encountered in true_divide\n",
      "  \"metadata\": {},\n",
      "/Volumes/GoogleDrive/Mon Drive/PAT/data_analysis/functions.ipynb:382: RuntimeWarning: overflow encountered in exp\n",
      "  \"metadata\": {},\n",
      "/Volumes/GoogleDrive/Mon Drive/PAT/data_analysis/functions.ipynb:382: RuntimeWarning: invalid value encountered in true_divide\n",
      "  \"metadata\": {},\n",
      "/Volumes/GoogleDrive/Mon Drive/PAT/data_analysis/functions.ipynb:382: RuntimeWarning: overflow encountered in exp\n",
      "  \"metadata\": {},\n",
      "/Volumes/GoogleDrive/Mon Drive/PAT/data_analysis/functions.ipynb:382: RuntimeWarning: invalid value encountered in true_divide\n",
      "  \"metadata\": {},\n",
      "/Volumes/GoogleDrive/Mon Drive/PAT/data_analysis/functions.ipynb:382: RuntimeWarning: overflow encountered in exp\n",
      "  \"metadata\": {},\n",
      "/Volumes/GoogleDrive/Mon Drive/PAT/data_analysis/functions.ipynb:382: RuntimeWarning: invalid value encountered in true_divide\n",
      "  \"metadata\": {},\n"
     ]
    },
    {
     "name": "stdout",
     "output_type": "stream",
     "text": [
      "120\n"
     ]
    },
    {
     "name": "stderr",
     "output_type": "stream",
     "text": [
      "/Volumes/GoogleDrive/Mon Drive/PAT/data_analysis/functions.ipynb:382: RuntimeWarning: overflow encountered in exp\n",
      "  \"metadata\": {},\n",
      "/Volumes/GoogleDrive/Mon Drive/PAT/data_analysis/functions.ipynb:382: RuntimeWarning: invalid value encountered in true_divide\n",
      "  \"metadata\": {},\n",
      "/Volumes/GoogleDrive/Mon Drive/PAT/data_analysis/functions.ipynb:382: RuntimeWarning: overflow encountered in exp\n",
      "  \"metadata\": {},\n",
      "/Volumes/GoogleDrive/Mon Drive/PAT/data_analysis/functions.ipynb:382: RuntimeWarning: invalid value encountered in true_divide\n",
      "  \"metadata\": {},\n",
      "/Volumes/GoogleDrive/Mon Drive/PAT/data_analysis/functions.ipynb:382: RuntimeWarning: overflow encountered in exp\n",
      "  \"metadata\": {},\n",
      "/Volumes/GoogleDrive/Mon Drive/PAT/data_analysis/functions.ipynb:382: RuntimeWarning: invalid value encountered in true_divide\n",
      "  \"metadata\": {},\n",
      "/Volumes/GoogleDrive/Mon Drive/PAT/data_analysis/functions.ipynb:382: RuntimeWarning: overflow encountered in exp\n",
      "  \"metadata\": {},\n",
      "/Volumes/GoogleDrive/Mon Drive/PAT/data_analysis/functions.ipynb:382: RuntimeWarning: invalid value encountered in true_divide\n",
      "  \"metadata\": {},\n",
      "/Volumes/GoogleDrive/Mon Drive/PAT/data_analysis/functions.ipynb:382: RuntimeWarning: overflow encountered in exp\n",
      "  \"metadata\": {},\n",
      "/Volumes/GoogleDrive/Mon Drive/PAT/data_analysis/functions.ipynb:382: RuntimeWarning: invalid value encountered in true_divide\n",
      "  \"metadata\": {},\n"
     ]
    },
    {
     "name": "stdout",
     "output_type": "stream",
     "text": [
      "130\n"
     ]
    },
    {
     "name": "stderr",
     "output_type": "stream",
     "text": [
      "/Volumes/GoogleDrive/Mon Drive/PAT/data_analysis/functions.ipynb:382: RuntimeWarning: overflow encountered in exp\n",
      "  \"metadata\": {},\n",
      "/Volumes/GoogleDrive/Mon Drive/PAT/data_analysis/functions.ipynb:382: RuntimeWarning: invalid value encountered in true_divide\n",
      "  \"metadata\": {},\n",
      "/Volumes/GoogleDrive/Mon Drive/PAT/data_analysis/functions.ipynb:382: RuntimeWarning: overflow encountered in exp\n",
      "  \"metadata\": {},\n",
      "/Volumes/GoogleDrive/Mon Drive/PAT/data_analysis/functions.ipynb:382: RuntimeWarning: invalid value encountered in true_divide\n",
      "  \"metadata\": {},\n",
      "/Volumes/GoogleDrive/Mon Drive/PAT/data_analysis/functions.ipynb:382: RuntimeWarning: overflow encountered in exp\n",
      "  \"metadata\": {},\n",
      "/Volumes/GoogleDrive/Mon Drive/PAT/data_analysis/functions.ipynb:382: RuntimeWarning: invalid value encountered in true_divide\n",
      "  \"metadata\": {},\n",
      "/Volumes/GoogleDrive/Mon Drive/PAT/data_analysis/functions.ipynb:382: RuntimeWarning: overflow encountered in exp\n",
      "  \"metadata\": {},\n",
      "/Volumes/GoogleDrive/Mon Drive/PAT/data_analysis/functions.ipynb:382: RuntimeWarning: invalid value encountered in true_divide\n",
      "  \"metadata\": {},\n",
      "/Volumes/GoogleDrive/Mon Drive/PAT/data_analysis/functions.ipynb:382: RuntimeWarning: overflow encountered in exp\n",
      "  \"metadata\": {},\n",
      "/Volumes/GoogleDrive/Mon Drive/PAT/data_analysis/functions.ipynb:382: RuntimeWarning: invalid value encountered in true_divide\n",
      "  \"metadata\": {},\n",
      "/Volumes/GoogleDrive/Mon Drive/PAT/data_analysis/functions.ipynb:382: RuntimeWarning: overflow encountered in exp\n",
      "  \"metadata\": {},\n",
      "/Volumes/GoogleDrive/Mon Drive/PAT/data_analysis/functions.ipynb:382: RuntimeWarning: invalid value encountered in true_divide\n",
      "  \"metadata\": {},\n"
     ]
    },
    {
     "name": "stdout",
     "output_type": "stream",
     "text": [
      "140\n"
     ]
    },
    {
     "name": "stderr",
     "output_type": "stream",
     "text": [
      "/Volumes/GoogleDrive/Mon Drive/PAT/data_analysis/functions.ipynb:382: RuntimeWarning: overflow encountered in exp\n",
      "  \"metadata\": {},\n",
      "/Volumes/GoogleDrive/Mon Drive/PAT/data_analysis/functions.ipynb:382: RuntimeWarning: invalid value encountered in true_divide\n",
      "  \"metadata\": {},\n",
      "/Volumes/GoogleDrive/Mon Drive/PAT/data_analysis/functions.ipynb:382: RuntimeWarning: overflow encountered in exp\n",
      "  \"metadata\": {},\n",
      "/Volumes/GoogleDrive/Mon Drive/PAT/data_analysis/functions.ipynb:382: RuntimeWarning: invalid value encountered in true_divide\n",
      "  \"metadata\": {},\n",
      "/Volumes/GoogleDrive/Mon Drive/PAT/data_analysis/functions.ipynb:382: RuntimeWarning: overflow encountered in exp\n",
      "  \"metadata\": {},\n",
      "/Volumes/GoogleDrive/Mon Drive/PAT/data_analysis/functions.ipynb:382: RuntimeWarning: invalid value encountered in true_divide\n",
      "  \"metadata\": {},\n",
      "/Volumes/GoogleDrive/Mon Drive/PAT/data_analysis/functions.ipynb:382: RuntimeWarning: overflow encountered in exp\n",
      "  \"metadata\": {},\n",
      "/Volumes/GoogleDrive/Mon Drive/PAT/data_analysis/functions.ipynb:382: RuntimeWarning: invalid value encountered in true_divide\n",
      "  \"metadata\": {},\n",
      "/Volumes/GoogleDrive/Mon Drive/PAT/data_analysis/functions.ipynb:382: RuntimeWarning: overflow encountered in exp\n",
      "  \"metadata\": {},\n",
      "/Volumes/GoogleDrive/Mon Drive/PAT/data_analysis/functions.ipynb:382: RuntimeWarning: invalid value encountered in true_divide\n",
      "  \"metadata\": {},\n",
      "/Volumes/GoogleDrive/Mon Drive/PAT/data_analysis/functions.ipynb:382: RuntimeWarning: overflow encountered in exp\n",
      "  \"metadata\": {},\n",
      "/Volumes/GoogleDrive/Mon Drive/PAT/data_analysis/functions.ipynb:382: RuntimeWarning: invalid value encountered in true_divide\n",
      "  \"metadata\": {},\n"
     ]
    },
    {
     "name": "stdout",
     "output_type": "stream",
     "text": [
      "150\n"
     ]
    },
    {
     "name": "stderr",
     "output_type": "stream",
     "text": [
      "/Volumes/GoogleDrive/Mon Drive/PAT/data_analysis/functions.ipynb:382: RuntimeWarning: overflow encountered in exp\n",
      "  \"metadata\": {},\n",
      "/Volumes/GoogleDrive/Mon Drive/PAT/data_analysis/functions.ipynb:382: RuntimeWarning: invalid value encountered in true_divide\n",
      "  \"metadata\": {},\n",
      "/Volumes/GoogleDrive/Mon Drive/PAT/data_analysis/functions.ipynb:382: RuntimeWarning: overflow encountered in exp\n",
      "  \"metadata\": {},\n",
      "/Volumes/GoogleDrive/Mon Drive/PAT/data_analysis/functions.ipynb:382: RuntimeWarning: invalid value encountered in true_divide\n",
      "  \"metadata\": {},\n",
      "/Volumes/GoogleDrive/Mon Drive/PAT/data_analysis/functions.ipynb:382: RuntimeWarning: overflow encountered in exp\n",
      "  \"metadata\": {},\n",
      "/Volumes/GoogleDrive/Mon Drive/PAT/data_analysis/functions.ipynb:382: RuntimeWarning: invalid value encountered in true_divide\n",
      "  \"metadata\": {},\n",
      "/Volumes/GoogleDrive/Mon Drive/PAT/data_analysis/functions.ipynb:382: RuntimeWarning: overflow encountered in exp\n",
      "  \"metadata\": {},\n",
      "/Volumes/GoogleDrive/Mon Drive/PAT/data_analysis/functions.ipynb:382: RuntimeWarning: invalid value encountered in true_divide\n",
      "  \"metadata\": {},\n",
      "/Volumes/GoogleDrive/Mon Drive/PAT/data_analysis/functions.ipynb:382: RuntimeWarning: overflow encountered in exp\n",
      "  \"metadata\": {},\n",
      "/Volumes/GoogleDrive/Mon Drive/PAT/data_analysis/functions.ipynb:382: RuntimeWarning: invalid value encountered in true_divide\n",
      "  \"metadata\": {},\n"
     ]
    },
    {
     "name": "stdout",
     "output_type": "stream",
     "text": [
      "160\n"
     ]
    },
    {
     "name": "stderr",
     "output_type": "stream",
     "text": [
      "/Volumes/GoogleDrive/Mon Drive/PAT/data_analysis/functions.ipynb:382: RuntimeWarning: overflow encountered in exp\n",
      "  \"metadata\": {},\n",
      "/Volumes/GoogleDrive/Mon Drive/PAT/data_analysis/functions.ipynb:382: RuntimeWarning: invalid value encountered in true_divide\n",
      "  \"metadata\": {},\n",
      "/Volumes/GoogleDrive/Mon Drive/PAT/data_analysis/functions.ipynb:382: RuntimeWarning: overflow encountered in exp\n",
      "  \"metadata\": {},\n",
      "/Volumes/GoogleDrive/Mon Drive/PAT/data_analysis/functions.ipynb:382: RuntimeWarning: invalid value encountered in true_divide\n",
      "  \"metadata\": {},\n",
      "/Volumes/GoogleDrive/Mon Drive/PAT/data_analysis/functions.ipynb:382: RuntimeWarning: overflow encountered in exp\n",
      "  \"metadata\": {},\n",
      "/Volumes/GoogleDrive/Mon Drive/PAT/data_analysis/functions.ipynb:382: RuntimeWarning: invalid value encountered in true_divide\n",
      "  \"metadata\": {},\n",
      "/Volumes/GoogleDrive/Mon Drive/PAT/data_analysis/functions.ipynb:382: RuntimeWarning: overflow encountered in exp\n",
      "  \"metadata\": {},\n",
      "/Volumes/GoogleDrive/Mon Drive/PAT/data_analysis/functions.ipynb:382: RuntimeWarning: invalid value encountered in true_divide\n",
      "  \"metadata\": {},\n",
      "/Volumes/GoogleDrive/Mon Drive/PAT/data_analysis/functions.ipynb:382: RuntimeWarning: overflow encountered in exp\n",
      "  \"metadata\": {},\n",
      "/Volumes/GoogleDrive/Mon Drive/PAT/data_analysis/functions.ipynb:382: RuntimeWarning: invalid value encountered in true_divide\n",
      "  \"metadata\": {},\n",
      "/Volumes/GoogleDrive/Mon Drive/PAT/data_analysis/functions.ipynb:382: RuntimeWarning: overflow encountered in exp\n",
      "  \"metadata\": {},\n",
      "/Volumes/GoogleDrive/Mon Drive/PAT/data_analysis/functions.ipynb:382: RuntimeWarning: invalid value encountered in true_divide\n",
      "  \"metadata\": {},\n",
      "/Volumes/GoogleDrive/Mon Drive/PAT/data_analysis/functions.ipynb:382: RuntimeWarning: overflow encountered in exp\n",
      "  \"metadata\": {},\n",
      "/Volumes/GoogleDrive/Mon Drive/PAT/data_analysis/functions.ipynb:382: RuntimeWarning: invalid value encountered in true_divide\n",
      "  \"metadata\": {},\n"
     ]
    }
   ],
   "source": [
    "# Get parameter values for simulation\n",
    "\n",
    "# Load fitted parameters\n",
    "data_mod = pd.read_pickle(all_users_folder + model + '/mod_param_fits.pkl')\n",
    "parameter_means = data_mod[mod_info['param_names']].mean()\n",
    "parameter_stds = data_mod[mod_info['param_names']].std()\n",
    "\n",
    "# Initialise matrices of nans\n",
    "all_sim_param_values = np.empty((Nsim, len(mod_info['param_names'])))\n",
    "all_fit_param_values = np.empty((Nsim, len(mod_info['param_names'])))\n",
    "all_sim_param_values[:] = np.NaN\n",
    "all_fit_param_values[:] = np.NaN\n",
    "\n",
    "# Sim and refit\n",
    "for sim_id in range(0, Nsim):\n",
    "    \n",
    "    if sim_id%10==0:\n",
    "        print(sim_id)\n",
    "    \n",
    "    # Sample from mean of fitted values\n",
    "    params = np.array([])\n",
    "\n",
    "    for param_mean, param_std, low_b, upp_b in zip(parameter_means, parameter_stds, param_lower_bounds, param_upper_bounds):\n",
    "\n",
    "        # Sample parameter from mean (resample if not within the bounds)\n",
    "        param = np.nan\n",
    "        while not(param >= low_b and param <= upp_b):\n",
    "            param = np.random.normal(size = 1, loc = param_mean, scale = param_std)\n",
    "\n",
    "        # Parameter value\n",
    "        params = np.append(params, param)\n",
    "\n",
    "    # Store\n",
    "    mod_info['param_values'] = params\n",
    "\n",
    "    # Create a model object\n",
    "    mod = fct.Model(mod_name = mod_info['name'],\n",
    "                 value_fct = value_fct, \n",
    "                 dec_fct = dec_fct, \n",
    "                 param_names = mod_info['param_names'])\n",
    "\n",
    "    # Extract random data set\n",
    "    random.shuffle(uniqueIDs)\n",
    "    ID = uniqueIDs[0]\n",
    "    user_folder = 'data/user_' + ID + '/'\n",
    "    df2_cf = pd.read_pickle(user_folder + 'df2_cf.pkl')\n",
    "    _, fbs_all_cues, trialNo_all_cues = fct.extract_hits_fbs(df2_cf)\n",
    "\n",
    "    # Simulate behaviour\n",
    "    mod.simulate_behaviour(fbs_all_cues, trialNo_all_cues, mod_info['param_values'], mod_info['param_names'])\n",
    "\n",
    "    # Fit model\n",
    "    mod.fit(param_lower_bounds, param_upper_bounds, n_iterations=5)\n",
    "\n",
    "    # Store\n",
    "    all_sim_param_values[sim_id,:] = mod.gen_param_values\n",
    "    all_fit_param_values[sim_id,:] = mod.param_values\n",
    "\n",
    "# Reformat\n",
    "df_sim = pd.DataFrame(all_sim_param_values, columns = mod_info['param_names'])\n",
    "df_sim.insert(0, 'Type', 'Sim')\n",
    "df_sim = df_sim.rename_axis('simID').reset_index()\n",
    "\n",
    "df_fit = pd.DataFrame(all_fit_param_values, columns = mod_info['param_names'])\n",
    "df_fit.insert(0, 'Type', 'Fit')\n",
    "df_fit = df_fit.rename_axis('simID').reset_index()\n",
    "\n",
    "df = pd.concat([df_sim, df_fit])\n",
    "df.sort_values(by='simID', ascending=True, inplace = True)\n",
    "df.reset_index(inplace = True, drop = True)\n",
    "\n",
    "# Save\n",
    "df.to_pickle(all_users_folder + '/sim_refit/' + mod_info['name'] + '.pkl')"
   ]
  },
  {
   "cell_type": "code",
   "execution_count": null,
   "id": "e74ee8c2-0c9d-41f0-9141-ba59ce99d8fb",
   "metadata": {},
   "outputs": [],
   "source": []
  }
 ],
 "metadata": {
  "kernelspec": {
   "display_name": "Python 3 (ipykernel)",
   "language": "python",
   "name": "python3"
  },
  "language_info": {
   "codemirror_mode": {
    "name": "ipython",
    "version": 3
   },
   "file_extension": ".py",
   "mimetype": "text/x-python",
   "name": "python",
   "nbconvert_exporter": "python",
   "pygments_lexer": "ipython3",
   "version": "3.8.12"
  }
 },
 "nbformat": 4,
 "nbformat_minor": 5
}
