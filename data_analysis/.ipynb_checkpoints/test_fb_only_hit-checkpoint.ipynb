{
 "cells": [
  {
   "cell_type": "code",
   "execution_count": 1,
   "id": "6184f009-c127-4d55-9ffa-683d223b0d3f",
   "metadata": {},
   "outputs": [],
   "source": [
    "import pandas as pd\n",
    "import ipynb.fs.defs.functions as fct\n",
    "import numpy as np"
   ]
  },
  {
   "cell_type": "code",
   "execution_count": 59,
   "id": "ef03a8fe-8209-49f8-a617-db66331d22a7",
   "metadata": {},
   "outputs": [],
   "source": [
    "# todo in function\n",
    "# change pe in pe[t-1]\n",
    "# change the for cue, fbs, hits loop (add hits)\n",
    "# add the if hit / else\n",
    "\n",
    "# have isHit_all_cues as input to the function"
   ]
  },
  {
   "cell_type": "code",
   "execution_count": 2,
   "id": "3ce71d4f-584e-4116-834f-ba53b0fd0032",
   "metadata": {},
   "outputs": [],
   "source": [
    "ID = '001'"
   ]
  },
  {
   "cell_type": "code",
   "execution_count": 3,
   "id": "a8a08a1b-7f25-4c3f-9474-3ba9bf2e6d46",
   "metadata": {},
   "outputs": [],
   "source": [
    "# Store everything\n",
    "mod_info = {}\n",
    "mod_info['name'] = 'model0'\n",
    "mod_info['param_names'] = ['alpha', 'beta']"
   ]
  },
  {
   "cell_type": "code",
   "execution_count": 4,
   "id": "46b4d6a7-f7a3-4e29-ac82-497ba7477537",
   "metadata": {},
   "outputs": [],
   "source": [
    "# Get data\n",
    "user_folder = 'data/user_' + ID + '/'\n",
    "df2_cf = pd.read_pickle(user_folder + 'df2_cf.pkl')\n",
    "isHit_all_cues, fbs_all_cues, trialNo_all_cues = fct.extract_hits_fbs(df2_cf)\n",
    "\n",
    "# Create a new Model object\n",
    "mod = fct.Model(mod_name = mod_info['name'],\n",
    "             value_fct = [], \n",
    "             dec_fct = [], \n",
    "             param_names = mod_info['param_names'])\n",
    "\n",
    "# Input data to model\n",
    "mod.set_data(ID, fbs_all_cues, isHit_all_cues, trialNo_all_cues)"
   ]
  },
  {
   "cell_type": "code",
   "execution_count": 29,
   "id": "59236591-dd0e-418a-bb78-c8ed7a1f0e26",
   "metadata": {},
   "outputs": [],
   "source": [
    "# Fixed parameter\n",
    "v0 = 0\n",
    "\n",
    "# Free parameters\n",
    "alpha = 0.2"
   ]
  },
  {
   "cell_type": "code",
   "execution_count": 56,
   "id": "3541a7de-07d2-4477-b959-b291a298d3a3",
   "metadata": {},
   "outputs": [],
   "source": [
    "# Initialise empty dictionnary\n",
    "vt_all_cues = dict.fromkeys(fbs_all_cues.keys())\n",
    "pe_all_cues = dict.fromkeys(fbs_all_cues.keys())\n",
    "\n",
    "# Iterate over cues\n",
    "for cue, fbs, hits in zip(fbs_all_cues.keys(), fbs_all_cues.values(), isHit_all_cues.values()):\n",
    "\n",
    "    # Initialise vector of values\n",
    "    vt = np.empty(len(fbs))\n",
    "    vt.fill(np.nan)\n",
    "\n",
    "    # Initialise vector of PEs\n",
    "    pe = np.empty(len(fbs))\n",
    "    pe.fill(np.nan)\n",
    "\n",
    "    # Fill in prior\n",
    "    # If want specific prior per cue, check value of cue\n",
    "    vt[0] = v0\n",
    "\n",
    "    # Iterate to fill in vector\n",
    "    for t in range(1,len(vt)):\n",
    "        \n",
    "        # if hit, recieves fb\n",
    "        if hits[t-1] == 1:\n",
    "\n",
    "            # Compute prediction error\n",
    "            pe[t-1] = fbs[t-1] - vt[t-1]\n",
    "\n",
    "            # Compute new vt and fill in \n",
    "            vt[t] = vt[t-1] + alpha * pe[t-1]\n",
    "            \n",
    "        # if no hit, no fb\n",
    "        elif hits[t-1] == 0:\n",
    "            \n",
    "            # vt does not change \n",
    "            vt[t] = vt[t-1] \n",
    "\n",
    "    vt_all_cues[cue] = vt\n",
    "    pe_all_cues[cue] = pe"
   ]
  },
  {
   "cell_type": "code",
   "execution_count": 58,
   "id": "b0fd72b5-9cc7-41f9-90ab-f7d25dc1ed07",
   "metadata": {},
   "outputs": [
    {
     "data": {
      "text/plain": [
       "{'HR': [1,\n",
       "  1,\n",
       "  1,\n",
       "  1,\n",
       "  0,\n",
       "  0,\n",
       "  0,\n",
       "  1,\n",
       "  0,\n",
       "  0,\n",
       "  0,\n",
       "  0,\n",
       "  0,\n",
       "  0,\n",
       "  0,\n",
       "  1,\n",
       "  0,\n",
       "  0,\n",
       "  0,\n",
       "  1,\n",
       "  1,\n",
       "  0,\n",
       "  0,\n",
       "  1,\n",
       "  0,\n",
       "  1,\n",
       "  1,\n",
       "  0],\n",
       " 'LR': [1,\n",
       "  1,\n",
       "  1,\n",
       "  0,\n",
       "  1,\n",
       "  0,\n",
       "  0,\n",
       "  1,\n",
       "  0,\n",
       "  0,\n",
       "  1,\n",
       "  1,\n",
       "  1,\n",
       "  1,\n",
       "  1,\n",
       "  0,\n",
       "  1,\n",
       "  1,\n",
       "  1,\n",
       "  0,\n",
       "  1,\n",
       "  1,\n",
       "  0,\n",
       "  1,\n",
       "  0,\n",
       "  0,\n",
       "  0,\n",
       "  1],\n",
       " 'HP': [0,\n",
       "  0,\n",
       "  0,\n",
       "  0,\n",
       "  0,\n",
       "  0,\n",
       "  0,\n",
       "  0,\n",
       "  0,\n",
       "  0,\n",
       "  0,\n",
       "  0,\n",
       "  0,\n",
       "  0,\n",
       "  0,\n",
       "  0,\n",
       "  0,\n",
       "  0,\n",
       "  0,\n",
       "  0,\n",
       "  0,\n",
       "  0,\n",
       "  0,\n",
       "  0,\n",
       "  0,\n",
       "  0,\n",
       "  0,\n",
       "  0],\n",
       " 'LP': [0,\n",
       "  1,\n",
       "  0,\n",
       "  0,\n",
       "  0,\n",
       "  0,\n",
       "  0,\n",
       "  0,\n",
       "  0,\n",
       "  0,\n",
       "  0,\n",
       "  0,\n",
       "  0,\n",
       "  0,\n",
       "  0,\n",
       "  0,\n",
       "  0,\n",
       "  0,\n",
       "  0,\n",
       "  0,\n",
       "  0,\n",
       "  0,\n",
       "  0,\n",
       "  0,\n",
       "  0,\n",
       "  0,\n",
       "  0,\n",
       "  0]}"
      ]
     },
     "execution_count": 58,
     "metadata": {},
     "output_type": "execute_result"
    }
   ],
   "source": [
    "isHit_all_cues"
   ]
  },
  {
   "cell_type": "code",
   "execution_count": 57,
   "id": "d9c69f66-a5cc-4043-81f3-484d18ff5e08",
   "metadata": {},
   "outputs": [
    {
     "data": {
      "text/plain": [
       "{'HR': array([ 0.        ,  1.        ,  1.        , -0.2       , -0.36      ,\n",
       "        -0.36      , -0.36      , -0.36      , -1.288     , -1.288     ,\n",
       "        -1.288     , -1.288     , -1.288     , -1.288     , -1.288     ,\n",
       "        -1.288     , -0.0304    , -0.0304    , -0.0304    , -0.0304    ,\n",
       "         0.97568   ,  1.780544  ,  1.780544  ,  1.780544  ,  0.4244352 ,\n",
       "         0.4244352 ,  1.33954816,  0.87163853]),\n",
       " 'LR': array([ 0.        ,  1.        ,  1.        ,  1.        ,  1.        ,\n",
       "        -0.2       , -0.2       , -0.2       ,  0.84      ,  0.84      ,\n",
       "         0.84      ,  0.872     ,  0.8976    ,  1.71808   ,  1.174464  ,\n",
       "         1.1395712 ,  1.1395712 , -0.08834304, -1.07067443, -1.05653955,\n",
       "        -1.05653955,  0.15476836,  1.12381469,  1.12381469,  1.09905175,\n",
       "         1.09905175,  1.09905175,  1.09905175]),\n",
       " 'HP': array([0., 0., 0., 0., 0., 0., 0., 0., 0., 0., 0., 0., 0., 0., 0., 0., 0.,\n",
       "        0., 0., 0., 0., 0., 0., 0., 0., 0., 0., 0.]),\n",
       " 'LP': array([ 0.,  0., -1., -1., -1., -1., -1., -1., -1., -1., -1., -1., -1.,\n",
       "        -1., -1., -1., -1., -1., -1., -1., -1., -1., -1., -1., -1., -1.,\n",
       "        -1., -1.])}"
      ]
     },
     "execution_count": 57,
     "metadata": {},
     "output_type": "execute_result"
    }
   ],
   "source": [
    "vt_all_cues"
   ]
  },
  {
   "cell_type": "code",
   "execution_count": 31,
   "id": "c2b22a19-0c2d-4a51-a136-5cc97e171457",
   "metadata": {},
   "outputs": [
    {
     "data": {
      "text/plain": [
       "{'HR': array([ 0.        ,  1.        ,  1.        , -0.2       , -0.36      ,\n",
       "        -0.488     ,  0.6096    ,  0.68768   , -0.449856  ,  0.6401152 ,\n",
       "         1.51209216,  2.20967373,  1.96773898,  2.57419119,  3.05935295,\n",
       "         3.44748236,  3.75798589,  3.20638871,  1.56511097,  1.45208877,\n",
       "         2.16167102,  2.72933682,  1.98346945,  1.78677556,  0.42942045,\n",
       "         1.34353636,  2.07482909,  1.45986327]),\n",
       " 'LR': array([ 0.        ,  1.        ,  1.        ,  1.        ,  1.8       ,\n",
       "         0.44      , -0.648     ,  0.4816    ,  1.38528   ,  1.308224  ,\n",
       "         0.8465792 ,  0.87726336,  0.90181069,  1.72144855,  1.17715884,\n",
       "         1.14172707,  0.71338166, -0.42929467, -1.34343574, -1.27474859,\n",
       "        -0.81979887,  0.3441609 ,  1.27532872,  2.02026298,  1.81621038,\n",
       "         2.45296831,  2.96237464,  2.56989972]),\n",
       " 'HP': array([ 0.        , -1.        ,  0.2       , -0.84      , -0.472     ,\n",
       "        -1.3776    , -2.10208   , -0.681664  , -1.5453312 , -1.03626496,\n",
       "        -1.82901197, -2.46320957, -2.17056766, -1.93645413, -1.7491633 ,\n",
       "        -0.39933064, -1.31946451, -2.05557161, -1.44445729, -2.15556583,\n",
       "        -2.72445266, -2.37956213, -2.90364971, -1.32291976, -1.25833581,\n",
       "        -1.20666865, -1.96533492, -1.37226794]),\n",
       " 'LP': array([ 0.        ,  1.        , -0.2       , -0.36      , -0.488     ,\n",
       "        -0.1904    , -1.15232   , -1.121856  , -1.0974848 , -1.87798784,\n",
       "        -2.50239027, -2.20191222, -1.56152977, -2.24922382, -0.79937906,\n",
       "        -0.83950324, -0.8716026 , -0.49728208,  0.60217434,  1.48173947,\n",
       "         0.18539158, -0.05168674, -1.04134939, -1.83307951, -1.66646361,\n",
       "        -2.33317089, -1.66653671, -1.53322937])}"
      ]
     },
     "execution_count": 31,
     "metadata": {},
     "output_type": "execute_result"
    }
   ],
   "source": [
    "vt_all_cues"
   ]
  },
  {
   "cell_type": "code",
   "execution_count": 17,
   "id": "dc64d6a6-c85c-41c8-b32d-8ad815696764",
   "metadata": {},
   "outputs": [],
   "source": []
  },
  {
   "cell_type": "code",
   "execution_count": 18,
   "id": "aed4ff31-4fb6-40ba-a293-3171ff6c6056",
   "metadata": {},
   "outputs": [],
   "source": []
  },
  {
   "cell_type": "code",
   "execution_count": null,
   "id": "3b1c1245-dc91-4b4e-9353-cd42d6b3c950",
   "metadata": {},
   "outputs": [],
   "source": []
  }
 ],
 "metadata": {
  "kernelspec": {
   "display_name": "Python 3 (ipykernel)",
   "language": "python",
   "name": "python3"
  },
  "language_info": {
   "codemirror_mode": {
    "name": "ipython",
    "version": 3
   },
   "file_extension": ".py",
   "mimetype": "text/x-python",
   "name": "python",
   "nbconvert_exporter": "python",
   "pygments_lexer": "ipython3",
   "version": "3.8.12"
  }
 },
 "nbformat": 4,
 "nbformat_minor": 5
}
