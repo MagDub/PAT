{
 "cells": [
  {
   "cell_type": "code",
   "execution_count": 1,
   "id": "ef1f495c-8fd9-49d7-8e8d-e41e7600ef7c",
   "metadata": {},
   "outputs": [],
   "source": [
    "import ipynb.fs.defs.functions_v2 as fct\n",
    "import pandas as pd\n",
    "import numpy as np\n",
    "import pickle\n",
    "import random\n",
    "from scipy.stats import pearsonr, bernoulli\n",
    "from scipy.optimize import minimize"
   ]
  },
  {
   "cell_type": "markdown",
   "id": "cb3c04dc-9e61-4ca2-bb59-41c322d439ed",
   "metadata": {},
   "source": [
    "# Sim - refit"
   ]
  },
  {
   "cell_type": "code",
   "execution_count": 2,
   "id": "e3aa1c50-6c5d-4c96-81ae-3adf33f53423",
   "metadata": {},
   "outputs": [],
   "source": [
    "Nsim = 1"
   ]
  },
  {
   "cell_type": "code",
   "execution_count": 3,
   "id": "b15dd6b6-cdf5-45aa-bd14-9dc6d3f3f41d",
   "metadata": {},
   "outputs": [],
   "source": [
    "mod_info = {}\n",
    "mod_info['name'] = 'mod000' \n",
    "mod_info['value_fct']= 'rescorla_wagner_noV0_1trial'\n",
    "mod_info['dec_fct']= 'my_softmax_nobeta_1trial'\n",
    "mod_info['param_names']= ['alpha']\n",
    "\n",
    "value_fct = mod_info['value_fct']\n",
    "dec_fct = mod_info['dec_fct']\n",
    "\n",
    "# Parameter bounds\n",
    "param_lower_bounds = [0]\n",
    "param_upper_bounds = [1]"
   ]
  },
  {
   "cell_type": "markdown",
   "id": "2640720a-cb79-4dbb-adb1-124a606d59dd",
   "metadata": {
    "tags": []
   },
   "source": [
    "# Functions"
   ]
  },
  {
   "cell_type": "code",
   "execution_count": 4,
   "id": "56efd751-b61e-4fc2-96d1-c67bd264ed07",
   "metadata": {},
   "outputs": [],
   "source": [
    "def fit(fct, param_lower_bound, param_upper_bound, n_iterations=5, method='Powell'):\n",
    "\n",
    "    # compute sequence of parameter bounds\n",
    "    bounds = []\n",
    "    for low, up in zip(param_lower_bound, param_upper_bound):\n",
    "        bounds.append([low,up])\n",
    "\n",
    "    # init\n",
    "    mat_min_nLL=[]\n",
    "    mat_best_params=[]\n",
    "\n",
    "    for i in range(0, n_iterations):\n",
    "\n",
    "        # define the starting point as a random sample from the domain\n",
    "        initial_guess = np.array(param_lower_bound) + np.random.rand(len(param_lower_bound)) * (np.array(param_upper_bound) - np.array(param_lower_bound))\n",
    "\n",
    "        # find the min likelihood \n",
    "        result = minimize(fct, initial_guess, method = method, bounds = bounds, \n",
    "                          options={'xtol': 1e-8, 'disp': False})\n",
    "\n",
    "        # store min_nLL and parameters\n",
    "        mat_min_nLL.append(result.fun)\n",
    "        mat_best_params.append(result.x)\n",
    "\n",
    "    # Find best params\n",
    "    ind = np.argmin(mat_min_nLL)\n",
    "    best_params = mat_best_params[ind]\n",
    "\n",
    "    return best_params"
   ]
  },
  {
   "cell_type": "code",
   "execution_count": 5,
   "id": "7f9ffe61-1f85-468a-bf43-2b544fe044de",
   "metadata": {},
   "outputs": [],
   "source": [
    "def compute_nLL(param_values):\n",
    "    \n",
    "    mod_info['param_values'] = param_values\n",
    "        \n",
    "    data = run_model(mod_info, fbs_all_cues, data = data_sim, sim = 0)\n",
    "\n",
    "    total_nLL_all_cues, nLLs_all_cues, Ntrials_per_cue = compute_ll_per_cue(data['p_hits'], data_sim['hit'])\n",
    "\n",
    "    nLL = sum(total_nLL_all_cues.values())\n",
    "\n",
    "    return nLL"
   ]
  },
  {
   "cell_type": "code",
   "execution_count": 6,
   "id": "8fead529-49d1-41b9-a012-4584e088ad3a",
   "metadata": {},
   "outputs": [],
   "source": [
    "def rescorla_wagner_noV0_1trial(vt_m_1, isHit, fb, param_names, param_values):   \n",
    "\n",
    "    # Free parameters\n",
    "    alpha = param_values[param_names.index('alpha')]\n",
    "\n",
    "    pe = np.nan\n",
    "\n",
    "    # if hit, recieves fb\n",
    "    if isHit == 1:\n",
    "        # Compute prediction error\n",
    "        pe = fb - vt_m_1\n",
    "        # Compute new vt and fill in \n",
    "        vt = vt_m_1 + alpha * pe\n",
    "\n",
    "    # if no hit, no fb\n",
    "    else:\n",
    "        # vt does not change \n",
    "        vt = vt_m_1\n",
    "\n",
    "    return vt, pe"
   ]
  },
  {
   "cell_type": "code",
   "execution_count": 7,
   "id": "cb9a76d0-e64b-4b71-b23f-4ec71a284f5a",
   "metadata": {},
   "outputs": [],
   "source": [
    "def my_softmax_nobeta_1trial(vt, param_names, param_values): \n",
    "\n",
    "    x = vt\n",
    "    \n",
    "    p_hit =  np.exp(x)/(np.exp(x)+1)\n",
    "\n",
    "    return p_hit"
   ]
  },
  {
   "cell_type": "code",
   "execution_count": 8,
   "id": "5c28f68a-ab28-41a2-a94f-64753a6e6ecd",
   "metadata": {},
   "outputs": [],
   "source": [
    "def sample_params(param_lower_bounds, param_upper_bounds):\n",
    "    \n",
    "    params = np.array([])\n",
    "\n",
    "    for low_b, upp_b in zip(param_lower_bounds, param_upper_bounds):\n",
    "\n",
    "        # Sample parameter from mean (resample if not within the bounds)\n",
    "        param = np.nan\n",
    "        param = np.random.uniform(low=low_b, high=upp_b, size=None)\n",
    "\n",
    "        # Parameter value\n",
    "        params = np.append(params, param)\n",
    "        \n",
    "    return params"
   ]
  },
  {
   "cell_type": "code",
   "execution_count": 16,
   "id": "5901493b-2175-4a04-850e-aed87034fa2b",
   "metadata": {},
   "outputs": [],
   "source": [
    "def init_empty_dict(fbs_all_cues):\n",
    "    \n",
    "    # initialise empty dictionnary\n",
    "    p_hit_all_cues = dict.fromkeys(fbs_all_cues.keys())\n",
    "    vt_all_cues = dict.fromkeys(fbs_all_cues.keys())\n",
    "    pe_all_cues = dict.fromkeys(fbs_all_cues.keys())\n",
    "    \n",
    "    return vt_all_cues, p_hit_all_cues, pe_all_cues"
   ]
  },
  {
   "cell_type": "code",
   "execution_count": 17,
   "id": "1d32c44a-c514-410e-9628-e5a045236fca",
   "metadata": {},
   "outputs": [],
   "source": [
    "def extract_rand_dataset():\n",
    "    \n",
    "    all_users_folder = 'data/all_users/'\n",
    "\n",
    "    # Load IDs\n",
    "    with open('uniqueIDs.pkl', 'rb') as f:\n",
    "        uniqueIDs = pickle.load(f)\n",
    "\n",
    "    # Extract random data set\n",
    "    random.shuffle(uniqueIDs)\n",
    "    ID = uniqueIDs[0]\n",
    "    user_folder = 'data/user_' + ID + '/'\n",
    "    df2_cf = pd.read_pickle(user_folder + 'df2_cf.pkl')\n",
    "    _, fbs_all_cues, trialNo_all_cues = fct.extract_hits_fbs(df2_cf)\n",
    "    print('Dataset from ID =',ID)\n",
    "    \n",
    "    return fbs_all_cues, trialNo_all_cues"
   ]
  },
  {
   "cell_type": "code",
   "execution_count": 83,
   "id": "02fd588b-caff-461d-888a-c3804d4b5258",
   "metadata": {},
   "outputs": [],
   "source": [
    "def compute_ll_per_cue(p_hit_all_cues, isHit_all_cues):\n",
    "        \n",
    "    # Initialise empty dicitonnary\n",
    "    nLLs_all_cues = dict.fromkeys(p_hit_all_cues.keys())\n",
    "    total_nLL_all_cues = dict.fromkeys(p_hit_all_cues.keys())\n",
    "    Ntrials_per_cue = dict.fromkeys(p_hit_all_cues.keys())\n",
    "\n",
    "    # Iterate over cues\n",
    "    for cue, p_hit in p_hit_all_cues.items():\n",
    "        \n",
    "        isHit = isHit_all_cues[cue]\n",
    "        nll_all = []\n",
    "\n",
    "        for ind, hit in enumerate(isHit):\n",
    "\n",
    "            y = hit\n",
    "            f_x = p_hit[ind]\n",
    "\n",
    "            # logistic reg cost function\n",
    "            nll = - y * np.log(f_x) - (1-y) * np.log(1-f_x)\n",
    "            \n",
    "            nll_all.append(nll)\n",
    "\n",
    "        nLLs_all_cues[cue] = nll_all\n",
    "        total_nLL_all_cues[cue] = sum(nll_all)\n",
    "        Ntrials_per_cue[cue] = len(nll_all)\n",
    "\n",
    "    return total_nLL_all_cues, nLLs_all_cues, Ntrials_per_cue"
   ]
  },
  {
   "cell_type": "code",
   "execution_count": 84,
   "id": "9556d885-4331-4670-a639-9120ff49161d",
   "metadata": {},
   "outputs": [],
   "source": [
    "def run_model(mod_info, fbs_all_cues, data, sim):\n",
    "    \n",
    "    vt_all_cues, p_hit_all_cues, pe_all_cues = init_empty_dict(fbs_all_cues)\n",
    "\n",
    "    if sim == 1:\n",
    "        isHit_all_cues = dict.fromkeys(fbs_all_cues.keys())\n",
    "    else:\n",
    "        isHit_all_cues = data['hit']\n",
    "\n",
    "    # Iterate over cues\n",
    "    for cue, fbs in zip(fbs_all_cues.keys(), fbs_all_cues.values()):\n",
    "\n",
    "        # v0\n",
    "        vts = [mod_info['param_values'][mod_info['param_names'].index('v0')] if 'v0' in mod_info['param_names'] else 0]\n",
    "           \n",
    "        # init\n",
    "        p_hits = []\n",
    "        hits = []\n",
    "        \n",
    "        # t = 0\n",
    "        p_hits.append(my_softmax_nobeta_1trial(vts[0], mod_info['param_names'], mod_info['param_values']))\n",
    "        \n",
    "        if sim == 1:\n",
    "            isHit = 1 if p_hits[0]>=0.5 else 0\n",
    "            hits.append(isHit)\n",
    "        else:\n",
    "            hits = isHit_all_cues[cue]\n",
    "\n",
    "        for t in range(1,len(fbs)):\n",
    "\n",
    "            # compute evs and prob\n",
    "            vt, pe = rescorla_wagner_noV0_1trial(vts[t-1], hits[t-1], fbs[t-1], mod_info['param_names'], mod_info['param_values'])\n",
    "            p_hit = my_softmax_nobeta_1trial(vt, mod_info['param_names'], mod_info['param_values'])\n",
    "\n",
    "            # sim behaviour\n",
    "            if sim == 1:\n",
    "                isHit = 1 if p_hit>=0.5 else 0\n",
    "                hits.append(isHit)\n",
    "\n",
    "            # store\n",
    "            vts.append(vt)\n",
    "            p_hits.append(p_hit)   \n",
    "\n",
    "        vt_all_cues[cue] = vts\n",
    "        p_hit_all_cues[cue] = p_hits\n",
    "        pe_all_cues[cue] = pe\n",
    "\n",
    "        if sim == 1:\n",
    "            isHit_all_cues[cue] = hits\n",
    "\n",
    "    # store\n",
    "    data = {}\n",
    "    data['v'] = vt_all_cues\n",
    "    data['pe'] = pe_all_cues\n",
    "    data['p_hits'] = p_hit_all_cues\n",
    "    data['hit'] = isHit_all_cues\n",
    "\n",
    "    return data"
   ]
  },
  {
   "cell_type": "markdown",
   "id": "217696b1-3d5a-49ec-9290-ac4eaea833a3",
   "metadata": {},
   "source": [
    "# Main"
   ]
  },
  {
   "cell_type": "markdown",
   "id": "842976e6-7fe4-459e-a8b0-03c84a2fd9b8",
   "metadata": {},
   "source": [
    "### Sample param"
   ]
  },
  {
   "cell_type": "code",
   "execution_count": 102,
   "id": "0a566ce1-f5cc-4fba-ad8c-87dc1050e71f",
   "metadata": {},
   "outputs": [
    {
     "name": "stdout",
     "output_type": "stream",
     "text": [
      "[0.09167533]\n"
     ]
    }
   ],
   "source": [
    "params = sample_params(param_lower_bounds, param_upper_bounds)\n",
    "mod_info['param_values'] = params\n",
    "print(params)"
   ]
  },
  {
   "cell_type": "markdown",
   "id": "5b94eb0d-ea2a-4b95-85fd-56bdf36d3e59",
   "metadata": {
    "tags": []
   },
   "source": [
    "### Extract random dataset"
   ]
  },
  {
   "cell_type": "code",
   "execution_count": 103,
   "id": "d5392a00-c876-49e7-b77e-356d84348ba2",
   "metadata": {},
   "outputs": [
    {
     "name": "stdout",
     "output_type": "stream",
     "text": [
      "Dataset from ID = 229\n"
     ]
    }
   ],
   "source": [
    "fbs_all_cues, trialNo_all_cues = extract_rand_dataset()"
   ]
  },
  {
   "cell_type": "markdown",
   "id": "5a2f0b4d-3b78-4e27-8111-e9a2813150e4",
   "metadata": {},
   "source": [
    "### Simulate model"
   ]
  },
  {
   "cell_type": "code",
   "execution_count": 104,
   "id": "e93dff31-b633-4c00-9476-af77d40daad3",
   "metadata": {},
   "outputs": [],
   "source": [
    "data_sim = run_model(mod_info, fbs_all_cues, data = [], sim = 1)"
   ]
  },
  {
   "cell_type": "markdown",
   "id": "0c3fd940-91c6-4092-9d02-8e33ec17b2bd",
   "metadata": {},
   "source": [
    "### Fit model"
   ]
  },
  {
   "cell_type": "code",
   "execution_count": 105,
   "id": "1d5ead09-6cdc-43e1-a9e6-ea1abfe14059",
   "metadata": {},
   "outputs": [],
   "source": [
    "#p_hit_all_cues = data['p_hits']\n",
    "isHit_all_cues = data_sim['hit']"
   ]
  },
  {
   "cell_type": "code",
   "execution_count": 106,
   "id": "71359bc0-f037-4a31-af18-7aa5b9beea97",
   "metadata": {},
   "outputs": [],
   "source": [
    "# compute sequence of parameter bounds\n",
    "bounds = []\n",
    "for low, up in zip(param_lower_bounds, param_upper_bounds):\n",
    "    bounds.append([low,up])\n",
    "    \n",
    "initial_guess = np.array(param_lower_bounds) + np.random.rand(len(param_lower_bounds)) * (np.array(param_upper_bounds) - np.array(param_lower_bounds))"
   ]
  },
  {
   "cell_type": "code",
   "execution_count": 107,
   "id": "ae2eca89-36c5-446c-be56-6eeb390f5331",
   "metadata": {},
   "outputs": [],
   "source": [
    "# find the min likelihood \n",
    "result = minimize(compute_nLL, initial_guess, method = 'Powell', bounds = bounds, \n",
    "                  options={'xtol': 1e-8, 'disp': False})"
   ]
  },
  {
   "cell_type": "code",
   "execution_count": 108,
   "id": "405083f4-c846-4a9e-ae66-e63c8a398661",
   "metadata": {},
   "outputs": [
    {
     "data": {
      "text/plain": [
       "   direc: array([[2.59930528e-08]])\n",
       "     fun: 20.35789500566529\n",
       " message: 'Optimization terminated successfully.'\n",
       "    nfev: 153\n",
       "     nit: 2\n",
       "  status: 0\n",
       " success: True\n",
       "       x: array([1.])"
      ]
     },
     "execution_count": 108,
     "metadata": {},
     "output_type": "execute_result"
    }
   ],
   "source": [
    "result"
   ]
  },
  {
   "cell_type": "code",
   "execution_count": null,
   "id": "d8161d60-88db-4614-847e-f5907590aa9d",
   "metadata": {},
   "outputs": [],
   "source": []
  },
  {
   "cell_type": "code",
   "execution_count": null,
   "id": "00c60773-6938-491d-890c-88ae9e4e750c",
   "metadata": {},
   "outputs": [],
   "source": []
  }
 ],
 "metadata": {
  "kernelspec": {
   "display_name": "Python 3 (ipykernel)",
   "language": "python",
   "name": "python3"
  },
  "language_info": {
   "codemirror_mode": {
    "name": "ipython",
    "version": 3
   },
   "file_extension": ".py",
   "mimetype": "text/x-python",
   "name": "python",
   "nbconvert_exporter": "python",
   "pygments_lexer": "ipython3",
   "version": "3.8.12"
  }
 },
 "nbformat": 4,
 "nbformat_minor": 5
}
