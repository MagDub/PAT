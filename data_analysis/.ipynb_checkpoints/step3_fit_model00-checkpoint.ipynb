{
 "cells": [
  {
   "cell_type": "code",
   "execution_count": 1,
   "id": "243982d9-7c77-43d7-a746-b2b976fabc01",
   "metadata": {},
   "outputs": [],
   "source": [
    "# On terminal: conda activate python38"
   ]
  },
  {
   "cell_type": "code",
   "execution_count": null,
   "id": "a1ee167e-9ecb-4462-a2de-a85fe73b6589",
   "metadata": {},
   "outputs": [],
   "source": []
  },
  {
   "cell_type": "code",
   "execution_count": 1,
   "id": "bb5ab949-f34a-4ad2-97dc-8dad2820f9f0",
   "metadata": {},
   "outputs": [],
   "source": [
    "import pandas as pd\n",
    "import numpy as np\n",
    "import matplotlib.pyplot as plt\n",
    "from matplotlib import cm\n",
    "import ipynb.fs.defs.functions as fct\n",
    "import pickle\n",
    "import scipy\n",
    "\n",
    "import warnings\n",
    "warnings.filterwarnings(\"error\")"
   ]
  },
  {
   "cell_type": "code",
   "execution_count": 2,
   "id": "6d60e517-0d2f-46ae-8ea8-d2bf28be6289",
   "metadata": {},
   "outputs": [],
   "source": [
    "# Load IDs\n",
    "with open('uniqueIDs.pkl', 'rb') as f:\n",
    "    uniqueIDs = pickle.load(f)"
   ]
  },
  {
   "cell_type": "markdown",
   "id": "8195244b-7d45-4d16-9ef0-8c8ee3056347",
   "metadata": {},
   "source": [
    "# Fit mod0 for each participant"
   ]
  },
  {
   "cell_type": "code",
   "execution_count": 3,
   "id": "5b2e6fee-e121-48e5-8842-097644839b0b",
   "metadata": {},
   "outputs": [],
   "source": [
    "# Model settings\n",
    "\n",
    "# Functions\n",
    "value_fct = fct.rescorla_wagner_noV0\n",
    "dec_fct = fct.my_softmax\n",
    "\n",
    "# Store everything\n",
    "mod_info = {}\n",
    "mod_info['name'] = 'model0'\n",
    "mod_info['value_fct'] = value_fct.__name__\n",
    "mod_info['dec_fct'] = dec_fct.__name__\n",
    "mod_info['param_names'] = ['alpha', 'beta']\n",
    "#print(mod['value_fct'].__name__)\n",
    "\n",
    "# save\n",
    "all_users_folder = 'data/all_users/mod0/'\n",
    "file_name = all_users_folder+'mod_parameters.pkl'\n",
    "with open(file_name, 'wb') as f:\n",
    "    pickle.dump(mod_info, f)"
   ]
  },
  {
   "cell_type": "code",
   "execution_count": 4,
   "id": "503779d8-b238-4a83-af74-ff9a53c761cd",
   "metadata": {},
   "outputs": [],
   "source": [
    "run_ = True\n",
    "\n",
    "# Folder\n",
    "all_users_folder = 'data/all_users/mod0/'\n",
    "    \n",
    "if run_:\n",
    "    \n",
    "    # Parameter range for initial guess \n",
    "    # ['alpha', 'beta']\n",
    "    param_lower_bound = [0, 0]\n",
    "    param_upper_bound = [1, 20]\n",
    "\n",
    "    # Fit\n",
    "    all_users = {}\n",
    "    p_hit_per_trial = pd.DataFrame([])\n",
    "    ev_per_trial = pd.DataFrame([])\n",
    "    \n",
    "    for n_part,ID in enumerate(uniqueIDs): \n",
    "\n",
    "        # Get data\n",
    "        user_folder = 'data/user_' + ID + '/'\n",
    "        df2_cf = pd.read_pickle(user_folder + 'df2_cf.pkl')\n",
    "        isHit_all_cues, fbs_all_cues, trialNo_all_cues = fct.extract_hits_fbs(df2_cf)\n",
    "\n",
    "        # Create a new Model object\n",
    "        mod = fct.Model(mod_name = mod_info['name'],\n",
    "                     value_fct = value_fct, \n",
    "                     dec_fct = dec_fct, \n",
    "                     param_names = mod_info['param_names'])\n",
    "\n",
    "        # Input data to model\n",
    "        mod.set_data(ID, fbs_all_cues, isHit_all_cues, trialNo_all_cues)\n",
    "\n",
    "        # Fit model\n",
    "        mod.fit(param_lower_bound, param_upper_bound, n_iterations=5)\n",
    "\n",
    "        # Nested dictionnary user data\n",
    "        all_users[n_part] = {}\n",
    "        all_users[n_part]['ID']=mod.ID\n",
    "        all_users[n_part]['nLL']=mod.nLL\n",
    "        all_users[n_part]['Ntrials']=mod.Ntrials\n",
    "        all_users[n_part]['Nparams']=len(mod.param_names)\n",
    "        \n",
    "        for i in range(0,len(mod.param_names)):\n",
    "            all_users[n_part][mod.param_names[i]]=mod.param_values[i]\n",
    "        \n",
    "        # Concatenated model predictions: p hit\n",
    "        tmp = pd.DataFrame(mod.p_hit).transpose()\n",
    "        tmp.columns = tmp.columns+1\n",
    "        tmp = tmp.reset_index().rename(columns={'index': 'Cue'})\n",
    "        tmp.insert(0,'ID',ID)\n",
    "        p_hit_per_trial = pd.concat([tmp, p_hit_per_trial], axis=0)\n",
    "        \n",
    "        # Concatenated model predictions: EVs\n",
    "        tmp = pd.DataFrame(mod.v).transpose()\n",
    "        tmp.columns = tmp.columns+1\n",
    "        tmp = tmp.reset_index().rename(columns={'index': 'Cue'})\n",
    "        tmp.insert(0,'ID',ID)\n",
    "        ev_per_trial = pd.concat([tmp, ev_per_trial], axis=0)\n",
    "    \n",
    "    # Save mod LLs and parameter values\n",
    "    mod_fit = pd.DataFrame(all_users).transpose()\n",
    "    mod_fit.to_pickle(all_users_folder+'mod_param_fits.pkl')\n",
    "    \n",
    "    # Save mod predictions\n",
    "    p_hit_per_trial = p_hit_per_trial.sort_values(by='ID').reset_index(drop=True)\n",
    "    p_hit_per_trial.to_pickle(all_users_folder+'mod_p_hit_per_trial.pkl')\n",
    "    ev_per_trial = ev_per_trial.sort_values(by='ID').reset_index(drop=True)\n",
    "    ev_per_trial.to_pickle(all_users_folder+'mod_ev_per_trial.pkl')\n",
    "    "
   ]
  },
  {
   "cell_type": "code",
   "execution_count": 7,
   "id": "5f317104-e6ed-4749-bd1a-c2785a395b88",
   "metadata": {},
   "outputs": [
    {
     "data": {
      "text/plain": [
       "{'HR': array([ 5.        ,  2.80538818, -8.42595943,  5.2723826 , -7.04178403,\n",
       "         6.04901246, -2.60603439,  0.53781239,  0.3017545 ,  4.1693077 ,\n",
       "         2.33930531, -4.68746811,  3.36996648, -2.10918718, -7.18341776,\n",
       "        -0.03045505,         nan,         nan, -0.01708765,         nan,\n",
       "                nan,         nan,         nan,         nan,         nan,\n",
       "                nan,         nan,         nan]),\n",
       " 'LR': array([-1.        ,         nan,         nan,         nan,         nan,\n",
       "                nan,         nan,         nan,         nan,         nan,\n",
       "                nan,         nan,         nan,         nan,  1.43892236,\n",
       "         4.80734716,  2.69729498, -2.48660811, -1.3951802 , -2.78280441,\n",
       "         0.43863068, -5.75389413,  2.77161868,         nan, -0.44490674,\n",
       "        -4.24962722,  7.6156292 ,         nan]),\n",
       " 'HP': array([-5.        ,         nan,         nan,         nan,         nan,\n",
       "                nan,         nan,         nan,         nan,         nan,\n",
       "                nan,         nan,         nan,         nan, -2.80538818,\n",
       "                nan,         nan,         nan,         nan,         nan,\n",
       "                nan,         nan,         nan,         nan,         nan,\n",
       "                nan,         nan,         nan]),\n",
       " 'LP': array([-5.        ,         nan,         nan,         nan,         nan,\n",
       "                nan,         nan,         nan,         nan,         nan,\n",
       "                nan,         nan,         nan,         nan,  7.19461182,\n",
       "        -5.96326421,  0.65414581,  0.36702659, -3.79406959,         nan,\n",
       "         3.8712324 ,  0.17206193, -3.9034599 ,  1.80985595,  3.0154697 ,\n",
       "        -4.30808739,         nan,         nan])}"
      ]
     },
     "execution_count": 7,
     "metadata": {},
     "output_type": "execute_result"
    }
   ],
   "source": [
    "mod.PEs"
   ]
  },
  {
   "cell_type": "code",
   "execution_count": null,
   "id": "d3a5fbc7-0cf3-4c73-85cb-32129d70e47c",
   "metadata": {},
   "outputs": [],
   "source": []
  }
 ],
 "metadata": {
  "kernelspec": {
   "display_name": "Python 3 (ipykernel)",
   "language": "python",
   "name": "python3"
  },
  "language_info": {
   "codemirror_mode": {
    "name": "ipython",
    "version": 3
   },
   "file_extension": ".py",
   "mimetype": "text/x-python",
   "name": "python",
   "nbconvert_exporter": "python",
   "pygments_lexer": "ipython3",
   "version": "3.8.12"
  }
 },
 "nbformat": 4,
 "nbformat_minor": 5
}
