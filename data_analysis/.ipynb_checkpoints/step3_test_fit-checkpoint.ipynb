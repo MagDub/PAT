{
 "cells": [
  {
   "cell_type": "code",
   "execution_count": 6,
   "id": "1a70d40f-5bb7-492c-85e4-62de5f23ccab",
   "metadata": {},
   "outputs": [],
   "source": [
    "import pandas as pd\n",
    "import numpy as np\n",
    "from scipy.optimize import minimize\n",
    "import ipynb.fs.defs.functions as fct\n",
    "\n",
    "import warnings\n",
    "warnings.filterwarnings(\"error\")"
   ]
  },
  {
   "cell_type": "code",
   "execution_count": 7,
   "id": "4f8b523c-a22d-45e2-8d6d-0726b1023b92",
   "metadata": {},
   "outputs": [],
   "source": [
    "ID = '007'\n",
    "\n",
    "# Get data\n",
    "user_folder = 'data/user_' + ID + '/'\n",
    "df2_cf = pd.read_pickle(user_folder + 'df2_cf.pkl')\n",
    "\n",
    "# Exctract hits and fbs per cue\n",
    "isHit_all_cues, fbs_all_cues = fct.extract_hits_fbs(df2_cf)\n",
    "\n",
    "# Create a new Model object\n",
    "mod1 = fct.Model(value_fct = fct.rescorla_wagner, \n",
    "             dec_fct = fct.my_softmax, \n",
    "             param_names = ['v0', 'alpha', 'beta'])\n",
    "\n",
    "# Input data to model\n",
    "mod1.set_data(fbs_all_cues, isHit_all_cues)"
   ]
  },
  {
   "cell_type": "code",
   "execution_count": 8,
   "id": "24e80a2d-7c95-40fc-9ae2-a172973a9835",
   "metadata": {},
   "outputs": [],
   "source": [
    "# Parameter bounds\n",
    "param_lower_bound = [-5, 0, 0]\n",
    "param_upper_bound = [ 5, 1, 2]"
   ]
  },
  {
   "cell_type": "code",
   "execution_count": 9,
   "id": "a800a024-464b-48f5-b64f-696b11afd7f6",
   "metadata": {},
   "outputs": [
    {
     "name": "stderr",
     "output_type": "stream",
     "text": [
      "/Volumes/GoogleDrive/Mon Drive/PAT/data_analysis/functions.ipynb:83: RuntimeWarning: overflow encountered in exp\n",
      "  \"        # Iterate to fill in vector\\n\",\n",
      "/Volumes/GoogleDrive/Mon Drive/PAT/data_analysis/functions.ipynb:83: RuntimeWarning: invalid value encountered in true_divide\n",
      "  \"        # Iterate to fill in vector\\n\",\n"
     ]
    }
   ],
   "source": [
    "mat_min_nLL=[]\n",
    "mat_best_params=[]\n",
    "\n",
    "for i in range(0,5):\n",
    "    \n",
    "    # define the starting point as a random sample from the domain\n",
    "    initial_guess = np.array(param_lower_bound) + np.random.rand(len(param_lower_bound)) * (np.array(param_upper_bound) - np.array(param_lower_bound))\n",
    "    \n",
    "    # find the min likelihood\n",
    "    result = minimize(mod1.compute_nLL, initial_guess, method='Powell',\n",
    "                   options={'xtol': 1e-8, 'disp': False})\n",
    "\n",
    "    # store min_nLL and parameters\n",
    "    mat_min_nLL.append(result.fun)\n",
    "    mat_best_params.append(result.x)"
   ]
  },
  {
   "cell_type": "code",
   "execution_count": 10,
   "id": "13a4b5b5-c8fe-49b1-8890-c7e826db9573",
   "metadata": {},
   "outputs": [
    {
     "name": "stdout",
     "output_type": "stream",
     "text": [
      "nan\n",
      "['v0', 'alpha', 'beta']\n",
      "[ 6.78951696 -1.29355764  0.50132495]\n"
     ]
    }
   ],
   "source": [
    "ind = np.argmin(mat_min_nLL)\n",
    "print(mat_min_nLL[ind])\n",
    "print(mod1.param_names)\n",
    "print(mat_best_params[ind])"
   ]
  },
  {
   "cell_type": "code",
   "execution_count": null,
   "id": "60adc3b9-8a41-47c1-981d-d007660580c7",
   "metadata": {},
   "outputs": [],
   "source": []
  }
 ],
 "metadata": {
  "kernelspec": {
   "display_name": "Python 3 (ipykernel)",
   "language": "python",
   "name": "python3"
  },
  "language_info": {
   "codemirror_mode": {
    "name": "ipython",
    "version": 3
   },
   "file_extension": ".py",
   "mimetype": "text/x-python",
   "name": "python",
   "nbconvert_exporter": "python",
   "pygments_lexer": "ipython3",
   "version": "3.8.12"
  }
 },
 "nbformat": 4,
 "nbformat_minor": 5
}
