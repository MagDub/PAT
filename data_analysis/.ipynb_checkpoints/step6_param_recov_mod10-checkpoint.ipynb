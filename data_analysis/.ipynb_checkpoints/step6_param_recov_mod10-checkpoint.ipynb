{
 "cells": [
  {
   "cell_type": "code",
   "execution_count": 14,
   "id": "ef1f495c-8fd9-49d7-8e8d-e41e7600ef7c",
   "metadata": {},
   "outputs": [],
   "source": [
    "import ipynb.fs.defs.functions as fct\n",
    "import pandas as pd\n",
    "import numpy as np\n",
    "import pickle\n",
    "import random\n",
    "from scipy.stats import pearsonr\n",
    "from scipy.stats import bernoulli\n",
    "import matplotlib.pyplot as plt"
   ]
  },
  {
   "cell_type": "markdown",
   "id": "cb3c04dc-9e61-4ca2-bb59-41c322d439ed",
   "metadata": {},
   "source": [
    "# Sim - refit"
   ]
  },
  {
   "cell_type": "code",
   "execution_count": 15,
   "id": "4174bd6a-e9c2-4cc3-a8d8-7f9c2ffde3e1",
   "metadata": {},
   "outputs": [],
   "source": [
    "all_users_folder = 'data/all_users/'\n",
    "\n",
    "# Load IDs\n",
    "with open('uniqueIDs.pkl', 'rb') as f:\n",
    "    uniqueIDs = pickle.load(f)"
   ]
  },
  {
   "cell_type": "code",
   "execution_count": 16,
   "id": "384ebe04-66df-4f20-94ab-e4e676e4d77f",
   "metadata": {},
   "outputs": [],
   "source": [
    "# General\n",
    "model = 'mod10'\n",
    "\n",
    "# Number of simulations\n",
    "Nsim = 1"
   ]
  },
  {
   "cell_type": "code",
   "execution_count": 17,
   "id": "58613c12-ec2a-420e-ae43-438dc9f120d1",
   "metadata": {},
   "outputs": [
    {
     "name": "stdout",
     "output_type": "stream",
     "text": [
      "{'name': 'model10', 'value_fct': 'rescorla_wagner_2LR_FB_noV0', 'dec_fct': 'my_softmax_shrinking_press_bias', 'param_names': ['alpha_rew', 'alpha_pun', 'beta', 'pi_t']}\n"
     ]
    }
   ],
   "source": [
    "# Model settings\n",
    "mod_info = pd.read_pickle(all_users_folder + model + '/mod_parameters.pkl')\n",
    "print(mod_info)\n",
    "\n",
    "# Extract functions\n",
    "value_fct = getattr(fct, mod_info['value_fct'])\n",
    "dec_fct = getattr(fct, mod_info['dec_fct'])\n",
    "\n",
    "# Parameter bounds\n",
    "param_lower_bounds = [0, 0, 0, 0]\n",
    "param_upper_bounds = [1, 1, 6, 1]"
   ]
  },
  {
   "cell_type": "code",
   "execution_count": 18,
   "id": "f854964c-accb-4e27-a2de-c793efa29006",
   "metadata": {},
   "outputs": [],
   "source": [
    "def rescorla_wagner_2LR_FB_1trial(vt_m_1, isHit, fb, alpha_rew, alpha_pun):\n",
    "            \n",
    "    # if hit, recieves fb\n",
    "    if isHit == 1:\n",
    "        \n",
    "        # Compute prediction error\n",
    "        pe = fb - vt_m_1\n",
    "\n",
    "        # Compute new vt and fill in \n",
    "        if fb > 0:\n",
    "            vt = vt_m_1 + alpha_rew * pe\n",
    "        elif fb < 0:\n",
    "            vt = vt_m_1 + alpha_pun * pe\n",
    "        else:\n",
    "            print('error, fb either 0 or nan?')\n",
    "\n",
    "    # if no hit, no fb\n",
    "    elif isHit == 0:\n",
    "        # vt does not change \n",
    "        vt = vt_m_1\n",
    "        pe = np.nan\n",
    "        \n",
    "    return vt, pe"
   ]
  },
  {
   "cell_type": "code",
   "execution_count": 19,
   "id": "11bd5f85-5b2f-4303-a3b6-e3b57af4bdc1",
   "metadata": {},
   "outputs": [],
   "source": [
    "def compute_shrink_factors(trialNo_all_cues, cue):\n",
    "    \n",
    "    # Extract trials for this cue\n",
    "    trials = trialNo_all_cues[cue]\n",
    "\n",
    "    # Reinitialise each trial of run 2 (above 56)\n",
    "    trials_per_run_lst = []\n",
    "    run_size = 56\n",
    "    for trial in trials:\n",
    "        if trial > run_size:\n",
    "            trials_per_run_lst.append(trial-run_size)\n",
    "        else:\n",
    "            trials_per_run_lst.append(trial)\n",
    "\n",
    "    # Convert to array\n",
    "    trials_per_run = np.array(trials_per_run_lst)\n",
    "\n",
    "    # Compute shrinking factor = (N-t)/N\n",
    "    # shrink = (run_size - trials_per_run)/run_size\n",
    "    shrink = trials_per_run\n",
    "\n",
    "    return shrink"
   ]
  },
  {
   "cell_type": "code",
   "execution_count": 20,
   "id": "f4620017-7822-42a5-857b-456e44461bb7",
   "metadata": {},
   "outputs": [],
   "source": [
    "def get_trials_per_run(trialNo_all_cues, cue):\n",
    "    \n",
    "    # Extract trials for this cue\n",
    "    trials = trialNo_all_cues[cue]\n",
    "\n",
    "    # Reinitialise each trial of run 2 (above 56)\n",
    "    trials_per_run_lst = []\n",
    "    run_size = 56\n",
    "    for trial in trials:\n",
    "        if trial > run_size:\n",
    "            trials_per_run_lst.append(trial-run_size)\n",
    "        else:\n",
    "            trials_per_run_lst.append(trial)\n",
    "\n",
    "    # Convert to array\n",
    "    trials_per_run = np.array(trials_per_run_lst)\n",
    "\n",
    "    return trials_per_run"
   ]
  },
  {
   "cell_type": "code",
   "execution_count": 21,
   "id": "7cbb4534-13fc-4a82-bca1-ec7e61163774",
   "metadata": {},
   "outputs": [],
   "source": [
    "def my_softmax_1trial(beta, vt):\n",
    "\n",
    "    x = beta * vt\n",
    "    \n",
    "    if x > 100:\n",
    "        p_hit = 1\n",
    "    else:\n",
    "        p_hit =  np.exp(x)/(np.exp(x)+1)\n",
    "\n",
    "    isHit = bernoulli.rvs(p_hit, size=1)\n",
    "\n",
    "    return int(isHit)"
   ]
  },
  {
   "cell_type": "code",
   "execution_count": 22,
   "id": "cb9a76d0-e64b-4b71-b23f-4ec71a284f5a",
   "metadata": {},
   "outputs": [],
   "source": [
    "def my_softmax_shrinking_press_bias_1trial(shrink, pi_t, beta, vt):\n",
    "\n",
    "    # Higher press bias with small trial numbers\n",
    "    shrinking_pi = pi_t * shrink\n",
    "    x = beta * (vt + shrinking_pi)\n",
    "    \n",
    "    if x > 100:\n",
    "        p_hit = 1\n",
    "    else:\n",
    "        p_hit =  np.exp(x)/(np.exp(x)+1)\n",
    "\n",
    "    #try:\n",
    "    #    p_hit =  np.exp(x)/(np.exp(x)+1)\n",
    "\n",
    "    #except RuntimeWarning:\n",
    "        # to avoid overflow errors\n",
    "    #    expon_bound = 700\n",
    "    #    p_hit = [1 if el>expon_bound else (np.exp(el)/(np.exp(el)+1)) for el in x]\n",
    "    \n",
    "    isHit = bernoulli.rvs(p_hit, size=1)\n",
    "\n",
    "    return int(isHit), shrinking_pi"
   ]
  },
  {
   "cell_type": "code",
   "execution_count": 27,
   "id": "37c55545-9b55-44f2-b170-0be49ef8fe90",
   "metadata": {},
   "outputs": [],
   "source": [
    "def simulate_behav(fbs_all_cues, trialNo_all_cues, param_values, param_names):\n",
    "    \n",
    "    # Value function \n",
    "    # Free parameters\n",
    "    v0 = 0\n",
    "    alpha_rew = param_values[param_names.index('alpha_rew')]\n",
    "    alpha_pun = param_values[param_names.index('alpha_pun')]\n",
    "\n",
    "    # Initialise empty dictionary\n",
    "    vt_all_cues = dict.fromkeys(fbs_all_cues.keys())\n",
    "    pe_all_cues = dict.fromkeys(fbs_all_cues.keys())\n",
    "    shrink_all_cues = dict.fromkeys(fbs_all_cues.keys())\n",
    "    shrinking_pis_all_cues = dict.fromkeys(fbs_all_cues.keys())\n",
    "    vtraw_all_cues = dict.fromkeys(fbs_all_cues.keys())\n",
    "    \n",
    "    # Decision function\n",
    "    # Free parameters\n",
    "    beta = param_values[param_names.index('beta')]\n",
    "    pi_t = param_values[param_names.index('pi_t')]\n",
    "\n",
    "    # Initialise empty dictionary\n",
    "    isHit_all_cues = dict.fromkeys(vt_all_cues.keys())\n",
    "    \n",
    "    run_size = 56\n",
    "    \n",
    "    # Iterate over cues\n",
    "    for cue, fbs in zip(fbs_all_cues.keys(), fbs_all_cues.values()):\n",
    "\n",
    "        # Initialise vector of values\n",
    "        vts = np.empty(len(fbs))\n",
    "        vts.fill(np.nan)\n",
    "        \n",
    "        # Initialise vector of values\n",
    "        vtraws = np.empty(len(fbs))\n",
    "        vtraws.fill(np.nan)\n",
    "\n",
    "        # Initialise vector of hits\n",
    "        hits = np.empty(len(fbs))\n",
    "        hits.fill(np.nan)\n",
    "\n",
    "        # Initialise vector of PEs\n",
    "        pes = np.empty(len(fbs))\n",
    "        pes.fill(np.nan)\n",
    "        \n",
    "        # Fill in prior\n",
    "        # If want specific prior per cue, check value of cue\n",
    "        vts[0] = v0\n",
    "        hits[0] = 0\n",
    "\n",
    "        # Compute shrink factors for decision function\n",
    "        shrink = compute_shrink_factors(trialNo_all_cues, cue)\n",
    "\n",
    "        # Iterate to fill in vector\n",
    "        for t in range(1,len(vts)):\n",
    "            vt, pe = rescorla_wagner_2LR_FB_1trial(vts[t-1], hits[t-1], fbs[t-1], alpha_rew, alpha_pun)\n",
    "            isHit = my_softmax_shrinking_press_bias_1trial(shrink[t], pi_t, beta, vt)\n",
    "            vts[t] = vt\n",
    "            pes[t] = pe\n",
    "            hits[t] = isHit\n",
    "\n",
    "        vt_all_cues[cue] = vts\n",
    "        vtraw_all_cues[cue] = vtraws\n",
    "        pe_all_cues[cue] = pes\n",
    "        isHit_all_cues[cue] = hits\n",
    "        shrinking_pis_all_cues[cue] = shrinking_pis\n",
    "        \n",
    "    return vt_all_cues, pe_all_cues, isHit_all_cues, vtraw_all_cues, shrinking_pis_all_cues"
   ]
  },
  {
   "cell_type": "code",
   "execution_count": 28,
   "id": "ab8a6147-1e0d-4bf4-9990-9b4daa4cbac4",
   "metadata": {
    "tags": []
   },
   "outputs": [
    {
     "name": "stdout",
     "output_type": "stream",
     "text": [
      "0\n"
     ]
    },
    {
     "ename": "NameError",
     "evalue": "name 'shrink' is not defined",
     "output_type": "error",
     "traceback": [
      "\u001b[0;31m---------------------------------------------------------------------------\u001b[0m",
      "\u001b[0;31mNameError\u001b[0m                                 Traceback (most recent call last)",
      "Input \u001b[0;32mIn [28]\u001b[0m, in \u001b[0;36m<cell line: 15>\u001b[0;34m()\u001b[0m\n\u001b[1;32m     47\u001b[0m _, fbs_all_cues, trialNo_all_cues \u001b[38;5;241m=\u001b[39m fct\u001b[38;5;241m.\u001b[39mextract_hits_fbs(df2_cf)\n\u001b[1;32m     49\u001b[0m \u001b[38;5;66;03m# Simulate behaviour\u001b[39;00m\n\u001b[1;32m     50\u001b[0m \u001b[38;5;66;03m#mod.simulate_behaviour(fbs_all_cues, trialNo_all_cues, mod_info['param_values'], mod_info['param_names'])\u001b[39;00m\n\u001b[0;32m---> 51\u001b[0m vt_all_cues, pe_all_cues, isHit_all_cues, vtraw_all_cues, shrinking_pis_all_cues \u001b[38;5;241m=\u001b[39m \u001b[43msimulate_behav\u001b[49m\u001b[43m(\u001b[49m\u001b[43mfbs_all_cues\u001b[49m\u001b[43m,\u001b[49m\u001b[43m \u001b[49m\u001b[43mtrialNo_all_cues\u001b[49m\u001b[43m,\u001b[49m\u001b[43m \u001b[49m\u001b[43mmod_info\u001b[49m\u001b[43m[\u001b[49m\u001b[38;5;124;43m'\u001b[39;49m\u001b[38;5;124;43mparam_values\u001b[39;49m\u001b[38;5;124;43m'\u001b[39;49m\u001b[43m]\u001b[49m\u001b[43m,\u001b[49m\u001b[43m \u001b[49m\u001b[43mmod_info\u001b[49m\u001b[43m[\u001b[49m\u001b[38;5;124;43m'\u001b[39;49m\u001b[38;5;124;43mparam_names\u001b[39;49m\u001b[38;5;124;43m'\u001b[39;49m\u001b[43m]\u001b[49m\u001b[43m)\u001b[49m\n\u001b[1;32m     53\u001b[0m \u001b[38;5;66;03m# Input data to model\u001b[39;00m\n\u001b[1;32m     54\u001b[0m mod\u001b[38;5;241m.\u001b[39mgen_param_values \u001b[38;5;241m=\u001b[39m mod_info[\u001b[38;5;124m'\u001b[39m\u001b[38;5;124mparam_values\u001b[39m\u001b[38;5;124m'\u001b[39m]\n",
      "Input \u001b[0;32mIn [27]\u001b[0m, in \u001b[0;36msimulate_behav\u001b[0;34m(fbs_all_cues, trialNo_all_cues, param_values, param_names)\u001b[0m\n\u001b[1;32m     60\u001b[0m \u001b[38;5;28;01mfor\u001b[39;00m t \u001b[38;5;129;01min\u001b[39;00m \u001b[38;5;28mrange\u001b[39m(\u001b[38;5;241m1\u001b[39m,\u001b[38;5;28mlen\u001b[39m(vts)):\n\u001b[1;32m     61\u001b[0m     vt, pe \u001b[38;5;241m=\u001b[39m rescorla_wagner_2LR_FB_1trial(vts[t\u001b[38;5;241m-\u001b[39m\u001b[38;5;241m1\u001b[39m], hits[t\u001b[38;5;241m-\u001b[39m\u001b[38;5;241m1\u001b[39m], fbs[t\u001b[38;5;241m-\u001b[39m\u001b[38;5;241m1\u001b[39m], alpha_rew, alpha_pun)\n\u001b[0;32m---> 62\u001b[0m     isHit, shrinking_pi \u001b[38;5;241m=\u001b[39m my_softmax_shrinking_press_bias_1trial(\u001b[43mshrink\u001b[49m[t], pi_t, beta, vt)\n\u001b[1;32m     63\u001b[0m     vts[t] \u001b[38;5;241m=\u001b[39m vt\n\u001b[1;32m     64\u001b[0m     shrinking_pis[t] \u001b[38;5;241m=\u001b[39m pi_t \u001b[38;5;241m*\u001b[39m trials_per_run[t] \u001b[38;5;66;03m# press bias\u001b[39;00m\n",
      "\u001b[0;31mNameError\u001b[0m: name 'shrink' is not defined"
     ]
    }
   ],
   "source": [
    "# Get parameter values for simulation\n",
    "\n",
    "# Load fitted parameters\n",
    "data_mod = pd.read_pickle(all_users_folder + model + '/mod_param_fits.pkl')\n",
    "parameter_means = data_mod[mod_info['param_names']].mean()\n",
    "parameter_stds = data_mod[mod_info['param_names']].std()\n",
    "\n",
    "# Initialise matrices of nans\n",
    "all_sim_param_values = np.empty((Nsim, len(mod_info['param_names'])))\n",
    "all_fit_param_values = np.empty((Nsim, len(mod_info['param_names'])))\n",
    "all_sim_param_values[:] = np.NaN\n",
    "all_fit_param_values[:] = np.NaN\n",
    "\n",
    "# Sim and refit\n",
    "for sim_id in range(0, Nsim):\n",
    "    \n",
    "    if sim_id%25==0:\n",
    "        print(sim_id)\n",
    "    \n",
    "    # Sample from mean of fitted values\n",
    "    params = np.array([])\n",
    "\n",
    "    for param_mean, param_std, low_b, upp_b in zip(parameter_means, parameter_stds, param_lower_bounds, param_upper_bounds):\n",
    "\n",
    "        # Sample parameter from mean (resample if not within the bounds)\n",
    "        param = np.nan\n",
    "        while not(param >= low_b and param <= upp_b):\n",
    "            param = np.random.normal(size = 1, loc = param_mean, scale = param_std)\n",
    "\n",
    "        # Parameter value\n",
    "        params = np.append(params, param)\n",
    "\n",
    "    # Store\n",
    "    mod_info['param_values'] = params\n",
    "\n",
    "    # Create a model object\n",
    "    mod = fct.Model(mod_name = mod_info['name'],\n",
    "                 value_fct = value_fct, \n",
    "                 dec_fct = dec_fct, \n",
    "                 param_names = mod_info['param_names'])\n",
    "\n",
    "    # Extract random data set\n",
    "    random.shuffle(uniqueIDs)\n",
    "    ID = uniqueIDs[0]\n",
    "    user_folder = 'data/user_' + ID + '/'\n",
    "    df2_cf = pd.read_pickle(user_folder + 'df2_cf.pkl')\n",
    "    _, fbs_all_cues, trialNo_all_cues = fct.extract_hits_fbs(df2_cf)\n",
    "\n",
    "    # Simulate behaviour\n",
    "    #mod.simulate_behaviour(fbs_all_cues, trialNo_all_cues, mod_info['param_values'], mod_info['param_names'])\n",
    "    vt_all_cues, pe_all_cues, isHit_all_cues, vtraw_all_cues, shrinking_pis_all_cues = simulate_behav(fbs_all_cues, trialNo_all_cues, mod_info['param_values'], mod_info['param_names'])\n",
    "    \n",
    "    # Input data to model\n",
    "    mod.gen_param_values = mod_info['param_values']\n",
    "    mod.set_data('', fbs_all_cues, isHit_all_cues, trialNo_all_cues)    \n",
    "\n",
    "    # Fit model\n",
    "    mod.fit(param_lower_bounds, param_upper_bounds, n_iterations=5)\n",
    "\n",
    "    # Store\n",
    "    all_sim_param_values[sim_id,:] = mod.gen_param_values\n",
    "    all_fit_param_values[sim_id,:] = mod.param_values\n",
    "\n",
    "# Reformat\n",
    "df_sim = pd.DataFrame(all_sim_param_values, columns = mod_info['param_names'])\n",
    "df_sim.insert(0, 'Type', 'Sim')\n",
    "df_sim = df_sim.rename_axis('simID').reset_index()\n",
    "\n",
    "df_fit = pd.DataFrame(all_fit_param_values, columns = mod_info['param_names'])\n",
    "df_fit.insert(0, 'Type', 'Fit')\n",
    "df_fit = df_fit.rename_axis('simID').reset_index()\n",
    "\n",
    "df = pd.concat([df_sim, df_fit])\n",
    "df.sort_values(by='simID', ascending=True, inplace = True)\n",
    "df.reset_index(inplace = True, drop = True)\n",
    "\n",
    "# Save\n",
    "df.to_pickle(all_users_folder + '/sim_refit/' + mod_info['name'] + '.pkl')"
   ]
  },
  {
   "cell_type": "code",
   "execution_count": 25,
   "id": "7ad0f3a0-d8a3-4e3e-b5f5-00f0f19f05c6",
   "metadata": {},
   "outputs": [
    {
     "data": {
      "text/plain": [
       "array([0.94120837, 0.99473508, 0.98746413, 0.98421324, 0.96501387,\n",
       "       0.99999974, 0.99999895, 0.99842238, 0.99999982, 0.99999958,\n",
       "       0.99999834, 0.99999385, 0.99997883, 0.99996233, 0.99988225,\n",
       "       0.99965379, 0.99999985, 0.998722  , 0.99999982, 0.99999926,\n",
       "       0.99999714, 0.99998974, 0.9979738 , 0.99489988, 0.98783318,\n",
       "       0.98465204, 0.96591742, 0.95950228])"
      ]
     },
     "execution_count": 25,
     "metadata": {},
     "output_type": "execute_result"
    }
   ],
   "source": [
    "mod.p_hit['HP']"
   ]
  },
  {
   "cell_type": "code",
   "execution_count": 26,
   "id": "47f815d6-56b3-46cb-9ab2-9662b947e046",
   "metadata": {},
   "outputs": [
    {
     "data": {
      "text/html": [
       "<div>\n",
       "<style scoped>\n",
       "    .dataframe tbody tr th:only-of-type {\n",
       "        vertical-align: middle;\n",
       "    }\n",
       "\n",
       "    .dataframe tbody tr th {\n",
       "        vertical-align: top;\n",
       "    }\n",
       "\n",
       "    .dataframe thead th {\n",
       "        text-align: right;\n",
       "    }\n",
       "</style>\n",
       "<table border=\"1\" class=\"dataframe\">\n",
       "  <thead>\n",
       "    <tr style=\"text-align: right;\">\n",
       "      <th></th>\n",
       "      <th>simID</th>\n",
       "      <th>Type</th>\n",
       "      <th>alpha_rew</th>\n",
       "      <th>alpha_pun</th>\n",
       "      <th>beta</th>\n",
       "      <th>pi_t</th>\n",
       "    </tr>\n",
       "  </thead>\n",
       "  <tbody>\n",
       "    <tr>\n",
       "      <th>0</th>\n",
       "      <td>0</td>\n",
       "      <td>Sim</td>\n",
       "      <td>0.659673</td>\n",
       "      <td>0.148832</td>\n",
       "      <td>3.111655</td>\n",
       "      <td>0.410659</td>\n",
       "    </tr>\n",
       "    <tr>\n",
       "      <th>1</th>\n",
       "      <td>0</td>\n",
       "      <td>Fit</td>\n",
       "      <td>0.890047</td>\n",
       "      <td>0.053561</td>\n",
       "      <td>2.773165</td>\n",
       "      <td>1.000000</td>\n",
       "    </tr>\n",
       "  </tbody>\n",
       "</table>\n",
       "</div>"
      ],
      "text/plain": [
       "   simID Type  alpha_rew  alpha_pun      beta      pi_t\n",
       "0      0  Sim   0.659673   0.148832  3.111655  0.410659\n",
       "1      0  Fit   0.890047   0.053561  2.773165  1.000000"
      ]
     },
     "execution_count": 26,
     "metadata": {},
     "output_type": "execute_result"
    }
   ],
   "source": [
    "df"
   ]
  },
  {
   "cell_type": "code",
   "execution_count": 378,
   "id": "79ac7b93-bb11-48cc-b41c-f002da5ec66b",
   "metadata": {},
   "outputs": [
    {
     "data": {
      "image/png": "[encoded data removed]",
      "text/plain": [
       "<Figure size 432x288 with 1 Axes>"
      ]
     },
     "metadata": {
      "needs_background": "light"
     },
     "output_type": "display_data"
    }
   ],
   "source": [
    "plt.plot(fbs_all_cues['HR'], 'g')\n",
    "plt.plot(fbs_all_cues['HP'], 'r')\n",
    "plt.show()"
   ]
  },
  {
   "cell_type": "code",
   "execution_count": 362,
   "id": "dd410326-18a3-413d-ae09-56475b50b4c2",
   "metadata": {},
   "outputs": [
    {
     "data": {
      "image/png": "[encoded data removed]",
      "text/plain": [
       "<Figure size 432x288 with 1 Axes>"
      ]
     },
     "metadata": {
      "needs_background": "light"
     },
     "output_type": "display_data"
    }
   ],
   "source": [
    "plt.plot(vt_all_cues['HR'], 'g')\n",
    "plt.plot(vt_all_cues['HP'], 'r')\n",
    "plt.show()"
   ]
  },
  {
   "cell_type": "code",
   "execution_count": 363,
   "id": "b9b0e6ad-aa69-4c61-be78-299d61e29180",
   "metadata": {},
   "outputs": [
    {
     "data": {
      "image/png": "[encoded data removed]",
      "text/plain": [
       "<Figure size 432x288 with 1 Axes>"
      ]
     },
     "metadata": {
      "needs_background": "light"
     },
     "output_type": "display_data"
    }
   ],
   "source": [
    "plt.plot(shrinking_pis_all_cues['HR'], 'g')\n",
    "plt.plot(shrinking_pis_all_cues['HP'], 'r')\n",
    "plt.show()"
   ]
  },
  {
   "cell_type": "code",
   "execution_count": 364,
   "id": "6352eca0-6485-473c-bd55-570e3167f809",
   "metadata": {},
   "outputs": [
    {
     "data": {
      "image/png": "[encoded data removed]",
      "text/plain": [
       "<Figure size 432x288 with 1 Axes>"
      ]
     },
     "metadata": {
      "needs_background": "light"
     },
     "output_type": "display_data"
    }
   ],
   "source": [
    "plt.plot(mod.p_hit['HR'], 'g')\n",
    "plt.plot(mod.p_hit['HP'], 'r')\n",
    "plt.show()"
   ]
  },
  {
   "cell_type": "code",
   "execution_count": null,
   "id": "8f7de0e0-43f2-4169-92c9-c20151f70e65",
   "metadata": {},
   "outputs": [],
   "source": []
  }
 ],
 "metadata": {
  "kernelspec": {
   "display_name": "Python 3 (ipykernel)",
   "language": "python",
   "name": "python3"
  },
  "language_info": {
   "codemirror_mode": {
    "name": "ipython",
    "version": 3
   },
   "file_extension": ".py",
   "mimetype": "text/x-python",
   "name": "python",
   "nbconvert_exporter": "python",
   "pygments_lexer": "ipython3",
   "version": "3.8.12"
  }
 },
 "nbformat": 4,
 "nbformat_minor": 5
}
