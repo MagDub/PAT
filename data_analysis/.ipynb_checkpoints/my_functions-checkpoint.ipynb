{
 "cells": [
  {
   "cell_type": "code",
   "execution_count": 2,
   "id": "95a49285-c6c5-4621-a132-ca8edcf38563",
   "metadata": {},
   "outputs": [],
   "source": [
    "def extract_hits_fbs_(df):\n",
    "    \n",
    "    isHit_all_cues = {}\n",
    "    fbs_all_cues = {}\n",
    "        \n",
    "    for cue in ['HR', 'LR', 'HP', 'LP']:\n",
    "\n",
    "        # Extract cue data\n",
    "        cue_data_tmp = df[df['Code']==('Cue_' + cue)] \n",
    "\n",
    "        # Create a cue trial column\n",
    "        cue_data_tmp.insert(0, \"CueTrial\", list(range(1,len(cue_data_tmp)+1)))\n",
    "\n",
    "        # Store all in dictionnaries\n",
    "        isHit_all_cues[cue]=cue_data_tmp['isHit'].tolist()\n",
    "        fbs_all_cues[cue]=cue_data_tmp['FBs'].tolist()\n",
    "        \n",
    "    return isHit_all_cues, fbs_all_cues"
   ]
  },
  {
   "cell_type": "code",
   "execution_count": null,
   "id": "b6d6d730-f0c3-4edb-ac3e-37ce533d76ac",
   "metadata": {},
   "outputs": [],
   "source": []
  }
 ],
 "metadata": {
  "kernelspec": {
   "display_name": "Python 3 (ipykernel)",
   "language": "python",
   "name": "python3"
  },
  "language_info": {
   "codemirror_mode": {
    "name": "ipython",
    "version": 3
   },
   "file_extension": ".py",
   "mimetype": "text/x-python",
   "name": "python",
   "nbconvert_exporter": "python",
   "pygments_lexer": "ipython3",
   "version": "3.8.12"
  }
 },
 "nbformat": 4,
 "nbformat_minor": 5
}
