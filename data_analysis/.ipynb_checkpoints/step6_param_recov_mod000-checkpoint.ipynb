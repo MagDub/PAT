{
 "cells": [
  {
   "cell_type": "code",
   "execution_count": 1,
   "id": "ef1f495c-8fd9-49d7-8e8d-e41e7600ef7c",
   "metadata": {},
   "outputs": [],
   "source": [
    "import ipynb.fs.defs.functions_v2 as fct\n",
    "import pandas as pd\n",
    "import numpy as np\n",
    "import pickle\n",
    "import random\n",
    "from scipy.stats import pearsonr, bernoulli"
   ]
  },
  {
   "cell_type": "markdown",
   "id": "cb3c04dc-9e61-4ca2-bb59-41c322d439ed",
   "metadata": {},
   "source": [
    "# Sim - refit"
   ]
  },
  {
   "cell_type": "code",
   "execution_count": 2,
   "id": "e3aa1c50-6c5d-4c96-81ae-3adf33f53423",
   "metadata": {},
   "outputs": [],
   "source": [
    "Nsim = 1"
   ]
  },
  {
   "cell_type": "code",
   "execution_count": 3,
   "id": "4174bd6a-e9c2-4cc3-a8d8-7f9c2ffde3e1",
   "metadata": {},
   "outputs": [],
   "source": [
    "all_users_folder = 'data/all_users/'\n",
    "\n",
    "# Load IDs\n",
    "with open('uniqueIDs.pkl', 'rb') as f:\n",
    "    uniqueIDs = pickle.load(f)"
   ]
  },
  {
   "cell_type": "code",
   "execution_count": 18,
   "id": "b15dd6b6-cdf5-45aa-bd14-9dc6d3f3f41d",
   "metadata": {},
   "outputs": [],
   "source": [
    "mod_info = {}\n",
    "mod_info['name'] = 'mod000' \n",
    "mod_info['value_fct']= getattr(fct, 'rescorla_wagner_noV0_1trial')\n",
    "mod_info['dec_fct']= getattr(fct, 'my_softmax_nobeta_1trial')\n",
    "mod_info['param_names']= ['alpha']\n",
    "\n",
    "value_fct = mod_info['value_fct']\n",
    "dec_fct = mod_info['dec_fct']"
   ]
  },
  {
   "cell_type": "code",
   "execution_count": 5,
   "id": "58613c12-ec2a-420e-ae43-438dc9f120d1",
   "metadata": {},
   "outputs": [],
   "source": [
    "# Parameter bounds\n",
    "param_lower_bounds = [0]\n",
    "param_upper_bounds = [1]"
   ]
  },
  {
   "cell_type": "markdown",
   "id": "2640720a-cb79-4dbb-adb1-124a606d59dd",
   "metadata": {},
   "source": [
    "## Functions"
   ]
  },
  {
   "cell_type": "code",
   "execution_count": 6,
   "id": "8fead529-49d1-41b9-a012-4584e088ad3a",
   "metadata": {},
   "outputs": [],
   "source": [
    "def rescorla_wagner_noV0_1trial(vt_m_1, isHit, fb, alpha):    \n",
    "\n",
    "    pe = np.nan\n",
    "\n",
    "    # if hit, recieves fb\n",
    "    if isHit == 1:\n",
    "        # Compute prediction error\n",
    "        pe = fb - vt_m_1\n",
    "        # Compute new vt and fill in \n",
    "        vt = vt_m_1 + alpha * pe\n",
    "\n",
    "    # if no hit, no fb\n",
    "    elif isHit == 0:\n",
    "        # vt does not change \n",
    "        vt = vt_m_1\n",
    "\n",
    "    return vt, pe"
   ]
  },
  {
   "cell_type": "code",
   "execution_count": 7,
   "id": "cb9a76d0-e64b-4b71-b23f-4ec71a284f5a",
   "metadata": {},
   "outputs": [],
   "source": [
    "def my_softmax_nobeta_1trial(vt):\n",
    "\n",
    "    x = vt\n",
    "    \n",
    "    p_hit =  np.exp(x)/(np.exp(x)+1)\n",
    "    \n",
    "    #isHit = bernoulli.rvs(p_hit, size=1)\n",
    "    if p_hit >= 0.5:\n",
    "        isHit = 1\n",
    "    else:\n",
    "        isHit = 0\n",
    "\n",
    "    return int(isHit)"
   ]
  },
  {
   "cell_type": "code",
   "execution_count": 8,
   "id": "37c55545-9b55-44f2-b170-0be49ef8fe90",
   "metadata": {},
   "outputs": [],
   "source": [
    "def simulate_behav(fbs_all_cues, trialNo_all_cues, param_values, param_names):\n",
    "    \n",
    "    v0 = 0\n",
    "        \n",
    "    # Value function \n",
    "    # Free parameters\n",
    "    alpha = param_values[param_names.index('alpha')]\n",
    "    \n",
    "    Ntrials = sum(len(lst) for lst in fbs_all_cues.values())\n",
    "\n",
    "    # Initialise empty dictionary\n",
    "    vt_all_cues = dict.fromkeys(fbs_all_cues.keys())\n",
    "    pe_all_cues = dict.fromkeys(fbs_all_cues.keys())\n",
    "    isHit_all_cues = dict.fromkeys(vt_all_cues.keys())\n",
    "    \n",
    "    # Iterate over cues\n",
    "    for cue, fbs in zip(fbs_all_cues.keys(), fbs_all_cues.values()):\n",
    "\n",
    "        # Initialise vectors\n",
    "        vts = np.empty(len(fbs))\n",
    "        hits = np.empty(len(fbs))\n",
    "        pes = np.empty(len(fbs))\n",
    "        \n",
    "        # Fill in\n",
    "        vts.fill(np.nan)\n",
    "        hits.fill(np.nan)\n",
    "        pes.fill(np.nan)\n",
    "\n",
    "        # Fill in prior\n",
    "        vts[0] = v0\n",
    "        hits[0] = 0\n",
    "\n",
    "        # Iterate to fill in vector\n",
    "        for t in range(1,len(vts)):\n",
    "            vt, pe = rescorla_wagner_noV0_1trial(vts[t-1], hits[t-1], fbs[t-1], alpha)\n",
    "            p_hit = my_softmax_nobeta_1trial(vt)\n",
    "            # Behaviour\n",
    "            isHit = 1 if p_hit>=0.5 else 0\n",
    "            vts[t] = vt\n",
    "            pes[t] = pe\n",
    "            hits[t] = isHit\n",
    "\n",
    "        vt_all_cues[cue] = vts\n",
    "        pe_all_cues[cue] = pes\n",
    "        isHit_all_cues[cue] = hits\n",
    "        \n",
    "    return vt_all_cues, pe_all_cues, isHit_all_cues"
   ]
  },
  {
   "cell_type": "markdown",
   "id": "217696b1-3d5a-49ec-9290-ac4eaea833a3",
   "metadata": {},
   "source": [
    "# Main"
   ]
  },
  {
   "cell_type": "code",
   "execution_count": 9,
   "id": "0a566ce1-f5cc-4fba-ad8c-87dc1050e71f",
   "metadata": {},
   "outputs": [
    {
     "name": "stdout",
     "output_type": "stream",
     "text": [
      "{'name': 'mod000', 'value_fct': <function rescorla_wagner_noV0_1trial at 0x7ff80fd74c10>, 'dec_fct': <function my_softmax_nobeta_1trial at 0x7ff80c04b700>, 'param_names': ['alpha'], 'param_values': array([0.91474757])}\n"
     ]
    }
   ],
   "source": [
    "# Sample parameters\n",
    "params = np.array([])\n",
    "\n",
    "for low_b, upp_b in zip(param_lower_bounds, param_upper_bounds):\n",
    "\n",
    "    # Sample parameter from mean (resample if not within the bounds)\n",
    "    param = np.nan\n",
    "    param = np.random.uniform(low=low_b, high=upp_b, size=None)\n",
    "\n",
    "    # Parameter value\n",
    "    params = np.append(params, param)\n",
    "\n",
    "# Store\n",
    "mod_info['param_values'] = params\n",
    "print(mod_info)"
   ]
  },
  {
   "cell_type": "code",
   "execution_count": 10,
   "id": "ade4c91a-7873-4e38-b1bb-ab9cc077d6fb",
   "metadata": {},
   "outputs": [],
   "source": [
    "# Create a model object\n",
    "mod = fct.Model(mod_name = mod_info['name'],\n",
    "             value_fct = mod_info['value_fct'], \n",
    "             dec_fct = mod_info['dec_fct'], \n",
    "             param_names = mod_info['param_names'])"
   ]
  },
  {
   "cell_type": "code",
   "execution_count": 11,
   "id": "d5392a00-c876-49e7-b77e-356d84348ba2",
   "metadata": {},
   "outputs": [
    {
     "name": "stdout",
     "output_type": "stream",
     "text": [
      "Dataset from ID = 137\n"
     ]
    }
   ],
   "source": [
    "# Extract random data set\n",
    "random.shuffle(uniqueIDs)\n",
    "ID = uniqueIDs[0]\n",
    "user_folder = 'data/user_' + ID + '/'\n",
    "df2_cf = pd.read_pickle(user_folder + 'df2_cf.pkl')\n",
    "_, fbs_all_cues, trialNo_all_cues = fct.extract_hits_fbs(df2_cf)\n",
    "print('Dataset from ID =',ID)"
   ]
  },
  {
   "cell_type": "code",
   "execution_count": 12,
   "id": "ab8a6147-1e0d-4bf4-9990-9b4daa4cbac4",
   "metadata": {
    "tags": []
   },
   "outputs": [],
   "source": [
    "# Simulate behaviour\n",
    "vt_all_cues, pe_all_cues, isHit_all_cues = simulate_behav(fbs_all_cues, trialNo_all_cues, mod_info['param_values'], mod_info['param_names'])\n",
    "\n",
    "# Input data to model\n",
    "mod.gen_param_values = mod_info['param_values']\n",
    "mod.set_data('', fbs_all_cues, isHit_all_cues, trialNo_all_cues)"
   ]
  },
  {
   "cell_type": "code",
   "execution_count": 13,
   "id": "4cf96dfe-951a-413c-8332-f2d70b4d6039",
   "metadata": {},
   "outputs": [],
   "source": [
    "# Fit model\n",
    "mod.fit(param_lower_bounds, param_upper_bounds, n_iterations=8)"
   ]
  },
  {
   "cell_type": "code",
   "execution_count": 16,
   "id": "ea3fb29b-dee7-4562-a83a-71e2a5983861",
   "metadata": {},
   "outputs": [
    {
     "data": {
      "text/plain": [
       "array([0.91474757])"
      ]
     },
     "execution_count": 16,
     "metadata": {},
     "output_type": "execute_result"
    }
   ],
   "source": [
    "mod.gen_param_values"
   ]
  },
  {
   "cell_type": "code",
   "execution_count": 17,
   "id": "4bd7ed38-b615-4dc8-b18d-89f4c3fc202a",
   "metadata": {},
   "outputs": [
    {
     "data": {
      "text/plain": [
       "array([0.38196601])"
      ]
     },
     "execution_count": 17,
     "metadata": {},
     "output_type": "execute_result"
    }
   ],
   "source": [
    "mod.param_values"
   ]
  },
  {
   "cell_type": "code",
   "execution_count": null,
   "id": "9c97a45a-6791-4940-b654-99136d864874",
   "metadata": {},
   "outputs": [],
   "source": []
  },
  {
   "cell_type": "code",
   "execution_count": null,
   "id": "d0cb0d2f-581c-42eb-839a-e92d03c39d2b",
   "metadata": {},
   "outputs": [],
   "source": []
  }
 ],
 "metadata": {
  "kernelspec": {
   "display_name": "Python 3 (ipykernel)",
   "language": "python",
   "name": "python3"
  },
  "language_info": {
   "codemirror_mode": {
    "name": "ipython",
    "version": 3
   },
   "file_extension": ".py",
   "mimetype": "text/x-python",
   "name": "python",
   "nbconvert_exporter": "python",
   "pygments_lexer": "ipython3",
   "version": "3.8.12"
  }
 },
 "nbformat": 4,
 "nbformat_minor": 5
}
