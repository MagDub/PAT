{
 "cells": [
  {
   "cell_type": "code",
   "execution_count": 1,
   "id": "5b44cf03-dcb1-48d0-bd1a-055e6b16768d",
   "metadata": {},
   "outputs": [],
   "source": [
    "import pandas as pd\n",
    "import numpy as np\n",
    "import matplotlib.pyplot as plt\n",
    "from matplotlib import cm\n",
    "import ipynb.fs.defs.functions as fct\n",
    "import pickle\n",
    "import scipy\n",
    "\n",
    "import warnings\n",
    "warnings.filterwarnings(\"error\")"
   ]
  },
  {
   "cell_type": "code",
   "execution_count": 4,
   "id": "678d7121-ac55-4ccf-94de-36e7680b3469",
   "metadata": {},
   "outputs": [
    {
     "name": "stdout",
     "output_type": "stream",
     "text": [
      "['001', '003', '006', '007', '008', '009', '010', '012', '014', '023', '028', '032', '033', '034', '035', '036', '038', '044', '045', '049', '050', '054', '055', '057', '058', '060', '072', '073', '075', '076', '077', '078', '080', '084', '085', '086', '088', '090', '093', '096', '100', '101', '103', '104', '106', '107', '108', '109', '112', '114', '115', '118', '119', '120', '121', '122', '130', '132', '133', '136', '137', '138', '142', '143', '145', '147', '149', '151', '155', '158', '159', '165', '170', '172', '173', '175', '176', '177', '178', '181', '185', '186', '187', '189', '199', '204', '207', '208', '211', '213', '217', '221', '229', '230', '236', '237', '239', '240', '244', '251', '252', '258', '259', '263', '269', '271', '280', '282', '283', '284', '286', '287', '291', '292', '293', '301', '302', '303', '306', '313', '314', '315', '319', '321', '322', '325', '326', '327', '329', '335', '336', '337', '339', '341', '345', '349', '351', '360', '361', '362', '368', '375', '376', '381', '384', '390', '391', '393', '395', '397', '400', '405', '406', '412', '413', '414', '421', '422', '423', '427', '437', '438', '440', '446', '450', '453', '462', '469', '470', '471']\n"
     ]
    }
   ],
   "source": [
    "# Load IDs\n",
    "with open('uniqueIDs.pkl', 'rb') as f:\n",
    "    uniqueIDs = pickle.load(f)\n",
    "\n",
    "print(uniqueIDs)"
   ]
  },
  {
   "cell_type": "code",
   "execution_count": 5,
   "id": "32ac4b10-7af8-41a2-a944-b4dbcdfa39dd",
   "metadata": {},
   "outputs": [],
   "source": [
    "# Model settings\n",
    "\n",
    "# Functions\n",
    "value_fct = fct.rescorla_wagner_noV0\n",
    "dec_fct = fct.my_softmax\n",
    "\n",
    "# Store everything\n",
    "mod_info = {}\n",
    "mod_info['name'] = 'model0'\n",
    "mod_info['value_fct'] = value_fct.__name__\n",
    "mod_info['dec_fct'] = dec_fct.__name__\n",
    "mod_info['param_names'] = ['alpha', 'beta']"
   ]
  },
  {
   "cell_type": "code",
   "execution_count": 7,
   "id": "ace4fb1e-8bca-4ef5-acb1-ed7bb7a044da",
   "metadata": {},
   "outputs": [],
   "source": [
    "ID = '001'\n",
    "\n",
    "# Get data\n",
    "user_folder = 'data/user_' + ID + '/'\n",
    "df2_cf = pd.read_pickle(user_folder + 'df2_cf.pkl')\n",
    "isHit_all_cues, fbs_all_cues, trialNo_all_cues = fct.extract_hits_fbs(df2_cf)\n",
    "\n",
    "# Create a new Model object\n",
    "mod = fct.Model(mod_name = mod_info['name'],\n",
    "         value_fct = value_fct, \n",
    "         dec_fct = dec_fct, \n",
    "         param_names = mod_info['param_names'])\n",
    "\n",
    "# Input data to model\n",
    "mod.set_data(ID, fbs_all_cues, isHit_all_cues, trialNo_all_cues)"
   ]
  },
  {
   "cell_type": "code",
   "execution_count": 8,
   "id": "3f3678e7-caef-4e1d-9edf-9fa6218dac96",
   "metadata": {},
   "outputs": [
    {
     "data": {
      "text/plain": [
       "<ipynb.fs.defs.functions.Model at 0x7f90f1d7d100>"
      ]
     },
     "execution_count": 8,
     "metadata": {},
     "output_type": "execute_result"
    }
   ],
   "source": [
    "mod"
   ]
  },
  {
   "cell_type": "code",
   "execution_count": 11,
   "id": "544745d1-5c57-4ca1-aecc-b4417ce3bcf4",
   "metadata": {},
   "outputs": [
    {
     "data": {
      "text/plain": [
       "67.62561640578842"
      ]
     },
     "execution_count": 11,
     "metadata": {},
     "output_type": "execute_result"
    }
   ],
   "source": [
    "param_lower_bound = [0, 0]\n",
    "param_upper_bound = [1, 20]\n",
    "\n",
    "# Fit model\n",
    "mod.fit(param_lower_bound, param_upper_bound, n_iterations=5)\n",
    "\n",
    "mod.nLL"
   ]
  },
  {
   "cell_type": "code",
   "execution_count": 12,
   "id": "6aab8415-4c98-4b2d-9096-e4460f7c3e46",
   "metadata": {},
   "outputs": [
    {
     "data": {
      "text/plain": [
       "<ipynb.fs.defs.functions.Model at 0x7f90f1d7d100>"
      ]
     },
     "execution_count": 12,
     "metadata": {},
     "output_type": "execute_result"
    }
   ],
   "source": []
  },
  {
   "cell_type": "code",
   "execution_count": null,
   "id": "209963df-3947-44bb-a27c-e7f11fa1327e",
   "metadata": {},
   "outputs": [],
   "source": [
    "# compute expected values\n",
    "vt_all_cues, pe_all_cues, shrinking_alpha_all_cues = self.value_fct(fbs_all_cues, self.trialNo_all_cues, self.param_values, self.param_names, isHit_all_cues)"
   ]
  },
  {
   "cell_type": "code",
   "execution_count": 16,
   "id": "134034b6-51f6-4034-8bee-c522e4b81b42",
   "metadata": {},
   "outputs": [],
   "source": [
    "initial_guess = np.array(param_lower_bound) + np.random.rand(len(param_lower_bound)) * (np.array(param_upper_bound) - np.array(param_lower_bound))\n",
    "param_values = initial_guess"
   ]
  },
  {
   "cell_type": "code",
   "execution_count": 23,
   "id": "e8073251-95eb-489b-b30a-b1fab26803d5",
   "metadata": {},
   "outputs": [],
   "source": [
    "vt_all_cues, pe_all_cues, [] = rescorla_wagner_noV0(fbs_all_cues, mod.trialNo_all_cues, mod.param_values, mod.param_names, isHit_all_cues)"
   ]
  },
  {
   "cell_type": "code",
   "execution_count": 30,
   "id": "d83f0a18-cfd4-405b-8117-9253df91af24",
   "metadata": {},
   "outputs": [
    {
     "data": {
      "text/plain": [
       "{'HR': array([ 5.        , -0.41650631, -6.29850955, -0.51413384,         nan,\n",
       "                nan,         nan, -4.36847907,         nan,         nan,\n",
       "                nan,         nan,         nan,         nan,         nan,\n",
       "         6.86911656,         nan,         nan,         nan,  4.92308717,\n",
       "         3.52837036,         nan,         nan, -7.47122142,         nan,\n",
       "         4.64538504, -2.67065841,         nan]),\n",
       " 'LR': array([ 5.        , -0.41650631, -0.29850955,         nan, -6.21394142,\n",
       "                nan,         nan,  5.54647603,         nan,         nan,\n",
       "        -0.02484763, -0.01780827,  3.98723684, -3.14235239, -0.25211999,\n",
       "                nan, -6.18069408, -4.42969564,  0.82524273,         nan,\n",
       "         6.59145042,  4.72408419,         nan, -0.61425482,         nan,\n",
       "                nan,         nan,         nan]),\n",
       " 'HP': array([nan, nan, nan, nan, nan, nan, nan, nan, nan, nan, nan, nan, nan,\n",
       "        nan, nan, nan, nan, nan, nan, nan, nan, nan, nan, nan, nan, nan,\n",
       "        nan, nan]),\n",
       " 'LP': array([nan, -5., nan, nan, nan, nan, nan, nan, nan, nan, nan, nan, nan,\n",
       "        nan, nan, nan, nan, nan, nan, nan, nan, nan, nan, nan, nan, nan,\n",
       "        nan, nan])}"
      ]
     },
     "execution_count": 30,
     "metadata": {},
     "output_type": "execute_result"
    }
   ],
   "source": [
    "pe_all_cues"
   ]
  },
  {
   "cell_type": "code",
   "execution_count": 13,
   "id": "0f595f78-c314-4128-a03d-ee012813bab6",
   "metadata": {},
   "outputs": [],
   "source": [
    "def rescorla_wagner_noV0(fbs_all_cues, trialNo_all_cues, param_values, param_names, isHit_all_cues):\n",
    "    \n",
    "    # Fixed parameter\n",
    "    v0 = 0\n",
    "        \n",
    "    # Free parameters\n",
    "    alpha = param_values[param_names.index('alpha')]\n",
    "    \n",
    "    # Initialise empty dictionnary\n",
    "    vt_all_cues = dict.fromkeys(fbs_all_cues.keys())\n",
    "    pe_all_cues = dict.fromkeys(fbs_all_cues.keys())\n",
    "    \n",
    "    # Iterate over cues\n",
    "    for cue, fbs, hits in zip(fbs_all_cues.keys(), fbs_all_cues.values(), isHit_all_cues.values()):\n",
    "        \n",
    "        # Initialise vector of values\n",
    "        vt = np.empty(len(fbs))\n",
    "        vt.fill(np.nan)\n",
    "        \n",
    "        # Initialise vector of PEs\n",
    "        pe = np.empty(len(fbs))\n",
    "        pe.fill(np.nan)\n",
    "        \n",
    "        # Fill in prior\n",
    "        # If want specific prior per cue, check value of cue\n",
    "        vt[0] = v0\n",
    "        \n",
    "        # Iterate to fill in vector\n",
    "        for t in range(1,len(vt)):\n",
    "            \n",
    "            # if hit, recieves fb\n",
    "            if hits[t-1] == 1:\n",
    "\n",
    "                # Compute prediction error\n",
    "                pe[t-1] = fbs[t-1] - vt[t-1]\n",
    "\n",
    "                # Compute new vt and fill in \n",
    "                vt[t] = vt[t-1] + alpha * pe[t-1]\n",
    "\n",
    "            # if no hit, no fb\n",
    "            elif hits[t-1] == 0:\n",
    "                # vt does not change \n",
    "                vt[t] = vt[t-1] \n",
    "                \n",
    "        vt_all_cues[cue] = vt\n",
    "        pe_all_cues[cue] = pe\n",
    "    \n",
    "    return vt_all_cues, pe_all_cues, []"
   ]
  },
  {
   "cell_type": "code",
   "execution_count": 33,
   "id": "0487f1a0-36fc-4682-bf5d-87fdec5b47de",
   "metadata": {},
   "outputs": [],
   "source": [
    "v0 = 0\n",
    "alpha = 0.5\n",
    "\n",
    "# Initialise empty dictionnary\n",
    "vt_all_cues = dict.fromkeys(fbs_all_cues.keys())\n",
    "pe_all_cues = dict.fromkeys(fbs_all_cues.keys())"
   ]
  },
  {
   "cell_type": "code",
   "execution_count": 64,
   "id": "f459529e-da7e-4bd0-b939-2faee252dc5e",
   "metadata": {},
   "outputs": [],
   "source": [
    "# Iterate over cues\n",
    "for cue, fbs, hits in zip(fbs_all_cues.keys(), fbs_all_cues.values(), isHit_all_cues.values()):\n",
    "\n",
    "    # Initialise vector of values\n",
    "    vt = np.empty(len(fbs))\n",
    "    vt.fill(np.nan)\n",
    "\n",
    "    # Initialise vector of PEs\n",
    "    pe = np.empty(len(fbs))\n",
    "    pe.fill(np.nan)\n",
    "\n",
    "    # Fill in prior\n",
    "    # If want specific prior per cue, check value of cue\n",
    "    vt[0] = v0\n",
    "    \n",
    "    # Iterate to fill in vector\n",
    "    for t in range(1,len(vt)):\n",
    "\n",
    "        # if hit, recieves fb\n",
    "        if hits[t-1] == 1:\n",
    "\n",
    "            # Compute prediction error\n",
    "            pe[t-1] = fbs[t-1] - vt[t-1]\n",
    "\n",
    "            # Compute new vt and fill in \n",
    "            vt[t] = vt[t-1] + alpha * pe[t-1]\n",
    "\n",
    "        # if no hit, no fb\n",
    "        elif hits[t-1] == 0:\n",
    "            # vt does not change \n",
    "            vt[t] = vt[t-1] \n",
    "\n",
    "    vt_all_cues[cue] = vt\n",
    "    pe_all_cues[cue] = pe"
   ]
  },
  {
   "cell_type": "code",
   "execution_count": 113,
   "id": "d5949ac2-4f5d-4458-a1ac-efbd89e59fb0",
   "metadata": {},
   "outputs": [
    {
     "data": {
      "text/plain": [
       "dict_values([[2, 5, 9, 12, 25, 26, 28, 29, 31, 32, 38, 39, 47, 54, 57, 59, 64, 69, 74, 76, 79, 80, 81, 93, 95, 101, 107, 108], [3, 10, 16, 17, 22, 33, 35, 36, 41, 43, 46, 49, 50, 56, 61, 62, 65, 68, 72, 78, 83, 87, 88, 94, 104, 109, 110, 112], [1, 4, 6, 7, 8, 15, 21, 23, 30, 37, 42, 45, 51, 55, 60, 70, 71, 75, 77, 82, 85, 86, 97, 98, 99, 100, 102, 103], [11, 13, 14, 18, 19, 20, 24, 27, 34, 40, 44, 48, 52, 53, 58, 63, 66, 67, 73, 84, 89, 90, 91, 92, 96, 105, 106, 111]])"
      ]
     },
     "execution_count": 113,
     "metadata": {},
     "output_type": "execute_result"
    }
   ],
   "source": [
    "trialNo_all_cues.values()"
   ]
  },
  {
   "cell_type": "code",
   "execution_count": 132,
   "id": "ddec5532-f4c6-47e1-9894-66b4cfab26ca",
   "metadata": {},
   "outputs": [
    {
     "data": {
      "text/plain": [
       "[nan,\n",
       " 5.0,\n",
       " 5.0,\n",
       " nan,\n",
       " -1.5,\n",
       " nan,\n",
       " nan,\n",
       " nan,\n",
       " -6.75,\n",
       " -1.5,\n",
       " nan,\n",
       " 0.625,\n",
       " -5.0,\n",
       " nan,\n",
       " nan,\n",
       " -0.75,\n",
       " nan,\n",
       " nan,\n",
       " nan,\n",
       " nan,\n",
       " nan,\n",
       " -6.375,\n",
       " nan,\n",
       " nan,\n",
       " nan,\n",
       " nan,\n",
       " nan,\n",
       " nan,\n",
       " -3.6875,\n",
       " nan,\n",
       " nan,\n",
       " nan,\n",
       " nan,\n",
       " nan,\n",
       " nan,\n",
       " 6.8125,\n",
       " nan,\n",
       " nan,\n",
       " nan,\n",
       " nan,\n",
       " nan,\n",
       " nan,\n",
       " nan,\n",
       " nan,\n",
       " nan,\n",
       " -0.59375,\n",
       " nan,\n",
       " nan,\n",
       " -0.296875,\n",
       " 3.8515625,\n",
       " nan,\n",
       " nan,\n",
       " nan,\n",
       " nan,\n",
       " nan,\n",
       " -4.07421875,\n",
       " nan,\n",
       " nan,\n",
       " 8.15625,\n",
       " nan,\n",
       " -0.037109375,\n",
       " nan,\n",
       " nan,\n",
       " nan,\n",
       " -6.0185546875,\n",
       " nan,\n",
       " nan,\n",
       " -3.00927734375,\n",
       " nan,\n",
       " nan,\n",
       " nan,\n",
       " 2.495361328125,\n",
       " nan,\n",
       " nan,\n",
       " nan,\n",
       " 4.078125,\n",
       " nan,\n",
       " nan,\n",
       " 2.0390625,\n",
       " nan,\n",
       " nan,\n",
       " nan,\n",
       " 7.2476806640625,\n",
       " nan,\n",
       " nan,\n",
       " nan,\n",
       " 3.62384033203125,\n",
       " nan,\n",
       " nan,\n",
       " nan,\n",
       " nan,\n",
       " nan,\n",
       " -8.98046875,\n",
       " -2.188079833984375,\n",
       " nan,\n",
       " nan,\n",
       " nan,\n",
       " nan,\n",
       " nan,\n",
       " nan,\n",
       " 5.509765625,\n",
       " nan,\n",
       " nan,\n",
       " nan,\n",
       " nan,\n",
       " nan,\n",
       " -3.2451171875,\n",
       " nan,\n",
       " nan,\n",
       " nan,\n",
       " nan,\n",
       " nan]"
      ]
     },
     "execution_count": 132,
     "metadata": {},
     "output_type": "execute_result"
    }
   ],
   "source": [
    "# make one vector of PEs\n",
    "ntrials = max([max(trialNo_all_cues[cue]) for cue in trialNo_all_cues])\n",
    "\n",
    "pes = []\n",
    "for id_trial in range(1,ntrials+1):\n",
    "    #print('id:', id_trial)\n",
    "    for cue, trials in zip(trialNo_all_cues.keys(), trialNo_all_cues.values()):\n",
    "        if id_trial in trials:\n",
    "            #print(cue)\n",
    "            id_in_list = trials.index(id_trial)\n",
    "            pe = (pe_all_cues[cue][id_in_list])\n",
    "            pes.append(pe)\n",
    "pes"
   ]
  },
  {
   "cell_type": "code",
   "execution_count": null,
   "id": "81358b95-1346-47e9-a6da-5313ecc2caea",
   "metadata": {},
   "outputs": [],
   "source": []
  }
 ],
 "metadata": {
  "kernelspec": {
   "display_name": "Python 3 (ipykernel)",
   "language": "python",
   "name": "python3"
  },
  "language_info": {
   "codemirror_mode": {
    "name": "ipython",
    "version": 3
   },
   "file_extension": ".py",
   "mimetype": "text/x-python",
   "name": "python",
   "nbconvert_exporter": "python",
   "pygments_lexer": "ipython3",
   "version": "3.7.4"
  }
 },
 "nbformat": 4,
 "nbformat_minor": 5
}
