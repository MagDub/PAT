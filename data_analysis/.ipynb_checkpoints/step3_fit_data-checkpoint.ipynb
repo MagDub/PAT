{
 "cells": [
  {
   "cell_type": "code",
   "execution_count": 1,
   "id": "ce5a9b0b-255b-4055-a6f5-725f046c2144",
   "metadata": {},
   "outputs": [],
   "source": [
    "import ipynb.fs.defs.functions_new as fct\n",
    "import pandas as pd\n",
    "import numpy as np\n",
    "import pickle"
   ]
  },
  {
   "cell_type": "code",
   "execution_count": 2,
   "id": "d3abac67-4fa4-44b9-b53d-17ffd20ab7fa",
   "metadata": {},
   "outputs": [],
   "source": [
    "# Load IDs\n",
    "with open('uniqueIDs.pkl', 'rb') as f:\n",
    "    uniqueIDs = pickle.load(f)"
   ]
  },
  {
   "cell_type": "markdown",
   "id": "b8c1b29d-1711-4f91-96eb-f0594d7bf34b",
   "metadata": {},
   "source": [
    "## Model 0 - alpha"
   ]
  },
  {
   "cell_type": "code",
   "execution_count": 3,
   "id": "5e09420b-f7f1-471d-82ff-9cba09405c23",
   "metadata": {},
   "outputs": [],
   "source": [
    "# Model specification\n",
    "mod_info = {}\n",
    "mod_info['name'] = 'model0_alpha'\n",
    "mod_info['value_fct'] = fct.rescorla_wagner_1t\n",
    "mod_info['dec_fct'] = fct.my_softmax_1t\n",
    "mod_info['param_names'] = ['alpha']\n",
    "\n",
    "# For fitting\n",
    "param_lower_bounds = [0]\n",
    "param_upper_bounds = [1]\n",
    "\n",
    "# Save\n",
    "all_users_folder = 'data/all_users/fit/' + mod_info['name'] + '/'\n",
    "file_name = all_users_folder + 'mod_parameters.pkl'\n",
    "with open(file_name, 'wb') as f:\n",
    "    pickle.dump(mod_info, f)\n",
    "\n",
    "# fit to all users\n",
    "fct.fit_model_to_data(uniqueIDs, mod_info, param_lower_bounds, param_upper_bounds, all_users_folder)"
   ]
  },
  {
   "cell_type": "markdown",
   "id": "733cfa0a-c9a4-4b74-b030-8125de7c0ce4",
   "metadata": {},
   "source": [
    "## Model 0 - v0"
   ]
  },
  {
   "cell_type": "code",
   "execution_count": 4,
   "id": "6faaf3ee-6ab8-44a4-abf0-03c8ea76a2bf",
   "metadata": {},
   "outputs": [],
   "source": [
    "# Model specification\n",
    "mod_info = {}\n",
    "mod_info['name'] = 'model0_v0'\n",
    "mod_info['value_fct'] = fct.rescorla_wagner_1t\n",
    "mod_info['dec_fct'] = fct.my_softmax_1t\n",
    "mod_info['param_names'] = ['v0']\n",
    "\n",
    "# For fitting\n",
    "param_lower_bounds = [-5]\n",
    "param_upper_bounds = [ 5]\n",
    "\n",
    "# Save\n",
    "all_users_folder = 'data/all_users/fit/' + mod_info['name'] + '/'\n",
    "file_name = all_users_folder + 'mod_parameters.pkl'\n",
    "with open(file_name, 'wb') as f:\n",
    "    pickle.dump(mod_info, f)\n",
    "\n",
    "# fit to all users\n",
    "fct.fit_model_to_data(uniqueIDs, mod_info, param_lower_bounds, param_upper_bounds, all_users_folder)"
   ]
  },
  {
   "cell_type": "markdown",
   "id": "2121cf5c-0ac3-4a90-b736-5aeb66a6310a",
   "metadata": {},
   "source": [
    "## Model 0 - beta"
   ]
  },
  {
   "cell_type": "code",
   "execution_count": 5,
   "id": "4c91330a-234a-4c8a-89cb-9f552995665e",
   "metadata": {},
   "outputs": [],
   "source": [
    "# Model specification\n",
    "mod_info = {}\n",
    "mod_info['name'] = 'model0_beta'\n",
    "mod_info['value_fct'] = fct.rescorla_wagner_1t\n",
    "mod_info['dec_fct'] = fct.my_softmax_1t\n",
    "mod_info['param_names'] = ['beta']\n",
    "\n",
    "# For fitting\n",
    "param_lower_bounds = [0.01]\n",
    "param_upper_bounds = [   5]\n",
    "\n",
    "# Save\n",
    "all_users_folder = 'data/all_users/fit/' + mod_info['name'] + '/'\n",
    "file_name = all_users_folder + 'mod_parameters.pkl'\n",
    "with open(file_name, 'wb') as f:\n",
    "    pickle.dump(mod_info, f)\n",
    "\n",
    "# fit to all users\n",
    "fct.fit_model_to_data(uniqueIDs, mod_info, param_lower_bounds, param_upper_bounds, all_users_folder)"
   ]
  },
  {
   "cell_type": "markdown",
   "id": "dbe8e2fd-28e3-4a17-bb9e-93cb57b54462",
   "metadata": {},
   "source": [
    "## Model 0 - alpha, beta"
   ]
  },
  {
   "cell_type": "code",
   "execution_count": 6,
   "id": "f698b4cf-0065-489d-865b-a8d852c55194",
   "metadata": {},
   "outputs": [],
   "source": [
    "# Model specification\n",
    "mod_info = {}\n",
    "mod_info['name'] = 'model0_alpha_beta'\n",
    "mod_info['value_fct'] = fct.rescorla_wagner_1t\n",
    "mod_info['dec_fct'] = fct.my_softmax_1t\n",
    "mod_info['param_names'] = ['alpha', 'beta']\n",
    "\n",
    "# For fitting\n",
    "param_lower_bounds = [0, 0.01]\n",
    "param_upper_bounds = [1,    3]\n",
    "\n",
    "# Save\n",
    "all_users_folder = 'data/all_users/fit/' + mod_info['name'] + '/'\n",
    "file_name = all_users_folder + 'mod_parameters.pkl'\n",
    "with open(file_name, 'wb') as f:\n",
    "    pickle.dump(mod_info, f)\n",
    "\n",
    "# fit to all users\n",
    "fct.fit_model_to_data(uniqueIDs, mod_info, param_lower_bounds, param_upper_bounds, all_users_folder)"
   ]
  },
  {
   "cell_type": "markdown",
   "id": "4e5bb7c3-176a-4cfe-b259-f128720db1d0",
   "metadata": {},
   "source": [
    "## Model 0 - v0, alpha"
   ]
  },
  {
   "cell_type": "code",
   "execution_count": 7,
   "id": "7e047be8-cd5a-4725-ba2a-6c17301879a5",
   "metadata": {},
   "outputs": [],
   "source": [
    "# Model specification\n",
    "mod_info = {}\n",
    "mod_info['name'] = 'model0_v0_alpha'\n",
    "mod_info['value_fct'] = fct.rescorla_wagner_1t\n",
    "mod_info['dec_fct'] = fct.my_softmax_1t\n",
    "mod_info['param_names'] = ['v0', 'alpha']\n",
    "\n",
    "# For fitting\n",
    "param_lower_bounds = [-5, 0]\n",
    "param_upper_bounds = [ 5, 1]\n",
    "\n",
    "# Save\n",
    "all_users_folder = 'data/all_users/fit/' + mod_info['name'] + '/'\n",
    "file_name = all_users_folder + 'mod_parameters.pkl'\n",
    "with open(file_name, 'wb') as f:\n",
    "    pickle.dump(mod_info, f)\n",
    "\n",
    "# fit to all users\n",
    "fct.fit_model_to_data(uniqueIDs, mod_info, param_lower_bounds, param_upper_bounds, all_users_folder)"
   ]
  },
  {
   "cell_type": "markdown",
   "id": "b727bdc8-34db-45d5-afa3-74310e500c88",
   "metadata": {},
   "source": [
    "## Model 0 - v0, beta"
   ]
  },
  {
   "cell_type": "code",
   "execution_count": 8,
   "id": "b21392e6-bb85-4c09-a840-0fa012816473",
   "metadata": {},
   "outputs": [],
   "source": [
    "# Model specification\n",
    "mod_info = {}\n",
    "mod_info['name'] = 'model0_v0_beta'\n",
    "mod_info['value_fct'] = fct.rescorla_wagner_1t\n",
    "mod_info['dec_fct'] = fct.my_softmax_1t\n",
    "mod_info['param_names'] = ['v0', 'beta']\n",
    "\n",
    "# For fitting\n",
    "param_lower_bounds = [-2, 0.01]\n",
    "param_upper_bounds = [ 5,    5]\n",
    "\n",
    "# Save\n",
    "all_users_folder = 'data/all_users/fit/' + mod_info['name'] + '/'\n",
    "file_name = all_users_folder + 'mod_parameters.pkl'\n",
    "with open(file_name, 'wb') as f:\n",
    "    pickle.dump(mod_info, f)\n",
    "\n",
    "# fit to all users\n",
    "fct.fit_model_to_data(uniqueIDs, mod_info, param_lower_bounds, param_upper_bounds, all_users_folder)"
   ]
  },
  {
   "cell_type": "markdown",
   "id": "7adf0188-9c81-46a3-aabc-d717b8c42afd",
   "metadata": {},
   "source": [
    "## Model 0 - v0, alpha, beta"
   ]
  },
  {
   "cell_type": "code",
   "execution_count": 9,
   "id": "0ee642af-53ff-4a57-b836-e09e1cf64468",
   "metadata": {},
   "outputs": [],
   "source": [
    "# Model specification\n",
    "mod_info = {}\n",
    "mod_info['name'] = 'model0_v0_alpha_beta'\n",
    "mod_info['value_fct'] = fct.rescorla_wagner_1t\n",
    "mod_info['dec_fct'] = fct.my_softmax_1t\n",
    "mod_info['param_names'] = ['v0', 'alpha', 'beta']\n",
    "\n",
    "# For fitting\n",
    "param_lower_bounds = [-5,  0, 0.01]\n",
    "param_upper_bounds = [ 5,  1,    3]\n",
    "\n",
    "# Save\n",
    "all_users_folder = 'data/all_users/fit/' + mod_info['name'] + '/'\n",
    "file_name = all_users_folder + 'mod_parameters.pkl'\n",
    "with open(file_name, 'wb') as f:\n",
    "    pickle.dump(mod_info, f)\n",
    "\n",
    "# fit to all users\n",
    "fct.fit_model_to_data(uniqueIDs, mod_info, param_lower_bounds, param_upper_bounds, all_users_folder)"
   ]
  },
  {
   "cell_type": "markdown",
   "id": "5fa20fe8-3725-402c-9313-b624269f76e2",
   "metadata": {},
   "source": [
    "## Model 1 - v0, alpha, beta, pi"
   ]
  },
  {
   "cell_type": "code",
   "execution_count": 10,
   "id": "8b7d0197-b229-4b95-ac0a-e38df0c2b772",
   "metadata": {},
   "outputs": [],
   "source": [
    "# Model specification\n",
    "mod_info = {}\n",
    "mod_info['name'] = 'model1_v0_alpha_beta_pi'\n",
    "mod_info['value_fct'] = fct.rescorla_wagner_1t\n",
    "mod_info['dec_fct'] = fct.my_softmax_1t\n",
    "mod_info['param_names'] = ['v0', 'alpha', 'beta', 'pi']\n",
    "\n",
    "# For fitting\n",
    "param_lower_bounds = [-2,  0, 0.01, -2]\n",
    "param_upper_bounds = [ 2,  1,    3,  2]\n",
    "\n",
    "# Save\n",
    "all_users_folder = 'data/all_users/fit/' + mod_info['name'] + '/'\n",
    "file_name = all_users_folder + 'mod_parameters.pkl'\n",
    "with open(file_name, 'wb') as f:\n",
    "    pickle.dump(mod_info, f)\n",
    "\n",
    "# fit to all users\n",
    "fct.fit_model_to_data(uniqueIDs, mod_info, param_lower_bounds, param_upper_bounds, all_users_folder)"
   ]
  },
  {
   "cell_type": "markdown",
   "id": "db9b5b21-a747-4466-92bf-9d77b058b7a0",
   "metadata": {},
   "source": [
    "## Model 1 - v0, alpha, pi"
   ]
  },
  {
   "cell_type": "code",
   "execution_count": 24,
   "id": "4afcd3c2-8685-44c7-9ff5-761194d96edf",
   "metadata": {},
   "outputs": [],
   "source": [
    "# Model specification\n",
    "mod_info = {}\n",
    "mod_info['name'] = 'model1_v0_alpha_pi'\n",
    "mod_info['value_fct'] = fct.rescorla_wagner_1t\n",
    "mod_info['dec_fct'] = fct.my_softmax_1t\n",
    "mod_info['param_names'] = ['v0', 'alpha', 'pi']\n",
    "\n",
    "# For fitting\n",
    "param_lower_bounds = [-2,  0, -2]\n",
    "param_upper_bounds = [ 2,  1,  2]\n",
    "\n",
    "# Save\n",
    "all_users_folder = 'data/all_users/fit/' + mod_info['name'] + '/'\n",
    "file_name = all_users_folder + 'mod_parameters.pkl'\n",
    "with open(file_name, 'wb') as f:\n",
    "    pickle.dump(mod_info, f)\n",
    "\n",
    "# fit to all users\n",
    "fct.fit_model_to_data(uniqueIDs, mod_info, param_lower_bounds, param_upper_bounds, all_users_folder)"
   ]
  },
  {
   "cell_type": "markdown",
   "id": "687f2230-5c1d-4bf3-8a91-c4bd5c636992",
   "metadata": {},
   "source": [
    "## Model 1 - alpha, beta, pi"
   ]
  },
  {
   "cell_type": "code",
   "execution_count": 11,
   "id": "931a11a2-83fc-4340-aa40-10b07f6c55ef",
   "metadata": {},
   "outputs": [],
   "source": [
    "# Model specification\n",
    "mod_info = {}\n",
    "mod_info['name'] = 'model1_alpha_beta_pi'\n",
    "mod_info['value_fct'] = fct.rescorla_wagner_1t\n",
    "mod_info['dec_fct'] = fct.my_softmax_1t\n",
    "mod_info['param_names'] = ['alpha', 'beta', 'pi']\n",
    "\n",
    "# For fitting\n",
    "param_lower_bounds = [0, 0.01, -2]\n",
    "param_upper_bounds = [1,    2,  2]\n",
    "\n",
    "# Save\n",
    "all_users_folder = 'data/all_users/fit/' + mod_info['name'] + '/'\n",
    "file_name = all_users_folder + 'mod_parameters.pkl'\n",
    "with open(file_name, 'wb') as f:\n",
    "    pickle.dump(mod_info, f)\n",
    "\n",
    "# fit to all users\n",
    "fct.fit_model_to_data(uniqueIDs, mod_info, param_lower_bounds, param_upper_bounds, all_users_folder)"
   ]
  },
  {
   "cell_type": "markdown",
   "id": "eaca4194-5298-428f-a08c-95951f587f77",
   "metadata": {},
   "source": [
    "## Model 1 - alpha, pi"
   ]
  },
  {
   "cell_type": "code",
   "execution_count": 23,
   "id": "0d3e5c0c-006d-410e-a017-2cf6e121eb16",
   "metadata": {},
   "outputs": [],
   "source": [
    "# Model specification\n",
    "mod_info = {}\n",
    "mod_info['name'] = 'model1_alpha_pi'\n",
    "mod_info['value_fct'] = fct.rescorla_wagner_1t\n",
    "mod_info['dec_fct'] = fct.my_softmax_1t\n",
    "mod_info['param_names'] = ['alpha', 'pi']\n",
    "\n",
    "# For fitting\n",
    "param_lower_bounds = [0, -2]\n",
    "param_upper_bounds = [1,  2]\n",
    "\n",
    "# Save\n",
    "all_users_folder = 'data/all_users/fit/' + mod_info['name'] + '/'\n",
    "file_name = all_users_folder + 'mod_parameters.pkl'\n",
    "with open(file_name, 'wb') as f:\n",
    "    pickle.dump(mod_info, f)\n",
    "\n",
    "# fit to all users\n",
    "fct.fit_model_to_data(uniqueIDs, mod_info, param_lower_bounds, param_upper_bounds, all_users_folder)"
   ]
  },
  {
   "cell_type": "markdown",
   "id": "d534243f-bae0-4079-9c55-4e6b7b6d6167",
   "metadata": {},
   "source": [
    "## Model 2 - alpha, beta, pi_t"
   ]
  },
  {
   "cell_type": "code",
   "execution_count": 12,
   "id": "7d6f8a13-a466-4c3c-8e74-be2aed6a04ab",
   "metadata": {},
   "outputs": [],
   "source": [
    "# Model specification\n",
    "mod_info = {}\n",
    "mod_info['name'] = 'model2_alpha_beta_pi_t'\n",
    "mod_info['value_fct'] = fct.rescorla_wagner_1t\n",
    "mod_info['dec_fct'] = fct.my_softmax_1t\n",
    "mod_info['param_names'] = ['alpha', 'beta', 'pi_t']\n",
    "\n",
    "# For fitting\n",
    "param_lower_bounds = [0, 0.01, -2]\n",
    "param_upper_bounds = [1,    2,  2]\n",
    "\n",
    "# Save\n",
    "all_users_folder = 'data/all_users/fit/' + mod_info['name'] + '/'\n",
    "file_name = all_users_folder + 'mod_parameters.pkl'\n",
    "with open(file_name, 'wb') as f:\n",
    "    pickle.dump(mod_info, f)\n",
    "\n",
    "# fit to all users\n",
    "fct.fit_model_to_data(uniqueIDs, mod_info, param_lower_bounds, param_upper_bounds, all_users_folder)"
   ]
  },
  {
   "cell_type": "markdown",
   "id": "c325dcf2-05bc-4097-bbc4-6e14b83f376b",
   "metadata": {},
   "source": [
    "## Model 2 - alpha, pi_t"
   ]
  },
  {
   "cell_type": "code",
   "execution_count": 26,
   "id": "529351c2-f8e0-4e5c-a117-2d152d6d084b",
   "metadata": {},
   "outputs": [],
   "source": [
    "# Model specification\n",
    "mod_info = {}\n",
    "mod_info['name'] = 'model2_alpha_pi_t'\n",
    "mod_info['value_fct'] = fct.rescorla_wagner_1t\n",
    "mod_info['dec_fct'] = fct.my_softmax_1t\n",
    "mod_info['param_names'] = ['alpha', 'pi_t']\n",
    "\n",
    "# For fitting\n",
    "param_lower_bounds = [0, -2]\n",
    "param_upper_bounds = [1, 2]\n",
    "\n",
    "# Save\n",
    "all_users_folder = 'data/all_users/fit/' + mod_info['name'] + '/'\n",
    "file_name = all_users_folder + 'mod_parameters.pkl'\n",
    "with open(file_name, 'wb') as f:\n",
    "    pickle.dump(mod_info, f)\n",
    "\n",
    "# fit to all users\n",
    "fct.fit_model_to_data(uniqueIDs, mod_info, param_lower_bounds, param_upper_bounds, all_users_folder)"
   ]
  },
  {
   "cell_type": "markdown",
   "id": "56a4b963-ffb7-4323-a6d9-a88f2ed2b5eb",
   "metadata": {},
   "source": [
    "## Model 2 - v0, alpha, pi_t"
   ]
  },
  {
   "cell_type": "code",
   "execution_count": 27,
   "id": "5ab1652a-5a06-4e5d-977b-f54b70822a45",
   "metadata": {},
   "outputs": [],
   "source": [
    "# Model specification\n",
    "mod_info = {}\n",
    "mod_info['name'] = 'model2_v0_alpha_pi_t'\n",
    "mod_info['value_fct'] = fct.rescorla_wagner_1t\n",
    "mod_info['dec_fct'] = fct.my_softmax_1t\n",
    "mod_info['param_names'] = ['v0', 'alpha', 'pi_t']\n",
    "\n",
    "# For fitting\n",
    "param_lower_bounds = [-3, 0, -2]\n",
    "param_upper_bounds = [ 3, 1,  2]\n",
    "\n",
    "# Save\n",
    "all_users_folder = 'data/all_users/fit/' + mod_info['name'] + '/'\n",
    "file_name = all_users_folder + 'mod_parameters.pkl'\n",
    "with open(file_name, 'wb') as f:\n",
    "    pickle.dump(mod_info, f)\n",
    "\n",
    "# fit to all users\n",
    "fct.fit_model_to_data(uniqueIDs, mod_info, param_lower_bounds, param_upper_bounds, all_users_folder)"
   ]
  },
  {
   "cell_type": "markdown",
   "id": "d22842a7-b0f3-4543-b7e8-628d5195445b",
   "metadata": {},
   "source": [
    "## Model 2 - v0, alpha, beta, pi_t"
   ]
  },
  {
   "cell_type": "code",
   "execution_count": null,
   "id": "673f80b3-9965-4222-b22c-8528d639b075",
   "metadata": {},
   "outputs": [],
   "source": [
    "# Model specification\n",
    "mod_info = {}\n",
    "mod_info['name'] = 'model2_v0_alpha_beta_pi_t'\n",
    "mod_info['value_fct'] = fct.rescorla_wagner_1t\n",
    "mod_info['dec_fct'] = fct.my_softmax_1t\n",
    "mod_info['param_names'] = ['v0', 'alpha', 'beta', 'pi_t']\n",
    "\n",
    "# For fitting\n",
    "param_lower_bounds = [-3, 0, 0.01, -2]\n",
    "param_upper_bounds = [ 3, 1,    2,  2]\n",
    "\n",
    "# Save\n",
    "all_users_folder = 'data/all_users/fit/' + mod_info['name'] + '/'\n",
    "file_name = all_users_folder + 'mod_parameters.pkl'\n",
    "with open(file_name, 'wb') as f:\n",
    "    pickle.dump(mod_info, f)\n",
    "\n",
    "# fit to all users\n",
    "fct.fit_model_to_data(uniqueIDs, mod_info, param_lower_bounds, param_upper_bounds, all_users_folder)"
   ]
  },
  {
   "cell_type": "code",
   "execution_count": 29,
   "id": "574ee4c7-b624-4945-9f2a-b9a4f2adcfa7",
   "metadata": {},
   "outputs": [],
   "source": [
    "# Model specification\n",
    "mod_info = {}\n",
    "mod_info['name'] = 'model2_v0_alpha_beta_pi_t_newB'\n",
    "mod_info['value_fct'] = fct.rescorla_wagner_1t\n",
    "mod_info['dec_fct'] = fct.my_softmax_1t\n",
    "mod_info['param_names'] = ['v0', 'alpha', 'beta', 'pi_t']\n",
    "\n",
    "# For fitting\n",
    "param_lower_bounds = [-3, 0, 0.01, -5]\n",
    "param_upper_bounds = [ 3, 1,    2,  5]\n",
    "\n",
    "# Save\n",
    "all_users_folder = 'data/all_users/fit/' + mod_info['name'] + '/'\n",
    "file_name = all_users_folder + 'mod_parameters.pkl'\n",
    "with open(file_name, 'wb') as f:\n",
    "    pickle.dump(mod_info, f)\n",
    "\n",
    "# fit to all users\n",
    "fct.fit_model_to_data(uniqueIDs, mod_info, param_lower_bounds, param_upper_bounds, all_users_folder)"
   ]
  },
  {
   "cell_type": "code",
   "execution_count": 12,
   "id": "6b0d8014-a93a-456a-8251-b2c63078d527",
   "metadata": {},
   "outputs": [],
   "source": [
    "# Model specification\n",
    "mod_info = {}\n",
    "mod_info['name'] = 'model2_v0_alpha_beta_pi_t_newB2'\n",
    "mod_info['value_fct'] = fct.rescorla_wagner_1t\n",
    "mod_info['dec_fct'] = fct.my_softmax_1t\n",
    "mod_info['param_names'] = ['v0', 'alpha', 'beta', 'pi_t']\n",
    "\n",
    "# For fitting\n",
    "param_lower_bounds = [-5, 0, 0.01, -5]\n",
    "param_upper_bounds = [ 5, 1,    3,  5]\n",
    "\n",
    "# Save\n",
    "all_users_folder = 'data/all_users/fit/' + mod_info['name'] + '/'\n",
    "file_name = all_users_folder + 'mod_parameters.pkl'\n",
    "with open(file_name, 'wb') as f:\n",
    "    pickle.dump(mod_info, f)\n",
    "\n",
    "# fit to all users\n",
    "fct.fit_model_to_data(uniqueIDs, mod_info, param_lower_bounds, param_upper_bounds, all_users_folder)"
   ]
  },
  {
   "cell_type": "code",
   "execution_count": 3,
   "id": "3e3fe103-f66c-407f-ae1a-dfa04b7cd826",
   "metadata": {},
   "outputs": [],
   "source": [
    "# Model specification\n",
    "mod_info = {}\n",
    "mod_info['name'] = 'model2_v0_alpha_beta_pi_t_newB3'\n",
    "mod_info['value_fct'] = fct.rescorla_wagner_1t\n",
    "mod_info['dec_fct'] = fct.my_softmax_1t\n",
    "mod_info['param_names'] = ['v0', 'alpha', 'beta', 'pi_t']\n",
    "\n",
    "# For fitting\n",
    "param_lower_bounds = [-5, 0, 0.01, -3]\n",
    "param_upper_bounds = [ 5, 1,    3,  7]\n",
    "\n",
    "# Save\n",
    "all_users_folder = 'data/all_users/fit/' + mod_info['name'] + '/'\n",
    "file_name = all_users_folder + 'mod_parameters.pkl'\n",
    "with open(file_name, 'wb') as f:\n",
    "    pickle.dump(mod_info, f)\n",
    "\n",
    "# fit to all users\n",
    "fct.fit_model_to_data(uniqueIDs, mod_info, param_lower_bounds, param_upper_bounds, all_users_folder)"
   ]
  },
  {
   "cell_type": "code",
   "execution_count": 5,
   "id": "c9b4deca-0c97-4129-824b-4718c3be451e",
   "metadata": {},
   "outputs": [
    {
     "name": "stderr",
     "output_type": "stream",
     "text": [
      "/Volumes/GoogleDrive/Mon Drive/PAT/data_analysis/functions_new.ipynb:273: RuntimeWarning: divide by zero encountered in log\n",
      "  \"    \\n\",\n",
      "/Volumes/GoogleDrive/Mon Drive/PAT/data_analysis/functions_new.ipynb:273: RuntimeWarning: invalid value encountered in double_scalars\n",
      "  \"    \\n\",\n",
      "/Volumes/GoogleDrive/Mon Drive/PAT/data_analysis/functions_new.ipynb:273: RuntimeWarning: divide by zero encountered in log\n",
      "  \"    \\n\",\n",
      "/Volumes/GoogleDrive/Mon Drive/PAT/data_analysis/functions_new.ipynb:273: RuntimeWarning: invalid value encountered in double_scalars\n",
      "  \"    \\n\",\n",
      "/Volumes/GoogleDrive/Mon Drive/PAT/data_analysis/functions_new.ipynb:273: RuntimeWarning: divide by zero encountered in log\n",
      "  \"    \\n\",\n",
      "/Volumes/GoogleDrive/Mon Drive/PAT/data_analysis/functions_new.ipynb:273: RuntimeWarning: invalid value encountered in double_scalars\n",
      "  \"    \\n\",\n",
      "/Volumes/GoogleDrive/Mon Drive/PAT/data_analysis/functions_new.ipynb:273: RuntimeWarning: divide by zero encountered in log\n",
      "  \"    \\n\",\n",
      "/Volumes/GoogleDrive/Mon Drive/PAT/data_analysis/functions_new.ipynb:273: RuntimeWarning: invalid value encountered in double_scalars\n",
      "  \"    \\n\",\n",
      "/Volumes/GoogleDrive/Mon Drive/PAT/data_analysis/functions_new.ipynb:273: RuntimeWarning: divide by zero encountered in log\n",
      "  \"    \\n\",\n",
      "/Volumes/GoogleDrive/Mon Drive/PAT/data_analysis/functions_new.ipynb:273: RuntimeWarning: invalid value encountered in double_scalars\n",
      "  \"    \\n\",\n",
      "/Volumes/GoogleDrive/Mon Drive/PAT/data_analysis/functions_new.ipynb:273: RuntimeWarning: divide by zero encountered in log\n",
      "  \"    \\n\",\n",
      "/Volumes/GoogleDrive/Mon Drive/PAT/data_analysis/functions_new.ipynb:273: RuntimeWarning: invalid value encountered in double_scalars\n",
      "  \"    \\n\",\n",
      "/Volumes/GoogleDrive/Mon Drive/PAT/data_analysis/functions_new.ipynb:273: RuntimeWarning: divide by zero encountered in log\n",
      "  \"    \\n\",\n",
      "/Volumes/GoogleDrive/Mon Drive/PAT/data_analysis/functions_new.ipynb:273: RuntimeWarning: invalid value encountered in double_scalars\n",
      "  \"    \\n\",\n",
      "/Volumes/GoogleDrive/Mon Drive/PAT/data_analysis/functions_new.ipynb:273: RuntimeWarning: divide by zero encountered in log\n",
      "  \"    \\n\",\n",
      "/Volumes/GoogleDrive/Mon Drive/PAT/data_analysis/functions_new.ipynb:273: RuntimeWarning: invalid value encountered in double_scalars\n",
      "  \"    \\n\",\n",
      "/Volumes/GoogleDrive/Mon Drive/PAT/data_analysis/functions_new.ipynb:273: RuntimeWarning: divide by zero encountered in log\n",
      "  \"    \\n\",\n",
      "/Volumes/GoogleDrive/Mon Drive/PAT/data_analysis/functions_new.ipynb:273: RuntimeWarning: invalid value encountered in double_scalars\n",
      "  \"    \\n\",\n",
      "/Volumes/GoogleDrive/Mon Drive/PAT/data_analysis/functions_new.ipynb:273: RuntimeWarning: divide by zero encountered in log\n",
      "  \"    \\n\",\n",
      "/Volumes/GoogleDrive/Mon Drive/PAT/data_analysis/functions_new.ipynb:273: RuntimeWarning: invalid value encountered in double_scalars\n",
      "  \"    \\n\",\n",
      "/Volumes/GoogleDrive/Mon Drive/PAT/data_analysis/functions_new.ipynb:273: RuntimeWarning: divide by zero encountered in log\n",
      "  \"    \\n\",\n",
      "/Users/magdadubois/opt/anaconda3/envs/python38/lib/python3.8/site-packages/scipy/optimize/_numdiff.py:576: RuntimeWarning: invalid value encountered in subtract\n",
      "  df = fun(x) - f0\n",
      "/Volumes/GoogleDrive/Mon Drive/PAT/data_analysis/functions_new.ipynb:273: RuntimeWarning: divide by zero encountered in log\n",
      "  \"    \\n\",\n",
      "/Volumes/GoogleDrive/Mon Drive/PAT/data_analysis/functions_new.ipynb:273: RuntimeWarning: invalid value encountered in double_scalars\n",
      "  \"    \\n\",\n"
     ]
    }
   ],
   "source": [
    "# Model specification\n",
    "mod_info = {}\n",
    "mod_info['name'] = 'model2_v0_alpha_beta_pi_t_newB4'\n",
    "mod_info['value_fct'] = fct.rescorla_wagner_1t\n",
    "mod_info['dec_fct'] = fct.my_softmax_1t\n",
    "mod_info['param_names'] = ['v0', 'alpha', 'beta', 'pi_t']\n",
    "\n",
    "# For fitting\n",
    "param_lower_bounds = [-5, 0, 0.01, -3]\n",
    "param_upper_bounds = [ 5, 1,    4,  7]\n",
    "\n",
    "# Save\n",
    "all_users_folder = 'data/all_users/fit/' + mod_info['name'] + '/'\n",
    "file_name = all_users_folder + 'mod_parameters.pkl'\n",
    "with open(file_name, 'wb') as f:\n",
    "    pickle.dump(mod_info, f)\n",
    "\n",
    "# fit to all users\n",
    "fct.fit_model_to_data(uniqueIDs, mod_info, param_lower_bounds, param_upper_bounds, all_users_folder)"
   ]
  },
  {
   "cell_type": "code",
   "execution_count": null,
   "id": "03cb9905-bc40-460e-b4a7-2ec36da514cb",
   "metadata": {},
   "outputs": [],
   "source": []
  },
  {
   "cell_type": "markdown",
   "id": "8734ce64-9a9c-4650-b390-28330ea7620d",
   "metadata": {},
   "source": [
    "## Model 3 - alpha_rew, alpha_pun"
   ]
  },
  {
   "cell_type": "code",
   "execution_count": 14,
   "id": "ac11a480-f661-4db2-aca1-b6a4d548a8b2",
   "metadata": {},
   "outputs": [],
   "source": [
    "# Model specification\n",
    "mod_info = {}\n",
    "mod_info['name'] = 'model3_2alpha'\n",
    "mod_info['value_fct'] = fct.rescorla_wagner_2LR_1t\n",
    "mod_info['dec_fct'] = fct.my_softmax_1t\n",
    "mod_info['param_names'] = ['alpha_rew', 'alpha_pun']\n",
    "\n",
    "# For fitting\n",
    "param_lower_bounds = [0, 0]\n",
    "param_upper_bounds = [1, 1]\n",
    "\n",
    "# Save\n",
    "all_users_folder = 'data/all_users/fit/' + mod_info['name'] + '/'\n",
    "file_name = all_users_folder + 'mod_parameters.pkl'\n",
    "with open(file_name, 'wb') as f:\n",
    "    pickle.dump(mod_info, f)\n",
    "\n",
    "# fit to all users\n",
    "fct.fit_model_to_data(uniqueIDs, mod_info, param_lower_bounds, param_upper_bounds, all_users_folder)"
   ]
  },
  {
   "cell_type": "markdown",
   "id": "9c2daca4-2558-4069-845d-ccd6f89f39da",
   "metadata": {},
   "source": [
    "## Model 3 - alpha_rew, alpha_pun, beta"
   ]
  },
  {
   "cell_type": "code",
   "execution_count": 15,
   "id": "114341f6-6843-4daf-9e03-ec698d583251",
   "metadata": {},
   "outputs": [],
   "source": [
    "# Model specification\n",
    "mod_info = {}\n",
    "mod_info['name'] = 'model3_2alpha_beta'\n",
    "mod_info['value_fct'] = fct.rescorla_wagner_2LR_1t\n",
    "mod_info['dec_fct'] = fct.my_softmax_1t\n",
    "mod_info['param_names'] = ['alpha_rew', 'alpha_pun', 'beta']\n",
    "\n",
    "# For fitting\n",
    "param_lower_bounds = [0, 0, 0.01]\n",
    "param_upper_bounds = [1, 1, 2]\n",
    "\n",
    "# Save\n",
    "all_users_folder = 'data/all_users/fit/' + mod_info['name'] + '/'\n",
    "file_name = all_users_folder + 'mod_parameters.pkl'\n",
    "with open(file_name, 'wb') as f:\n",
    "    pickle.dump(mod_info, f)\n",
    "\n",
    "# fit to all users\n",
    "fct.fit_model_to_data(uniqueIDs, mod_info, param_lower_bounds, param_upper_bounds, all_users_folder)"
   ]
  },
  {
   "cell_type": "markdown",
   "id": "fa249c5f-1e80-4562-a3df-8c015b5501b5",
   "metadata": {},
   "source": [
    "## Model 3 - alpha_rew, alpha_pun, beta, pi_t"
   ]
  },
  {
   "cell_type": "code",
   "execution_count": 16,
   "id": "d9241f70-8a2b-43ee-9cfc-7484848471f7",
   "metadata": {},
   "outputs": [],
   "source": [
    "# Model specification\n",
    "mod_info = {}\n",
    "mod_info['name'] = 'model3_2alpha_beta_pi_t'\n",
    "mod_info['value_fct'] = fct.rescorla_wagner_2LR_1t\n",
    "mod_info['dec_fct'] = fct.my_softmax_1t\n",
    "mod_info['param_names'] = ['alpha_rew', 'alpha_pun', 'beta', 'pi_t']\n",
    "\n",
    "# For fitting\n",
    "param_lower_bounds = [0, 0, 0.1, -2]\n",
    "param_upper_bounds = [1, 1, 1.5,  2]\n",
    "\n",
    "# Save\n",
    "all_users_folder = 'data/all_users/fit/' + mod_info['name'] + '/'\n",
    "file_name = all_users_folder + 'mod_parameters.pkl'\n",
    "with open(file_name, 'wb') as f:\n",
    "    pickle.dump(mod_info, f)\n",
    "\n",
    "# fit to all users\n",
    "fct.fit_model_to_data(uniqueIDs, mod_info, param_lower_bounds, param_upper_bounds, all_users_folder)"
   ]
  },
  {
   "cell_type": "markdown",
   "id": "69981b8b-e7ac-421d-acb5-3887cd026329",
   "metadata": {},
   "source": [
    "## Model 3 - alpha_rew, alpha_pun, pi_t"
   ]
  },
  {
   "cell_type": "code",
   "execution_count": 22,
   "id": "d3bb6bec-103c-45c3-952f-ff70b92c2533",
   "metadata": {},
   "outputs": [],
   "source": [
    "# Model specification\n",
    "mod_info = {}\n",
    "mod_info['name'] = 'model3_2alpha_pi_t'\n",
    "mod_info['value_fct'] = fct.rescorla_wagner_2LR_1t\n",
    "mod_info['dec_fct'] = fct.my_softmax_1t\n",
    "mod_info['param_names'] = ['alpha_rew', 'alpha_pun', 'pi_t']\n",
    "\n",
    "# For fitting\n",
    "param_lower_bounds = [0, 0, -2]\n",
    "param_upper_bounds = [1, 1,  2]\n",
    "\n",
    "# Save\n",
    "all_users_folder = 'data/all_users/fit/' + mod_info['name'] + '/'\n",
    "file_name = all_users_folder + 'mod_parameters.pkl'\n",
    "with open(file_name, 'wb') as f:\n",
    "    pickle.dump(mod_info, f)\n",
    "\n",
    "# fit to all users\n",
    "fct.fit_model_to_data(uniqueIDs, mod_info, param_lower_bounds, param_upper_bounds, all_users_folder)"
   ]
  },
  {
   "cell_type": "markdown",
   "id": "60d7b3ea-e7c9-4b71-b8f2-ce7df45086a7",
   "metadata": {},
   "source": [
    "## Model 3 - v0, alpha_rew, alpha_pun, beta, pi_t"
   ]
  },
  {
   "cell_type": "code",
   "execution_count": 17,
   "id": "6e755945-7fdf-497f-a0cc-a141a806fbf7",
   "metadata": {},
   "outputs": [],
   "source": [
    "# Model specification\n",
    "mod_info = {}\n",
    "mod_info['name'] = 'model3_v0_2alpha_beta_pi_t'\n",
    "mod_info['value_fct'] = fct.rescorla_wagner_2LR_1t\n",
    "mod_info['dec_fct'] = fct.my_softmax_1t\n",
    "mod_info['param_names'] = ['v0', 'alpha_rew', 'alpha_pun', 'beta', 'pi_t']\n",
    "\n",
    "# For fitting\n",
    "param_lower_bounds = [-2, 0, 0, 0.1, -2]\n",
    "param_upper_bounds = [ 2, 1, 1, 1.5,  2]\n",
    "\n",
    "# Save\n",
    "all_users_folder = 'data/all_users/fit/' + mod_info['name'] + '/'\n",
    "file_name = all_users_folder + 'mod_parameters.pkl'\n",
    "with open(file_name, 'wb') as f:\n",
    "    pickle.dump(mod_info, f)\n",
    "\n",
    "# fit to all users\n",
    "fct.fit_model_to_data(uniqueIDs, mod_info, param_lower_bounds, param_upper_bounds, all_users_folder)"
   ]
  },
  {
   "cell_type": "markdown",
   "id": "8c97161a-4ad4-4bc5-8adb-386042a22a06",
   "metadata": {},
   "source": [
    "## Model 3 - v0, alpha_rew, alpha_pun, pi_t"
   ]
  },
  {
   "cell_type": "code",
   "execution_count": 21,
   "id": "a385aecc-7e40-4480-bd39-410dde6def56",
   "metadata": {},
   "outputs": [],
   "source": [
    "# Model specification\n",
    "mod_info = {}\n",
    "mod_info['name'] = 'model3_v0_2alpha_pi_t'\n",
    "mod_info['value_fct'] = fct.rescorla_wagner_2LR_1t\n",
    "mod_info['dec_fct'] = fct.my_softmax_1t\n",
    "mod_info['param_names'] = ['v0', 'alpha_rew', 'alpha_pun', 'pi_t']\n",
    "\n",
    "# For fitting\n",
    "param_lower_bounds = [-2, 0, 0, -2]\n",
    "param_upper_bounds = [ 2, 1, 1,  2]\n",
    "\n",
    "# Save\n",
    "all_users_folder = 'data/all_users/fit/' + mod_info['name'] + '/'\n",
    "file_name = all_users_folder + 'mod_parameters.pkl'\n",
    "with open(file_name, 'wb') as f:\n",
    "    pickle.dump(mod_info, f)\n",
    "\n",
    "# fit to all users\n",
    "fct.fit_model_to_data(uniqueIDs, mod_info, param_lower_bounds, param_upper_bounds, all_users_folder)"
   ]
  },
  {
   "cell_type": "markdown",
   "id": "fba7e4d0-5205-40a7-ae5b-6345fb325c22",
   "metadata": {},
   "source": [
    "## Model 3 - v0, alpha_rew, alpha_pun, beta"
   ]
  },
  {
   "cell_type": "code",
   "execution_count": 18,
   "id": "d919c62f-790d-4aa0-81a3-1130be16d91e",
   "metadata": {},
   "outputs": [],
   "source": [
    "# Model specification\n",
    "mod_info = {}\n",
    "mod_info['name'] = 'model3_v0_2alpha_beta'\n",
    "mod_info['value_fct'] = fct.rescorla_wagner_2LR_1t\n",
    "mod_info['dec_fct'] = fct.my_softmax_1t\n",
    "mod_info['param_names'] = ['v0', 'alpha_rew', 'alpha_pun', 'beta']\n",
    "\n",
    "# For fitting\n",
    "param_lower_bounds = [-2, 0, 0, 0.1]\n",
    "param_upper_bounds = [ 2, 1, 1, 1.5]\n",
    "\n",
    "# Save\n",
    "all_users_folder = 'data/all_users/fit/' + mod_info['name'] + '/'\n",
    "file_name = all_users_folder + 'mod_parameters.pkl'\n",
    "with open(file_name, 'wb') as f:\n",
    "    pickle.dump(mod_info, f)\n",
    "\n",
    "# fit to all users\n",
    "fct.fit_model_to_data(uniqueIDs, mod_info, param_lower_bounds, param_upper_bounds, all_users_folder)"
   ]
  },
  {
   "cell_type": "markdown",
   "id": "62b7a892-2216-4037-830e-b1c0d5e1a883",
   "metadata": {},
   "source": [
    "## Model 4 - alpha, beta, 2pi_t"
   ]
  },
  {
   "cell_type": "code",
   "execution_count": 10,
   "id": "b80a5562-f3be-4a8c-adce-2dfda90425da",
   "metadata": {},
   "outputs": [],
   "source": [
    "# Model specification\n",
    "mod_info = {}\n",
    "mod_info['name'] = 'model4_alpha_beta_2pi_t'\n",
    "mod_info['value_fct'] = fct.rescorla_wagner_1t\n",
    "mod_info['dec_fct'] = fct.my_softmax_1t_2pit\n",
    "mod_info['param_names'] = ['alpha', 'beta', 'pi_t_1', 'pi_t_2']\n",
    "\n",
    "# For fitting\n",
    "param_lower_bounds = [0, 0.01, -5, -5]\n",
    "param_upper_bounds = [1,    2,  5,  5]\n",
    "\n",
    "# Save\n",
    "all_users_folder = 'data/all_users/fit/' + mod_info['name'] + '/'\n",
    "file_name = all_users_folder + 'mod_parameters.pkl'\n",
    "with open(file_name, 'wb') as f:\n",
    "    pickle.dump(mod_info, f)\n",
    "\n",
    "# fit to all users\n",
    "fct.fit_model_to_data(uniqueIDs, mod_info, param_lower_bounds, param_upper_bounds, all_users_folder)"
   ]
  },
  {
   "cell_type": "markdown",
   "id": "efdf516a-c49b-4037-b2ed-058ea5f3ed80",
   "metadata": {},
   "source": [
    "## Model 4 - v0, alpha, beta, 2pi_t"
   ]
  },
  {
   "cell_type": "code",
   "execution_count": 5,
   "id": "3e947fd8-f3df-432b-ae77-7c081967e6f8",
   "metadata": {},
   "outputs": [],
   "source": [
    "# Model specification\n",
    "mod_info = {}\n",
    "mod_info['name'] = 'model4_v0_alpha_beta_2pi_t'\n",
    "mod_info['value_fct'] = fct.rescorla_wagner_1t\n",
    "mod_info['dec_fct'] = fct.my_softmax_1t_2pit\n",
    "mod_info['param_names'] = ['v0', 'alpha', 'beta', 'pi_t_1', 'pi_t_2']\n",
    "\n",
    "# For fitting\n",
    "param_lower_bounds = [-2, 0, 0.01, -2, -2]\n",
    "param_upper_bounds = [ 2, 1,    2,  2,  2]\n",
    "\n",
    "# Save\n",
    "all_users_folder = 'data/all_users/fit/' + mod_info['name'] + '/'\n",
    "file_name = all_users_folder + 'mod_parameters.pkl'\n",
    "with open(file_name, 'wb') as f:\n",
    "    pickle.dump(mod_info, f)\n",
    "\n",
    "# fit to all users\n",
    "fct.fit_model_to_data(uniqueIDs, mod_info, param_lower_bounds, param_upper_bounds, all_users_folder)"
   ]
  },
  {
   "cell_type": "markdown",
   "id": "dcc9a186-3a5c-4018-8fe1-fb3eb063fb19",
   "metadata": {},
   "source": [
    "## Model 4 - v0, 2alpha, beta, 2pi_t"
   ]
  },
  {
   "cell_type": "code",
   "execution_count": 6,
   "id": "e6e26d3b-9fad-4399-9549-3223e11e0c53",
   "metadata": {},
   "outputs": [],
   "source": [
    "# Model specification\n",
    "mod_info = {}\n",
    "mod_info['name'] = 'model4_v0_2alpha_beta_2pi_t'\n",
    "mod_info['value_fct'] = fct.rescorla_wagner_2LR_1t\n",
    "mod_info['dec_fct'] = fct.my_softmax_1t_2pit\n",
    "mod_info['param_names'] = ['v0', 'alpha_rew', 'alpha_pun', 'beta', 'pi_t_1', 'pi_t_2']\n",
    "\n",
    "# For fitting\n",
    "param_lower_bounds = [-2, 0, 0, 0.01, -2, -2]\n",
    "param_upper_bounds = [ 2, 1, 1,    2,  2,  2]\n",
    "\n",
    "# Save\n",
    "all_users_folder = 'data/all_users/fit/' + mod_info['name'] + '/'\n",
    "file_name = all_users_folder + 'mod_parameters.pkl'\n",
    "with open(file_name, 'wb') as f:\n",
    "    pickle.dump(mod_info, f)\n",
    "\n",
    "# fit to all users\n",
    "fct.fit_model_to_data(uniqueIDs, mod_info, param_lower_bounds, param_upper_bounds, all_users_folder)"
   ]
  },
  {
   "cell_type": "markdown",
   "id": "bd168f7c-74cf-4db1-a96d-245916fec1e5",
   "metadata": {},
   "source": [
    "## Model 4 - 2alpha, beta, 2pi_t"
   ]
  },
  {
   "cell_type": "code",
   "execution_count": 9,
   "id": "6d655121-7e4b-4cb8-b3f7-f594061d4e9e",
   "metadata": {},
   "outputs": [],
   "source": [
    "# Model specification\n",
    "mod_info = {}\n",
    "mod_info['name'] = 'model4_2alpha_beta_2pi_t'\n",
    "mod_info['value_fct'] = fct.rescorla_wagner_2LR_1t\n",
    "mod_info['dec_fct'] = fct.my_softmax_1t_2pit\n",
    "mod_info['param_names'] = ['alpha_rew', 'alpha_pun', 'beta', 'pi_t_1', 'pi_t_2']\n",
    "\n",
    "# For fitting\n",
    "param_lower_bounds = [0, 0, 0.01, -5, -5]\n",
    "param_upper_bounds = [1, 1,    2,  5,  5]\n",
    "\n",
    "# Save\n",
    "all_users_folder = 'data/all_users/fit/' + mod_info['name'] + '/'\n",
    "file_name = all_users_folder + 'mod_parameters.pkl'\n",
    "with open(file_name, 'wb') as f:\n",
    "    pickle.dump(mod_info, f)\n",
    "\n",
    "# fit to all users\n",
    "fct.fit_model_to_data(uniqueIDs, mod_info, param_lower_bounds, param_upper_bounds, all_users_folder)"
   ]
  },
  {
   "cell_type": "code",
   "execution_count": null,
   "id": "5e06d939-4c75-4e1a-bc5b-2362e7800d5f",
   "metadata": {},
   "outputs": [],
   "source": []
  }
 ],
 "metadata": {
  "kernelspec": {
   "display_name": "Python 3 (ipykernel)",
   "language": "python",
   "name": "python3"
  },
  "language_info": {
   "codemirror_mode": {
    "name": "ipython",
    "version": 3
   },
   "file_extension": ".py",
   "mimetype": "text/x-python",
   "name": "python",
   "nbconvert_exporter": "python",
   "pygments_lexer": "ipython3",
   "version": "3.8.12"
  }
 },
 "nbformat": 4,
 "nbformat_minor": 5
}
