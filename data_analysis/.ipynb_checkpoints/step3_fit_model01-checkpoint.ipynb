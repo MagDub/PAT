{
 "cells": [
  {
   "cell_type": "code",
   "execution_count": 1,
   "id": "243982d9-7c77-43d7-a746-b2b976fabc01",
   "metadata": {},
   "outputs": [],
   "source": [
    "# On terminal: conda activate python38"
   ]
  },
  {
   "cell_type": "code",
   "execution_count": 2,
   "id": "bb5ab949-f34a-4ad2-97dc-8dad2820f9f0",
   "metadata": {},
   "outputs": [],
   "source": [
    "import pandas as pd\n",
    "import numpy as np\n",
    "import matplotlib.pyplot as plt\n",
    "from matplotlib import cm\n",
    "import ipynb.fs.defs.functions as fct\n",
    "import pickle\n",
    "\n",
    "import warnings\n",
    "warnings.filterwarnings(\"error\")"
   ]
  },
  {
   "cell_type": "code",
   "execution_count": 3,
   "id": "6d60e517-0d2f-46ae-8ea8-d2bf28be6289",
   "metadata": {},
   "outputs": [],
   "source": [
    "# Load IDs\n",
    "with open('uniqueIDs.pkl', 'rb') as f:\n",
    "    uniqueIDs = pickle.load(f)"
   ]
  },
  {
   "cell_type": "markdown",
   "id": "8195244b-7d45-4d16-9ef0-8c8ee3056347",
   "metadata": {},
   "source": [
    "# Fit mod1 for each participant"
   ]
  },
  {
   "cell_type": "code",
   "execution_count": 4,
   "id": "5b2e6fee-e121-48e5-8842-097644839b0b",
   "metadata": {},
   "outputs": [],
   "source": [
    "# Model settings\n",
    "\n",
    "# Functions\n",
    "value_fct = fct.rescorla_wagner\n",
    "dec_fct = fct.my_softmax\n",
    "\n",
    "# Store everything\n",
    "mod_info = {}\n",
    "mod_info['name'] = 'model1'\n",
    "mod_info['value_fct'] = value_fct.__name__\n",
    "mod_info['dec_fct'] = dec_fct.__name__\n",
    "mod_info['param_names'] = ['v0', 'alpha', 'beta']\n",
    "#print(mod['value_fct'].__name__)\n",
    "\n",
    "# save\n",
    "all_users_folder = 'data/all_users/mod1/'\n",
    "file_name = all_users_folder+'mod_parameters.pkl'\n",
    "with open(file_name, 'wb') as f:\n",
    "    pickle.dump(mod_info, f)"
   ]
  },
  {
   "cell_type": "code",
   "execution_count": 5,
   "id": "503779d8-b238-4a83-af74-ff9a53c761cd",
   "metadata": {},
   "outputs": [],
   "source": [
    "run_ = True\n",
    "\n",
    "# Folder\n",
    "all_users_folder = 'data/all_users/mod1/'\n",
    "    \n",
    "if run_:\n",
    "    \n",
    "    # Parameter range for initial guess \n",
    "    # ['v0', 'alpha', 'beta']\n",
    "    param_lower_bound = [-10, 0, 0]\n",
    "    param_upper_bound = [ 10, 1, 20]\n",
    "\n",
    "    # Fit\n",
    "    all_users = {}\n",
    "    p_hit_per_trial = pd.DataFrame([])\n",
    "    ev_per_trial = pd.DataFrame([])\n",
    "    for n_part,ID in enumerate(uniqueIDs): \n",
    "\n",
    "        # Get data\n",
    "        user_folder = 'data/user_' + ID + '/'\n",
    "        df2_cf = pd.read_pickle(user_folder + 'df2_cf.pkl')\n",
    "        isHit_all_cues, fbs_all_cues, trialNo_all_cues = fct.extract_hits_fbs(df2_cf)\n",
    "\n",
    "        # Create a new Model object\n",
    "        mod = fct.Model(mod_name = mod_info['name'],\n",
    "                     value_fct = value_fct, \n",
    "                     dec_fct = dec_fct, \n",
    "                     param_names = mod_info['param_names'])\n",
    "\n",
    "        # Input data to model\n",
    "        mod.set_data(ID, fbs_all_cues, isHit_all_cues, trialNo_all_cues)\n",
    "\n",
    "        # Fit model\n",
    "        mod.fit(param_lower_bound, param_upper_bound, n_iterations=5)\n",
    "\n",
    "        # Nested dictionnary user data\n",
    "        all_users[n_part] = {}\n",
    "        all_users[n_part]['ID']=mod.ID\n",
    "        all_users[n_part]['nLL']=mod.nLL\n",
    "        all_users[n_part]['Ntrials']=mod.Ntrials\n",
    "        all_users[n_part]['Nparams']=len(mod.param_names)\n",
    "        for i in range(0,len(mod.param_names)):\n",
    "            all_users[n_part][mod.param_names[i]]=mod.param_values[i]\n",
    "        \n",
    "        # Concatenated model predictions: p hit\n",
    "        tmp = pd.DataFrame(mod.p_hit).transpose()\n",
    "        tmp.columns = tmp.columns+1\n",
    "        tmp = tmp.reset_index().rename(columns={'index': 'Cue'})\n",
    "        tmp.insert(0,'ID',ID)\n",
    "        p_hit_per_trial = pd.concat([tmp, p_hit_per_trial], axis=0)\n",
    "        \n",
    "        # Concatenated model predictions: EVs\n",
    "        tmp = pd.DataFrame(mod.v).transpose()\n",
    "        tmp.columns = tmp.columns+1\n",
    "        tmp = tmp.reset_index().rename(columns={'index': 'Cue'})\n",
    "        tmp.insert(0,'ID',ID)\n",
    "        ev_per_trial = pd.concat([tmp, ev_per_trial], axis=0)\n",
    "    \n",
    "    # Save mod LLs and parameter values\n",
    "    mod_fit = pd.DataFrame(all_users).transpose()\n",
    "    mod_fit.to_pickle(all_users_folder+'mod_param_fits.pkl')\n",
    "    \n",
    "    # Save mod predictions\n",
    "    p_hit_per_trial = p_hit_per_trial.sort_values(by='ID').reset_index(drop=True)\n",
    "    p_hit_per_trial.to_pickle(all_users_folder+'mod_p_hit_per_trial.pkl')\n",
    "    ev_per_trial = ev_per_trial.sort_values(by='ID').reset_index(drop=True)\n",
    "    ev_per_trial.to_pickle(all_users_folder+'mod_ev_per_trial.pkl')\n",
    "    "
   ]
  },
  {
   "cell_type": "code",
   "execution_count": 6,
   "id": "6ba23be0-abcb-42ed-941a-5b2bd229d1f1",
   "metadata": {},
   "outputs": [
    {
     "data": {
      "text/plain": [
       "{'HR': array([-0.85251451,  1.5954132 ,  3.01944766, -0.33484186,  1.89655922,\n",
       "        -0.98806044,  1.51656198,  0.46396112,  0.68816978,  0.81859882,\n",
       "         2.56755096,  3.58496995,  1.66721734,  3.06121833,  2.19907378,\n",
       "        -0.81207845, -0.89068029, -0.89068029, -0.89068029, -0.93640538,\n",
       "        -0.93640538, -0.93640538, -0.93640538, -0.93640538, -0.93640538,\n",
       "        -0.93640538, -0.93640538, -0.93640538]),\n",
       " 'LR': array([-0.85251451, -0.91420317, -0.91420317, -0.91420317, -0.91420317,\n",
       "        -0.91420317, -0.91420317, -0.91420317, -0.91420317, -0.91420317,\n",
       "        -0.91420317, -0.91420317, -0.91420317, -0.91420317, -0.91420317,\n",
       "        -0.11355057,  2.02529114,  3.26952081,  2.32024971,  1.76802966,\n",
       "         0.61024757,  0.77326908, -1.64151269, -0.53664877, -0.53664877,\n",
       "        -0.73045441, -2.51627466,  0.627553  ]),\n",
       " 'HP': array([-0.85251451, -2.58728076, -2.58728076, -2.58728076, -2.58728076,\n",
       "        -2.58728076, -2.58728076, -2.58728076, -2.58728076, -2.58728076,\n",
       "        -2.58728076, -2.58728076, -2.58728076, -2.58728076, -2.58728076,\n",
       "        -3.59644738, -3.59644738, -3.59644738, -3.59644738, -3.59644738,\n",
       "        -3.59644738, -3.59644738, -3.59644738, -3.59644738, -3.59644738,\n",
       "        -3.59644738, -3.59644738, -3.59644738]),\n",
       " 'LP': array([-0.85251451, -2.58728076, -2.58728076, -2.58728076, -2.58728076,\n",
       "        -2.58728076, -2.58728076, -2.58728076, -2.58728076, -2.58728076,\n",
       "        -2.58728076, -2.58728076, -2.58728076, -2.58728076, -2.58728076,\n",
       "         0.58624658, -1.7503094 , -1.43647794, -1.25391258, -2.8207863 ,\n",
       "        -2.8207863 , -1.22266832, -1.12953298, -2.74843088, -2.01711575,\n",
       "        -0.75514857, -2.53064001, -2.53064001])}"
      ]
     },
     "execution_count": 6,
     "metadata": {},
     "output_type": "execute_result"
    }
   ],
   "source": [
    "mod.v"
   ]
  },
  {
   "cell_type": "code",
   "execution_count": 16,
   "id": "9234729b-a6be-421a-beb1-7d653fbc3478",
   "metadata": {},
   "outputs": [
    {
     "data": {
      "text/html": [
       "<div>\n",
       "<style scoped>\n",
       "    .dataframe tbody tr th:only-of-type {\n",
       "        vertical-align: middle;\n",
       "    }\n",
       "\n",
       "    .dataframe tbody tr th {\n",
       "        vertical-align: top;\n",
       "    }\n",
       "\n",
       "    .dataframe thead th {\n",
       "        text-align: right;\n",
       "    }\n",
       "</style>\n",
       "<table border=\"1\" class=\"dataframe\">\n",
       "  <thead>\n",
       "    <tr style=\"text-align: right;\">\n",
       "      <th></th>\n",
       "      <th>ID</th>\n",
       "      <th>nLL</th>\n",
       "      <th>Ntrials</th>\n",
       "      <th>Nparams</th>\n",
       "      <th>v0</th>\n",
       "      <th>alpha</th>\n",
       "      <th>beta</th>\n",
       "    </tr>\n",
       "  </thead>\n",
       "  <tbody>\n",
       "    <tr>\n",
       "      <th>0</th>\n",
       "      <td>001</td>\n",
       "      <td>52.836721</td>\n",
       "      <td>112</td>\n",
       "      <td>3</td>\n",
       "      <td>-0.069151</td>\n",
       "      <td>0.002608</td>\n",
       "      <td>19.500275</td>\n",
       "    </tr>\n",
       "    <tr>\n",
       "      <th>1</th>\n",
       "      <td>003</td>\n",
       "      <td>53.461215</td>\n",
       "      <td>112</td>\n",
       "      <td>3</td>\n",
       "      <td>0.140338</td>\n",
       "      <td>0.030766</td>\n",
       "      <td>2.847292</td>\n",
       "    </tr>\n",
       "    <tr>\n",
       "      <th>2</th>\n",
       "      <td>006</td>\n",
       "      <td>54.597408</td>\n",
       "      <td>112</td>\n",
       "      <td>3</td>\n",
       "      <td>0.564683</td>\n",
       "      <td>0.195588</td>\n",
       "      <td>0.979577</td>\n",
       "    </tr>\n",
       "    <tr>\n",
       "      <th>3</th>\n",
       "      <td>007</td>\n",
       "      <td>50.411542</td>\n",
       "      <td>112</td>\n",
       "      <td>3</td>\n",
       "      <td>0.626474</td>\n",
       "      <td>0.041909</td>\n",
       "      <td>1.98518</td>\n",
       "    </tr>\n",
       "    <tr>\n",
       "      <th>4</th>\n",
       "      <td>008</td>\n",
       "      <td>44.469531</td>\n",
       "      <td>112</td>\n",
       "      <td>3</td>\n",
       "      <td>0.054125</td>\n",
       "      <td>0.005225</td>\n",
       "      <td>15.224536</td>\n",
       "    </tr>\n",
       "    <tr>\n",
       "      <th>...</th>\n",
       "      <td>...</td>\n",
       "      <td>...</td>\n",
       "      <td>...</td>\n",
       "      <td>...</td>\n",
       "      <td>...</td>\n",
       "      <td>...</td>\n",
       "      <td>...</td>\n",
       "    </tr>\n",
       "    <tr>\n",
       "      <th>165</th>\n",
       "      <td>453</td>\n",
       "      <td>51.765799</td>\n",
       "      <td>112</td>\n",
       "      <td>3</td>\n",
       "      <td>8.057981</td>\n",
       "      <td>0.294006</td>\n",
       "      <td>0.789725</td>\n",
       "    </tr>\n",
       "    <tr>\n",
       "      <th>166</th>\n",
       "      <td>462</td>\n",
       "      <td>44.662409</td>\n",
       "      <td>112</td>\n",
       "      <td>3</td>\n",
       "      <td>0.028651</td>\n",
       "      <td>0.012171</td>\n",
       "      <td>7.72589</td>\n",
       "    </tr>\n",
       "    <tr>\n",
       "      <th>167</th>\n",
       "      <td>469</td>\n",
       "      <td>4.867525</td>\n",
       "      <td>112</td>\n",
       "      <td>3</td>\n",
       "      <td>0.02503</td>\n",
       "      <td>0.03969</td>\n",
       "      <td>20.0</td>\n",
       "    </tr>\n",
       "    <tr>\n",
       "      <th>168</th>\n",
       "      <td>470</td>\n",
       "      <td>50.395574</td>\n",
       "      <td>112</td>\n",
       "      <td>3</td>\n",
       "      <td>0.05433</td>\n",
       "      <td>0.009292</td>\n",
       "      <td>7.879051</td>\n",
       "    </tr>\n",
       "    <tr>\n",
       "      <th>169</th>\n",
       "      <td>471</td>\n",
       "      <td>71.650905</td>\n",
       "      <td>112</td>\n",
       "      <td>3</td>\n",
       "      <td>-1.424096</td>\n",
       "      <td>0.074351</td>\n",
       "      <td>0.576776</td>\n",
       "    </tr>\n",
       "  </tbody>\n",
       "</table>\n",
       "<p>170 rows × 7 columns</p>\n",
       "</div>"
      ],
      "text/plain": [
       "      ID        nLL Ntrials Nparams        v0     alpha       beta\n",
       "0    001  52.836721     112       3 -0.069151  0.002608  19.500275\n",
       "1    003  53.461215     112       3  0.140338  0.030766   2.847292\n",
       "2    006  54.597408     112       3  0.564683  0.195588   0.979577\n",
       "3    007  50.411542     112       3  0.626474  0.041909    1.98518\n",
       "4    008  44.469531     112       3  0.054125  0.005225  15.224536\n",
       "..   ...        ...     ...     ...       ...       ...        ...\n",
       "165  453  51.765799     112       3  8.057981  0.294006   0.789725\n",
       "166  462  44.662409     112       3  0.028651  0.012171    7.72589\n",
       "167  469   4.867525     112       3   0.02503   0.03969       20.0\n",
       "168  470  50.395574     112       3   0.05433  0.009292   7.879051\n",
       "169  471  71.650905     112       3 -1.424096  0.074351   0.576776\n",
       "\n",
       "[170 rows x 7 columns]"
      ]
     },
     "execution_count": 16,
     "metadata": {},
     "output_type": "execute_result"
    }
   ],
   "source": [
    "mod_fit"
   ]
  },
  {
   "cell_type": "code",
   "execution_count": 50,
   "id": "6027ad3a-4876-4612-aa44-6eaef01a987b",
   "metadata": {},
   "outputs": [],
   "source": [
    "# Create a new Model object\n",
    "mod1 = fct.Model(mod_name = 'mod1',\n",
    "                 value_fct = fct.rescorla_wagner, \n",
    "                 dec_fct = fct.my_softmax, \n",
    "                 param_names = ['v0', 'alpha', 'beta'])\n",
    "\n",
    "# Input data to model\n",
    "mod1.set_data(ID, fbs_all_cues, isHit_all_cues, trialNo_all_cues)"
   ]
  },
  {
   "cell_type": "code",
   "execution_count": 52,
   "id": "a2a63b9f-11a3-4c8b-922a-8f6f3a7c1819",
   "metadata": {},
   "outputs": [
    {
     "data": {
      "text/plain": [
       "52.82896128665941"
      ]
     },
     "execution_count": 52,
     "metadata": {},
     "output_type": "execute_result"
    }
   ],
   "source": [
    "# Specifiy model parameters\n",
    "v0 = -0.066746\n",
    "alpha = 0.002524\n",
    "beta = 20\n",
    "\n",
    "# Run model\n",
    "nLL = mod1.compute_nLL([v0, alpha, beta])\n",
    "\n",
    "nLL"
   ]
  },
  {
   "cell_type": "code",
   "execution_count": 42,
   "id": "4a0053e8-8e15-494a-bd31-3a759371a92e",
   "metadata": {},
   "outputs": [
    {
     "data": {
      "text/plain": [
       "53.51268165204495"
      ]
     },
     "execution_count": 42,
     "metadata": {},
     "output_type": "execute_result"
    }
   ],
   "source": [
    "# Specifiy model parameters\n",
    "v0 = -0.135\n",
    "alpha = 0.00499\n",
    "beta = 12\n",
    "\n",
    "# Run model\n",
    "nLL = mod1.compute_nLL([v0, alpha, beta])\n",
    "\n",
    "nLL"
   ]
  },
  {
   "cell_type": "code",
   "execution_count": 36,
   "id": "08e56448-f6fd-48a1-a1cd-c29486b89b4a",
   "metadata": {},
   "outputs": [
    {
     "data": {
      "text/plain": [
       "53.841475328267364"
      ]
     },
     "execution_count": 36,
     "metadata": {},
     "output_type": "execute_result"
    }
   ],
   "source": [
    "# Specifiy model parameters\n",
    "v0 = -0.135\n",
    "alpha = 0.00499\n",
    "beta = 8\n",
    "\n",
    "# Run model\n",
    "nLL = mod1.compute_nLL([v0, alpha, beta])\n",
    "\n",
    "nLL"
   ]
  },
  {
   "cell_type": "code",
   "execution_count": null,
   "id": "eced6cca-e76c-4abd-896b-0508ff75892c",
   "metadata": {},
   "outputs": [],
   "source": []
  }
 ],
 "metadata": {
  "kernelspec": {
   "display_name": "Python 3 (ipykernel)",
   "language": "python",
   "name": "python3"
  },
  "language_info": {
   "codemirror_mode": {
    "name": "ipython",
    "version": 3
   },
   "file_extension": ".py",
   "mimetype": "text/x-python",
   "name": "python",
   "nbconvert_exporter": "python",
   "pygments_lexer": "ipython3",
   "version": "3.8.12"
  }
 },
 "nbformat": 4,
 "nbformat_minor": 5
}
