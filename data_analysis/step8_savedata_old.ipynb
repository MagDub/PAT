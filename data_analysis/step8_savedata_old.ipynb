{
 "cells": [
  {
   "cell_type": "code",
   "execution_count": 90,
   "id": "796b4b59-54d9-470d-a0ad-ba1c749d31a8",
   "metadata": {},
   "outputs": [],
   "source": [
    "import pandas as pd\n",
    "import pickle\n",
    "import numpy as np"
   ]
  },
  {
   "cell_type": "code",
   "execution_count": 91,
   "id": "b2f3ebcf-9d81-466f-959f-5db08af2280f",
   "metadata": {},
   "outputs": [],
   "source": [
    "# Load IDs\n",
    "with open('uniqueIDs.pkl', 'rb') as f:\n",
    "    uniqueIDs = pickle.load(f)"
   ]
  },
  {
   "cell_type": "code",
   "execution_count": 92,
   "id": "92429b67-9a1a-4c83-aba6-de283a134274",
   "metadata": {},
   "outputs": [],
   "source": [
    "all_users_folder = 'data/all_users/'"
   ]
  },
  {
   "cell_type": "markdown",
   "id": "e807b01e-ae16-41b1-91dd-f4e7ba6d5c97",
   "metadata": {},
   "source": [
    "# Winning model = model 8"
   ]
  },
  {
   "cell_type": "code",
   "execution_count": 93,
   "id": "94f41de2-a658-47e8-b1f3-50c26302cf62",
   "metadata": {},
   "outputs": [],
   "source": [
    "model_folder = all_users_folder + 'mod8/'\n",
    "data_mod = pd.read_pickle(model_folder+'mod_param_fits.pkl')\n",
    "mod_info = pd.read_pickle(model_folder+'mod_parameters.pkl')\n",
    "\n",
    "# Display stats\n",
    "data_mod_num = data_mod.apply(pd.to_numeric)\n",
    "data_mod_num.drop('ID', axis=1).describe()\n",
    "\n",
    "# Load data\n",
    "ev_per_trial = pd.read_pickle(all_users_folder + 'mod8/mod_ev_per_trial.pkl');\n",
    "p_hit_per_trial = pd.read_pickle(all_users_folder + 'mod8/mod_p_hit_per_trial.pkl');\n",
    "trialsNos = pd.read_pickle(all_users_folder + 'mod8/trialsNos.pkl');\n",
    "PEs = pd.read_pickle(all_users_folder + 'mod8/PEs.pkl');\n",
    "fbs = pd.read_pickle(all_users_folder + 'mod8/fbs.pkl');\n",
    "hits = pd.read_pickle(all_users_folder + 'mod8/hits.pkl');\n",
    "shrink_PIs = pd.read_pickle(all_users_folder + 'mod8/shrink_PIs.pkl');\n",
    "shrink_alphas = pd.read_pickle(all_users_folder + 'mod8/shrink_alphas.pkl');"
   ]
  },
  {
   "cell_type": "code",
   "execution_count": 97,
   "id": "57e01e01-880e-4015-943b-5a4c494e4d4d",
   "metadata": {},
   "outputs": [],
   "source": [
    "data_mod_num.to_excel(all_users_folder + 'excel_summary/model_param_summary.xlsx')"
   ]
  },
  {
   "cell_type": "code",
   "execution_count": 95,
   "id": "ef92f6aa-8ee0-4d24-bbe1-77c171a54281",
   "metadata": {},
   "outputs": [],
   "source": [
    "for ID in uniqueIDs:\n",
    "    \n",
    "    # Extract for ID\n",
    "    ev_singID = ev_per_trial[ev_per_trial['ID']==ID].drop('ID', axis=1, inplace=False).set_index('Cue',inplace=False)\n",
    "    pe_singID = PEs[PEs['ID']==ID].drop('ID', axis=1, inplace=False).set_index('Cue',inplace=False)\n",
    "    phit_singID = p_hit_per_trial[p_hit_per_trial['ID']==ID].drop('ID', axis=1, inplace=False).set_index('Cue',inplace=False)\n",
    "    trials_singID = trialsNos[trialsNos['ID']==ID].drop('ID', axis=1, inplace=False).set_index('Cue',inplace=False)\n",
    "    fbs_singID = fbs[fbs['ID']==ID].drop('ID', axis=1, inplace=False).set_index('Cue',inplace=False)\n",
    "    hits_singID = hits[hits['ID']==ID].drop('ID', axis=1, inplace=False).set_index('Cue',inplace=False)\n",
    "    shrink_PIs_singID = shrink_PIs[shrink_PIs['ID']==ID].drop('ID', axis=1, inplace=False).set_index('Cue',inplace=False)\n",
    "    shrink_alphas_singID = shrink_alphas[shrink_alphas['ID']==ID].drop('ID', axis=1, inplace=False).set_index('Cue',inplace=False)\n",
    "    \n",
    "    # Shifts trials PEs (starts on trial 2)\n",
    "    pe_singID_shifted = pe_singID.drop(28, axis=1, inplace=False)\n",
    "    pe_singID_shifted.columns = [col+1 for col in pe_singID_shifted.columns]\n",
    "    pe_singID_shifted.insert(0, 1, np.nan)\n",
    "\n",
    "    # Shifts trials shrinking alphas (starts on trial 2)\n",
    "    shrink_alphas_shifted = shrink_alphas_singID.drop(28, axis=1, inplace=False)\n",
    "    shrink_alphas_shifted.columns = [col+1 for col in shrink_alphas_shifted.columns]\n",
    "    shrink_alphas_shifted.insert(0, 1, np.nan)\n",
    "    \n",
    "    cue_ascending = []\n",
    "    trials_ascending = []\n",
    "    evs_ascending = []\n",
    "    pes_ascending = []\n",
    "    phits_ascending = []\n",
    "    fbs_ascending = []\n",
    "    hits_ascending = []\n",
    "    cue_trials_ascending = []\n",
    "    shrink_pis_ascending = []\n",
    "    shrink_alphas_ascending = []\n",
    "\n",
    "    Ntrials = 112\n",
    "\n",
    "    for trial in range(1,Ntrials+1):\n",
    "\n",
    "        # keep only value on specific trial\n",
    "        ev_on_trial = ev_singID[trials_singID==trial]\n",
    "        pe_on_trial = pe_singID_shifted[trials_singID==trial]\n",
    "        shrink_alphas_on_trial = shrink_alphas_shifted[trials_singID==trial]\n",
    "        shrink_pis_on_trial = shrink_PIs_singID[trials_singID==trial]\n",
    "        phit_on_trial = phit_singID[trials_singID==trial]\n",
    "        fb_on_trial = fbs_singID[trials_singID==trial]\n",
    "        hits_on_trial = hits_singID[trials_singID==trial]\n",
    "\n",
    "        # drop everything not interesting\n",
    "        cue_ev_on_trial = ev_on_trial.dropna(axis=0, how='all').dropna(axis=1)\n",
    "        cue_pe_on_trial = pe_on_trial.dropna(axis=0, how='all').dropna(axis=1)\n",
    "        cue_phit_on_trial = phit_on_trial.dropna(axis=0, how='all').dropna(axis=1)\n",
    "        cue_fb_on_trial = fb_on_trial.dropna(axis=0, how='all').dropna(axis=1)\n",
    "        cue_hits_on_trial = hits_on_trial.dropna(axis=0, how='all').dropna(axis=1)\n",
    "        cue_shrink_alpha_on_trial = shrink_alphas_on_trial.dropna(axis=0, how='all').dropna(axis=1)\n",
    "        cue_shrink_pi_on_trial = shrink_pis_on_trial.dropna(axis=0, how='all').dropna(axis=1)\n",
    "\n",
    "        # store cue\n",
    "        cue_ascending.append(cue_ev_on_trial.index[0])\n",
    "\n",
    "        # store trial\n",
    "        trials_ascending.append(trial)\n",
    "\n",
    "        # store cue_trial\n",
    "        cue_trial = cue_ev_on_trial.columns[0]\n",
    "        cue_trials_ascending.append(cue_trial)\n",
    "\n",
    "        # store EV, PE, phit, fb, hit\n",
    "        evs_ascending.append(cue_ev_on_trial.values[0][0])\n",
    "        phits_ascending.append(cue_phit_on_trial.values[0][0])\n",
    "        fbs_ascending.append(cue_fb_on_trial.values[0][0])\n",
    "        hits_ascending.append(cue_hits_on_trial.values[0][0])\n",
    "        shrink_pis_ascending.append(cue_shrink_pi_on_trial.values[0][0])\n",
    "\n",
    "        if cue_trial == 1:\n",
    "            pes_ascending.append(np.nan)\n",
    "            shrink_alphas_ascending.append(np.nan)\n",
    "        else:\n",
    "            shrink_alphas_ascending.append(cue_shrink_alpha_on_trial.values[0][0])\n",
    "            pes_ascending.append(cue_pe_on_trial.values[0][0])\n",
    "\n",
    "\n",
    "    data_per_trial = pd.DataFrame(list(zip(trials_ascending, cue_ascending, cue_trials_ascending, \n",
    "                                 pes_ascending, shrink_alphas_ascending,\n",
    "                                 evs_ascending, shrink_pis_ascending, phits_ascending, \n",
    "                                 hits_ascending, fbs_ascending)), \n",
    "                        columns=['Trial', 'Cue', 'CueTrial', \n",
    "                                 'mod_PE', 'mod_learning_rate',\n",
    "                                 'mod_EV', 'mod_bias_to_hit', 'mod_hit_probability', \n",
    "                                 'Hit', 'FB'])\n",
    "    \n",
    "    data_per_trial.to_excel(all_users_folder + 'excel_summary/userID_' + ID + '.xlsx')\n",
    "    "
   ]
  },
  {
   "cell_type": "code",
   "execution_count": null,
   "id": "94b47e0c-279a-4b17-9d18-6f48c373039a",
   "metadata": {},
   "outputs": [],
   "source": []
  }
 ],
 "metadata": {
  "kernelspec": {
   "display_name": "Python 3 (ipykernel)",
   "language": "python",
   "name": "python3"
  },
  "language_info": {
   "codemirror_mode": {
    "name": "ipython",
    "version": 3
   },
   "file_extension": ".py",
   "mimetype": "text/x-python",
   "name": "python",
   "nbconvert_exporter": "python",
   "pygments_lexer": "ipython3",
   "version": "3.8.12"
  }
 },
 "nbformat": 4,
 "nbformat_minor": 5
}
