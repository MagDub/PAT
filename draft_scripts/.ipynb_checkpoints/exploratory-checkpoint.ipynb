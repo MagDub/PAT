{
 "cells": [
  {
   "cell_type": "code",
   "execution_count": 17,
   "id": "29522f36-0e68-4c36-aebc-18d17e71bf3b",
   "metadata": {},
   "outputs": [],
   "source": [
    "import os\n",
    "import csv\n",
    "import pandas as pd\n",
    "import matplotlib.pyplot as plt"
   ]
  },
  {
   "cell_type": "code",
   "execution_count": 18,
   "id": "941dced2-1ea4-482c-b18d-f788eddcec59",
   "metadata": {},
   "outputs": [],
   "source": [
    "folder = './2. PAT/'\n",
    "files = os.listdir(folder)"
   ]
  },
  {
   "cell_type": "code",
   "execution_count": 19,
   "id": "83a797a1-a53b-4c46-81b4-0ce962ef9217",
   "metadata": {},
   "outputs": [],
   "source": [
    "# Make list of participants\n",
    "IDs = []\n",
    "for file in files:\n",
    "    IDs.append(file.split('_')[1].split('-')[0])\n",
    "\n",
    "uniqueIDs = list(set(IDs))\n",
    "uniqueIDs.sort()\n",
    "N_part = len(uniqueIDs)"
   ]
  },
  {
   "cell_type": "code",
   "execution_count": 20,
   "id": "c7c8dca5-c098-4572-8617-87fa77f38367",
   "metadata": {},
   "outputs": [],
   "source": [
    "def create_2df(file_name):\n",
    "    \n",
    "    ''' \n",
    "    Creates 2 data frames from the inputed log file \n",
    "    '''\n",
    "    \n",
    "    # Read log file\n",
    "    with open(file_name, newline = '') as file_:                                                                                          \n",
    "        file_reader = csv.reader(file_, delimiter='\\t')\n",
    "        text = list(file_reader)\n",
    "    \n",
    "    table1_index = text.index(['Subject', 'Trial', 'Event Type', 'Code', 'Time', 'TTime', 'Uncertainty', 'Duration', 'Uncertainty', 'ReqTime', 'ReqDur', 'Stim Type', 'Pair Index'])\n",
    "    table2_index = text.index(['Event Type', 'Code', 'Type', 'Response', 'RT', 'RT Uncertainty', 'Time', 'Uncertainty', 'Duration', 'Uncertainty', 'ReqTime', 'ReqDur'])\n",
    "    \n",
    "    df1 = pd.DataFrame.from_records(text[table1_index+1:table2_index])\n",
    "    df1.columns = text[table1_index]\n",
    "    df1.dropna(how='all', inplace=True)\n",
    "\n",
    "    df2 = pd.DataFrame.from_records(text[table2_index+1::])\n",
    "    df2.columns = text[table2_index]\n",
    "    df2.dropna(how='all', inplace=True)\n",
    "    \n",
    "    return df1, df2"
   ]
  },
  {
   "cell_type": "code",
   "execution_count": 21,
   "id": "d82cb5e4-66f9-4a7f-ae91-c4cdc3ce9f5e",
   "metadata": {},
   "outputs": [],
   "source": [
    "def clean_df2(df2):\n",
    "    \n",
    "    ''' \n",
    "    Remove useless rows and columns in df2\n",
    "    '''\n",
    "        \n",
    "    # Rows: Keep only hit/miss and fb trials\n",
    "    df2new = df2.drop(df2[(df2.Code=='Fix')].index, inplace=False)\n",
    "    df2new = df2new.drop(df2new[(df2new.Code=='Instruction_Run_1')].index, inplace=False)\n",
    "    df2new = df2new.drop(df2new[(df2new.Code=='Wait_for_scanner')].index, inplace=False)\n",
    "    df2new = df2new.drop(df2new[(df2new.Code=='EndText')].index, inplace=False)\n",
    "\n",
    "    # Columns: Drop unimportant columns\n",
    "    df2new = df2new.drop(columns=['RT', 'RT Uncertainty', 'Uncertainty', 'ReqTime', 'ReqDur'], inplace=False)\n",
    "    \n",
    "    return df2new"
   ]
  },
  {
   "cell_type": "code",
   "execution_count": 22,
   "id": "87fc0a3b-6b18-4068-a530-b6fb87e10dcf",
   "metadata": {},
   "outputs": [],
   "source": [
    "def reformat_cues_fb(df2):\n",
    "    \n",
    "    ''' \n",
    "    Reformat (have cues and fb in columns instead of rows after each other)\n",
    "    '''\n",
    "    \n",
    "    df2_cues = df2[0::2]\n",
    "    df2_cues.reset_index(inplace=True)\n",
    "\n",
    "    df2_fb = df2[1::2]\n",
    "    df2_fb.reset_index(inplace=True)\n",
    "    \n",
    "    # Change names to avoid duplicates\n",
    "    df2_fb.set_axis(['FB index', 'FB Event Type', 'FB Code', 'FB Type', 'FB Response', 'FB Time', 'FB Duration'], axis=1, inplace=True) \n",
    "\n",
    "    df2_new = pd.concat([df2_cues, df2_fb], axis=1)\n",
    "    \n",
    "    return df2_new"
   ]
  },
  {
   "cell_type": "code",
   "execution_count": 23,
   "id": "2f12e4b7-2894-45d2-8819-62615a6ace21",
   "metadata": {},
   "outputs": [],
   "source": [
    "def count_fb_by_cue(df2):\n",
    "    \n",
    "    ''' \n",
    "    Count the recieved fb split in cue condition\n",
    "    '''\n",
    "    \n",
    "    # Create an empty df with all columns and rows names\n",
    "    FB_values = ['FB_1','FB_-1','FB_5','FB_-5','FB_no_1','FB_no_-1','FB_no_5','FB_no_-5']\n",
    "    cue_values = list(sorted(set(df2['Code'])))\n",
    "    big_df = pd.DataFrame([],columns=cue_values, index=FB_values)\n",
    "\n",
    "    for cue_value in cue_values:\n",
    "\n",
    "        # for each cue condition create df with the counts\n",
    "        small_df = df2[df2['Code']==cue_value]['FB Code'].value_counts().to_frame(cue_value)\n",
    "\n",
    "        # fill in the df\n",
    "        big_df = big_df.combine_first(small_df)\n",
    "\n",
    "    df2_count = big_df\n",
    "    \n",
    "    return df2_count"
   ]
  },
  {
   "cell_type": "code",
   "execution_count": 24,
   "id": "ca4647cd-4aac-4569-81f0-35c9d0420e38",
   "metadata": {},
   "outputs": [],
   "source": [
    "list_hit = []\n",
    "list_miss = []\n",
    "\n",
    "for ID in uniqueIDs:\n",
    "    \n",
    "    # Extract data into 2 dfs (for run1 and run2)\n",
    "    df1_run1, df2_run1 = create_2df(folder + 'MARS_' + ID + '-PA_europ.log')\n",
    "    df1_run2, df2_run2 = create_2df(folder + 'MARS_' + ID + '-PA_europ1.log') \n",
    "\n",
    "    # Focus on df2 becase has hit/miss/FB info\n",
    "\n",
    "    # Clean (remove useless rows and cols)\n",
    "    df2_run1_c = clean_df2(df2_run1)\n",
    "\n",
    "    # Reformat (have fb in a column instead of row below)\n",
    "    df2_run1_cf = reformat_cues_fb(df2_run1_c)\n",
    "\n",
    "    # Count fb for each cue\n",
    "    df2_run1_count = count_fb_by_cue(df2_run1_cf)\n",
    "\n",
    "    # Split in hit and miss\n",
    "    df2_run1_count_hit = df2_run1_count.loc[['FB_1','FB_-1','FB_5','FB_-5']]\n",
    "    df2_run1_count_miss = df2_run1_count.loc[['FB_no_1','FB_no_-1','FB_no_5','FB_no_-5']]\n",
    "\n",
    "    # Append hit and miss arrays to specific lists\n",
    "    list_hit.append(df2_run1_count_hit.fillna(0).values)\n",
    "    list_miss.append(df2_run1_count_miss.fillna(0).values)"
   ]
  },
  {
   "cell_type": "code",
   "execution_count": 25,
   "id": "e1322d94-03d8-4507-8eb7-6cf9821e0aeb",
   "metadata": {},
   "outputs": [],
   "source": [
    "# Compute averages\n",
    "mean_hit = sum(list_hit)/len(list_hit)\n",
    "mean_miss = sum(list_miss)/len(list_miss)\n",
    "\n",
    "# Convert back to dataframe\n",
    "df_hit = pd.DataFrame(data=mean_hit, index=df2_run1_count_hit.index, columns=df2_run1_count_hit.columns)\n",
    "df_miss = pd.DataFrame(data=mean_miss, index=df2_run1_count_miss.index, columns=df2_run1_count_miss.columns)"
   ]
  },
  {
   "cell_type": "code",
   "execution_count": 26,
   "id": "522a511c-7ffb-4009-98ce-bae2c485298c",
   "metadata": {},
   "outputs": [
    {
     "data": {
      "image/png": "[encoded data removed]",
      "text/plain": [
       "<Figure size 1440x432 with 2 Axes>"
      ]
     },
     "metadata": {
      "needs_background": "light"
     },
     "output_type": "display_data"
    }
   ],
   "source": [
    "fig = plt.figure(figsize=(20,6))\n",
    "\n",
    "ax1 = fig.add_subplot(121)\n",
    "ax1.set_title(\"Hit\", fontsize=25)\n",
    "plt.ylabel('Count', fontsize=22)\n",
    "df_hit.transpose().plot.bar(ax=ax1)\n",
    "plt.legend(loc=\"upper left\")\n",
    "plt.xticks([0, 1, 2, 3], ['High \\n Punishment', 'High \\n Reward', 'Low \\n Punishment', 'Low \\n Reward'], rotation=360)\n",
    "\n",
    "ax2 = fig.add_subplot(122)\n",
    "ax2.set_title(\"Miss\", fontsize=25)\n",
    "plt.ylabel('Count', fontsize=22)\n",
    "df_miss.transpose().plot.bar(ax=ax2)\n",
    "plt.legend(loc=\"upper right\")\n",
    "plt.xticks([0, 1, 2, 3], ['High \\n Punishment', 'High \\n Reward', 'Low \\n Punishment', 'Low \\n Reward'], rotation=360)\n",
    "\n",
    "plt.show()"
   ]
  },
  {
   "cell_type": "code",
   "execution_count": null,
   "id": "140b7ca4-59f0-4cf3-b386-f4eba5a85f58",
   "metadata": {},
   "outputs": [],
   "source": [
    "# Now plotting average: plot with SD and all points like in matlab \n",
    "# this is for run1, do it for run2 as well; or see if it makes sense to concatenate them (probably does because now the max count is 5...not much)"
   ]
  }
 ],
 "metadata": {
  "kernelspec": {
   "display_name": "Python 3 (ipykernel)",
   "language": "python",
   "name": "python3"
  },
  "language_info": {
   "codemirror_mode": {
    "name": "ipython",
    "version": 3
   },
   "file_extension": ".py",
   "mimetype": "text/x-python",
   "name": "python",
   "nbconvert_exporter": "python",
   "pygments_lexer": "ipython3",
   "version": "3.7.4"
  }
 },
 "nbformat": 4,
 "nbformat_minor": 5
}
